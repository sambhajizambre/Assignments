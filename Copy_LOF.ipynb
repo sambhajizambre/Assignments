{
  "nbformat": 4,
  "nbformat_minor": 0,
  "metadata": {
    "colab": {
      "provenance": [],
      "mount_file_id": "1SdE9ff_IRYKEqgqbpJmFxhQrWF33jRHY",
      "authorship_tag": "ABX9TyP9hOaAqc/kxylzDlCF5uuz",
      "include_colab_link": true
    },
    "kernelspec": {
      "name": "python3",
      "display_name": "Python 3"
    },
    "language_info": {
      "name": "python"
    }
  },
  "cells": [
    {
      "cell_type": "markdown",
      "metadata": {
        "id": "view-in-github",
        "colab_type": "text"
      },
      "source": [
        "<a href=\"https://colab.research.google.com/github/sambhajizambre/Assignments/blob/main/Copy_LOF.ipynb\" target=\"_parent\"><img src=\"https://colab.research.google.com/assets/colab-badge.svg\" alt=\"Open In Colab\"/></a>"
      ]
    },
    {
      "cell_type": "code",
      "execution_count": 1,
      "metadata": {
        "id": "n85FbwONg5p7"
      },
      "outputs": [],
      "source": [
        "import numpy as np\n",
        "import pandas as pd \n",
        "import matplotlib.pyplot as plt\n",
        "from numpy import percentile\n",
        "import seaborn as sns\n",
        "import matplotlib\n",
        "\n",
        "from sklearn.preprocessing import StandardScaler\n",
        "from sklearn.preprocessing import MinMaxScaler\n",
        "from sklearn.neighbors import LocalOutlierFactor\n",
        "from numpy import quantile, where, random"
      ]
    },
    {
      "cell_type": "markdown",
      "source": [
        "# Preparing the dataset\n"
      ],
      "metadata": {
        "id": "G0U8dkK7x9at"
      }
    },
    {
      "cell_type": "code",
      "source": [
        "df= pd.read_csv(\"/content/drive/MyDrive/python/superstore.csv\")\n",
        "df.head(2)"
      ],
      "metadata": {
        "colab": {
          "base_uri": "https://localhost:8080/",
          "height": 344
        },
        "id": "ik5yDjA_jnB7",
        "outputId": "398ff557-0e2b-47f7-b8e8-76e4bf92c2c5"
      },
      "execution_count": 2,
      "outputs": [
        {
          "output_type": "execute_result",
          "data": {
            "text/plain": [
              "   Row ID        Order ID Order Date   Ship Date     Ship Mode Customer ID  \\\n",
              "0       1  CA-2016-152156  11/8/2016  11/11/2016  Second Class    CG-12520   \n",
              "1       2  CA-2016-152156  11/8/2016  11/11/2016  Second Class    CG-12520   \n",
              "\n",
              "  Customer Name   Segment        Country       City  ... Postal Code  Region  \\\n",
              "0   Claire Gute  Consumer  United States  Henderson  ...       42420   South   \n",
              "1   Claire Gute  Consumer  United States  Henderson  ...       42420   South   \n",
              "\n",
              "        Product ID   Category Sub-Category  \\\n",
              "0  FUR-BO-10001798  Furniture    Bookcases   \n",
              "1  FUR-CH-10000454  Furniture       Chairs   \n",
              "\n",
              "                                        Product Name   Sales  Quantity  \\\n",
              "0                  Bush Somerset Collection Bookcase  261.96         2   \n",
              "1  Hon Deluxe Fabric Upholstered Stacking Chairs,...  731.94         3   \n",
              "\n",
              "   Discount    Profit  \n",
              "0       0.0   41.9136  \n",
              "1       0.0  219.5820  \n",
              "\n",
              "[2 rows x 21 columns]"
            ],
            "text/html": [
              "\n",
              "  <div id=\"df-b1399530-1cea-4bc2-8035-358e4078ac30\">\n",
              "    <div class=\"colab-df-container\">\n",
              "      <div>\n",
              "<style scoped>\n",
              "    .dataframe tbody tr th:only-of-type {\n",
              "        vertical-align: middle;\n",
              "    }\n",
              "\n",
              "    .dataframe tbody tr th {\n",
              "        vertical-align: top;\n",
              "    }\n",
              "\n",
              "    .dataframe thead th {\n",
              "        text-align: right;\n",
              "    }\n",
              "</style>\n",
              "<table border=\"1\" class=\"dataframe\">\n",
              "  <thead>\n",
              "    <tr style=\"text-align: right;\">\n",
              "      <th></th>\n",
              "      <th>Row ID</th>\n",
              "      <th>Order ID</th>\n",
              "      <th>Order Date</th>\n",
              "      <th>Ship Date</th>\n",
              "      <th>Ship Mode</th>\n",
              "      <th>Customer ID</th>\n",
              "      <th>Customer Name</th>\n",
              "      <th>Segment</th>\n",
              "      <th>Country</th>\n",
              "      <th>City</th>\n",
              "      <th>...</th>\n",
              "      <th>Postal Code</th>\n",
              "      <th>Region</th>\n",
              "      <th>Product ID</th>\n",
              "      <th>Category</th>\n",
              "      <th>Sub-Category</th>\n",
              "      <th>Product Name</th>\n",
              "      <th>Sales</th>\n",
              "      <th>Quantity</th>\n",
              "      <th>Discount</th>\n",
              "      <th>Profit</th>\n",
              "    </tr>\n",
              "  </thead>\n",
              "  <tbody>\n",
              "    <tr>\n",
              "      <th>0</th>\n",
              "      <td>1</td>\n",
              "      <td>CA-2016-152156</td>\n",
              "      <td>11/8/2016</td>\n",
              "      <td>11/11/2016</td>\n",
              "      <td>Second Class</td>\n",
              "      <td>CG-12520</td>\n",
              "      <td>Claire Gute</td>\n",
              "      <td>Consumer</td>\n",
              "      <td>United States</td>\n",
              "      <td>Henderson</td>\n",
              "      <td>...</td>\n",
              "      <td>42420</td>\n",
              "      <td>South</td>\n",
              "      <td>FUR-BO-10001798</td>\n",
              "      <td>Furniture</td>\n",
              "      <td>Bookcases</td>\n",
              "      <td>Bush Somerset Collection Bookcase</td>\n",
              "      <td>261.96</td>\n",
              "      <td>2</td>\n",
              "      <td>0.0</td>\n",
              "      <td>41.9136</td>\n",
              "    </tr>\n",
              "    <tr>\n",
              "      <th>1</th>\n",
              "      <td>2</td>\n",
              "      <td>CA-2016-152156</td>\n",
              "      <td>11/8/2016</td>\n",
              "      <td>11/11/2016</td>\n",
              "      <td>Second Class</td>\n",
              "      <td>CG-12520</td>\n",
              "      <td>Claire Gute</td>\n",
              "      <td>Consumer</td>\n",
              "      <td>United States</td>\n",
              "      <td>Henderson</td>\n",
              "      <td>...</td>\n",
              "      <td>42420</td>\n",
              "      <td>South</td>\n",
              "      <td>FUR-CH-10000454</td>\n",
              "      <td>Furniture</td>\n",
              "      <td>Chairs</td>\n",
              "      <td>Hon Deluxe Fabric Upholstered Stacking Chairs,...</td>\n",
              "      <td>731.94</td>\n",
              "      <td>3</td>\n",
              "      <td>0.0</td>\n",
              "      <td>219.5820</td>\n",
              "    </tr>\n",
              "  </tbody>\n",
              "</table>\n",
              "<p>2 rows × 21 columns</p>\n",
              "</div>\n",
              "      <button class=\"colab-df-convert\" onclick=\"convertToInteractive('df-b1399530-1cea-4bc2-8035-358e4078ac30')\"\n",
              "              title=\"Convert this dataframe to an interactive table.\"\n",
              "              style=\"display:none;\">\n",
              "        \n",
              "  <svg xmlns=\"http://www.w3.org/2000/svg\" height=\"24px\"viewBox=\"0 0 24 24\"\n",
              "       width=\"24px\">\n",
              "    <path d=\"M0 0h24v24H0V0z\" fill=\"none\"/>\n",
              "    <path d=\"M18.56 5.44l.94 2.06.94-2.06 2.06-.94-2.06-.94-.94-2.06-.94 2.06-2.06.94zm-11 1L8.5 8.5l.94-2.06 2.06-.94-2.06-.94L8.5 2.5l-.94 2.06-2.06.94zm10 10l.94 2.06.94-2.06 2.06-.94-2.06-.94-.94-2.06-.94 2.06-2.06.94z\"/><path d=\"M17.41 7.96l-1.37-1.37c-.4-.4-.92-.59-1.43-.59-.52 0-1.04.2-1.43.59L10.3 9.45l-7.72 7.72c-.78.78-.78 2.05 0 2.83L4 21.41c.39.39.9.59 1.41.59.51 0 1.02-.2 1.41-.59l7.78-7.78 2.81-2.81c.8-.78.8-2.07 0-2.86zM5.41 20L4 18.59l7.72-7.72 1.47 1.35L5.41 20z\"/>\n",
              "  </svg>\n",
              "      </button>\n",
              "      \n",
              "  <style>\n",
              "    .colab-df-container {\n",
              "      display:flex;\n",
              "      flex-wrap:wrap;\n",
              "      gap: 12px;\n",
              "    }\n",
              "\n",
              "    .colab-df-convert {\n",
              "      background-color: #E8F0FE;\n",
              "      border: none;\n",
              "      border-radius: 50%;\n",
              "      cursor: pointer;\n",
              "      display: none;\n",
              "      fill: #1967D2;\n",
              "      height: 32px;\n",
              "      padding: 0 0 0 0;\n",
              "      width: 32px;\n",
              "    }\n",
              "\n",
              "    .colab-df-convert:hover {\n",
              "      background-color: #E2EBFA;\n",
              "      box-shadow: 0px 1px 2px rgba(60, 64, 67, 0.3), 0px 1px 3px 1px rgba(60, 64, 67, 0.15);\n",
              "      fill: #174EA6;\n",
              "    }\n",
              "\n",
              "    [theme=dark] .colab-df-convert {\n",
              "      background-color: #3B4455;\n",
              "      fill: #D2E3FC;\n",
              "    }\n",
              "\n",
              "    [theme=dark] .colab-df-convert:hover {\n",
              "      background-color: #434B5C;\n",
              "      box-shadow: 0px 1px 3px 1px rgba(0, 0, 0, 0.15);\n",
              "      filter: drop-shadow(0px 1px 2px rgba(0, 0, 0, 0.3));\n",
              "      fill: #FFFFFF;\n",
              "    }\n",
              "  </style>\n",
              "\n",
              "      <script>\n",
              "        const buttonEl =\n",
              "          document.querySelector('#df-b1399530-1cea-4bc2-8035-358e4078ac30 button.colab-df-convert');\n",
              "        buttonEl.style.display =\n",
              "          google.colab.kernel.accessAllowed ? 'block' : 'none';\n",
              "\n",
              "        async function convertToInteractive(key) {\n",
              "          const element = document.querySelector('#df-b1399530-1cea-4bc2-8035-358e4078ac30');\n",
              "          const dataTable =\n",
              "            await google.colab.kernel.invokeFunction('convertToInteractive',\n",
              "                                                     [key], {});\n",
              "          if (!dataTable) return;\n",
              "\n",
              "          const docLinkHtml = 'Like what you see? Visit the ' +\n",
              "            '<a target=\"_blank\" href=https://colab.research.google.com/notebooks/data_table.ipynb>data table notebook</a>'\n",
              "            + ' to learn more about interactive tables.';\n",
              "          element.innerHTML = '';\n",
              "          dataTable['output_type'] = 'display_data';\n",
              "          await google.colab.output.renderOutput(dataTable, element);\n",
              "          const docLink = document.createElement('div');\n",
              "          docLink.innerHTML = docLinkHtml;\n",
              "          element.appendChild(docLink);\n",
              "        }\n",
              "      </script>\n",
              "    </div>\n",
              "  </div>\n",
              "  "
            ]
          },
          "metadata": {},
          "execution_count": 2
        }
      ]
    },
    {
      "cell_type": "code",
      "source": [
        "df.describe()"
      ],
      "metadata": {
        "colab": {
          "base_uri": "https://localhost:8080/",
          "height": 300
        },
        "id": "B2yCLSPcyFFF",
        "outputId": "66fe18e3-666d-420d-a982-8a05dcae9f81"
      },
      "execution_count": 3,
      "outputs": [
        {
          "output_type": "execute_result",
          "data": {
            "text/plain": [
              "            Row ID   Postal Code         Sales     Quantity     Discount  \\\n",
              "count  9994.000000   9994.000000   9994.000000  9994.000000  9994.000000   \n",
              "mean   4997.500000  55190.379428    229.858001     3.789574     0.156203   \n",
              "std    2885.163629  32063.693350    623.245101     2.225110     0.206452   \n",
              "min       1.000000   1040.000000      0.444000     1.000000     0.000000   \n",
              "25%    2499.250000  23223.000000     17.280000     2.000000     0.000000   \n",
              "50%    4997.500000  56430.500000     54.490000     3.000000     0.200000   \n",
              "75%    7495.750000  90008.000000    209.940000     5.000000     0.200000   \n",
              "max    9994.000000  99301.000000  22638.480000    14.000000     0.800000   \n",
              "\n",
              "            Profit  \n",
              "count  9994.000000  \n",
              "mean     28.656896  \n",
              "std     234.260108  \n",
              "min   -6599.978000  \n",
              "25%       1.728750  \n",
              "50%       8.666500  \n",
              "75%      29.364000  \n",
              "max    8399.976000  "
            ],
            "text/html": [
              "\n",
              "  <div id=\"df-1771bb2d-bcbb-4932-8749-81a199ad2a3a\">\n",
              "    <div class=\"colab-df-container\">\n",
              "      <div>\n",
              "<style scoped>\n",
              "    .dataframe tbody tr th:only-of-type {\n",
              "        vertical-align: middle;\n",
              "    }\n",
              "\n",
              "    .dataframe tbody tr th {\n",
              "        vertical-align: top;\n",
              "    }\n",
              "\n",
              "    .dataframe thead th {\n",
              "        text-align: right;\n",
              "    }\n",
              "</style>\n",
              "<table border=\"1\" class=\"dataframe\">\n",
              "  <thead>\n",
              "    <tr style=\"text-align: right;\">\n",
              "      <th></th>\n",
              "      <th>Row ID</th>\n",
              "      <th>Postal Code</th>\n",
              "      <th>Sales</th>\n",
              "      <th>Quantity</th>\n",
              "      <th>Discount</th>\n",
              "      <th>Profit</th>\n",
              "    </tr>\n",
              "  </thead>\n",
              "  <tbody>\n",
              "    <tr>\n",
              "      <th>count</th>\n",
              "      <td>9994.000000</td>\n",
              "      <td>9994.000000</td>\n",
              "      <td>9994.000000</td>\n",
              "      <td>9994.000000</td>\n",
              "      <td>9994.000000</td>\n",
              "      <td>9994.000000</td>\n",
              "    </tr>\n",
              "    <tr>\n",
              "      <th>mean</th>\n",
              "      <td>4997.500000</td>\n",
              "      <td>55190.379428</td>\n",
              "      <td>229.858001</td>\n",
              "      <td>3.789574</td>\n",
              "      <td>0.156203</td>\n",
              "      <td>28.656896</td>\n",
              "    </tr>\n",
              "    <tr>\n",
              "      <th>std</th>\n",
              "      <td>2885.163629</td>\n",
              "      <td>32063.693350</td>\n",
              "      <td>623.245101</td>\n",
              "      <td>2.225110</td>\n",
              "      <td>0.206452</td>\n",
              "      <td>234.260108</td>\n",
              "    </tr>\n",
              "    <tr>\n",
              "      <th>min</th>\n",
              "      <td>1.000000</td>\n",
              "      <td>1040.000000</td>\n",
              "      <td>0.444000</td>\n",
              "      <td>1.000000</td>\n",
              "      <td>0.000000</td>\n",
              "      <td>-6599.978000</td>\n",
              "    </tr>\n",
              "    <tr>\n",
              "      <th>25%</th>\n",
              "      <td>2499.250000</td>\n",
              "      <td>23223.000000</td>\n",
              "      <td>17.280000</td>\n",
              "      <td>2.000000</td>\n",
              "      <td>0.000000</td>\n",
              "      <td>1.728750</td>\n",
              "    </tr>\n",
              "    <tr>\n",
              "      <th>50%</th>\n",
              "      <td>4997.500000</td>\n",
              "      <td>56430.500000</td>\n",
              "      <td>54.490000</td>\n",
              "      <td>3.000000</td>\n",
              "      <td>0.200000</td>\n",
              "      <td>8.666500</td>\n",
              "    </tr>\n",
              "    <tr>\n",
              "      <th>75%</th>\n",
              "      <td>7495.750000</td>\n",
              "      <td>90008.000000</td>\n",
              "      <td>209.940000</td>\n",
              "      <td>5.000000</td>\n",
              "      <td>0.200000</td>\n",
              "      <td>29.364000</td>\n",
              "    </tr>\n",
              "    <tr>\n",
              "      <th>max</th>\n",
              "      <td>9994.000000</td>\n",
              "      <td>99301.000000</td>\n",
              "      <td>22638.480000</td>\n",
              "      <td>14.000000</td>\n",
              "      <td>0.800000</td>\n",
              "      <td>8399.976000</td>\n",
              "    </tr>\n",
              "  </tbody>\n",
              "</table>\n",
              "</div>\n",
              "      <button class=\"colab-df-convert\" onclick=\"convertToInteractive('df-1771bb2d-bcbb-4932-8749-81a199ad2a3a')\"\n",
              "              title=\"Convert this dataframe to an interactive table.\"\n",
              "              style=\"display:none;\">\n",
              "        \n",
              "  <svg xmlns=\"http://www.w3.org/2000/svg\" height=\"24px\"viewBox=\"0 0 24 24\"\n",
              "       width=\"24px\">\n",
              "    <path d=\"M0 0h24v24H0V0z\" fill=\"none\"/>\n",
              "    <path d=\"M18.56 5.44l.94 2.06.94-2.06 2.06-.94-2.06-.94-.94-2.06-.94 2.06-2.06.94zm-11 1L8.5 8.5l.94-2.06 2.06-.94-2.06-.94L8.5 2.5l-.94 2.06-2.06.94zm10 10l.94 2.06.94-2.06 2.06-.94-2.06-.94-.94-2.06-.94 2.06-2.06.94z\"/><path d=\"M17.41 7.96l-1.37-1.37c-.4-.4-.92-.59-1.43-.59-.52 0-1.04.2-1.43.59L10.3 9.45l-7.72 7.72c-.78.78-.78 2.05 0 2.83L4 21.41c.39.39.9.59 1.41.59.51 0 1.02-.2 1.41-.59l7.78-7.78 2.81-2.81c.8-.78.8-2.07 0-2.86zM5.41 20L4 18.59l7.72-7.72 1.47 1.35L5.41 20z\"/>\n",
              "  </svg>\n",
              "      </button>\n",
              "      \n",
              "  <style>\n",
              "    .colab-df-container {\n",
              "      display:flex;\n",
              "      flex-wrap:wrap;\n",
              "      gap: 12px;\n",
              "    }\n",
              "\n",
              "    .colab-df-convert {\n",
              "      background-color: #E8F0FE;\n",
              "      border: none;\n",
              "      border-radius: 50%;\n",
              "      cursor: pointer;\n",
              "      display: none;\n",
              "      fill: #1967D2;\n",
              "      height: 32px;\n",
              "      padding: 0 0 0 0;\n",
              "      width: 32px;\n",
              "    }\n",
              "\n",
              "    .colab-df-convert:hover {\n",
              "      background-color: #E2EBFA;\n",
              "      box-shadow: 0px 1px 2px rgba(60, 64, 67, 0.3), 0px 1px 3px 1px rgba(60, 64, 67, 0.15);\n",
              "      fill: #174EA6;\n",
              "    }\n",
              "\n",
              "    [theme=dark] .colab-df-convert {\n",
              "      background-color: #3B4455;\n",
              "      fill: #D2E3FC;\n",
              "    }\n",
              "\n",
              "    [theme=dark] .colab-df-convert:hover {\n",
              "      background-color: #434B5C;\n",
              "      box-shadow: 0px 1px 3px 1px rgba(0, 0, 0, 0.15);\n",
              "      filter: drop-shadow(0px 1px 2px rgba(0, 0, 0, 0.3));\n",
              "      fill: #FFFFFF;\n",
              "    }\n",
              "  </style>\n",
              "\n",
              "      <script>\n",
              "        const buttonEl =\n",
              "          document.querySelector('#df-1771bb2d-bcbb-4932-8749-81a199ad2a3a button.colab-df-convert');\n",
              "        buttonEl.style.display =\n",
              "          google.colab.kernel.accessAllowed ? 'block' : 'none';\n",
              "\n",
              "        async function convertToInteractive(key) {\n",
              "          const element = document.querySelector('#df-1771bb2d-bcbb-4932-8749-81a199ad2a3a');\n",
              "          const dataTable =\n",
              "            await google.colab.kernel.invokeFunction('convertToInteractive',\n",
              "                                                     [key], {});\n",
              "          if (!dataTable) return;\n",
              "\n",
              "          const docLinkHtml = 'Like what you see? Visit the ' +\n",
              "            '<a target=\"_blank\" href=https://colab.research.google.com/notebooks/data_table.ipynb>data table notebook</a>'\n",
              "            + ' to learn more about interactive tables.';\n",
              "          element.innerHTML = '';\n",
              "          dataTable['output_type'] = 'display_data';\n",
              "          await google.colab.output.renderOutput(dataTable, element);\n",
              "          const docLink = document.createElement('div');\n",
              "          docLink.innerHTML = docLinkHtml;\n",
              "          element.appendChild(docLink);\n",
              "        }\n",
              "      </script>\n",
              "    </div>\n",
              "  </div>\n",
              "  "
            ]
          },
          "metadata": {},
          "execution_count": 3
        }
      ]
    },
    {
      "cell_type": "code",
      "source": [
        "df.isna().sum()"
      ],
      "metadata": {
        "colab": {
          "base_uri": "https://localhost:8080/"
        },
        "id": "7VHXZE5YyRZ_",
        "outputId": "b58edbb3-b2bb-4e7c-fb5c-e8f46888e540"
      },
      "execution_count": 4,
      "outputs": [
        {
          "output_type": "execute_result",
          "data": {
            "text/plain": [
              "Row ID           0\n",
              "Order ID         0\n",
              "Order Date       0\n",
              "Ship Date        0\n",
              "Ship Mode        0\n",
              "Customer ID      0\n",
              "Customer Name    0\n",
              "Segment          0\n",
              "Country          0\n",
              "City             0\n",
              "State            0\n",
              "Postal Code      0\n",
              "Region           0\n",
              "Product ID       0\n",
              "Category         0\n",
              "Sub-Category     0\n",
              "Product Name     0\n",
              "Sales            0\n",
              "Quantity         0\n",
              "Discount         0\n",
              "Profit           0\n",
              "dtype: int64"
            ]
          },
          "metadata": {},
          "execution_count": 4
        }
      ]
    },
    {
      "cell_type": "code",
      "source": [
        "df.shape"
      ],
      "metadata": {
        "colab": {
          "base_uri": "https://localhost:8080/"
        },
        "id": "74fGbZLryaSx",
        "outputId": "3d96b279-51dc-4f7e-aabd-7d8075a2245d"
      },
      "execution_count": 5,
      "outputs": [
        {
          "output_type": "execute_result",
          "data": {
            "text/plain": [
              "(9994, 21)"
            ]
          },
          "metadata": {},
          "execution_count": 5
        }
      ]
    },
    {
      "cell_type": "markdown",
      "source": [
        "# Sales Variable Analysis"
      ],
      "metadata": {
        "id": "msrZb-cC5vcO"
      }
    },
    {
      "cell_type": "code",
      "source": [
        "df.Sales.describe()"
      ],
      "metadata": {
        "colab": {
          "base_uri": "https://localhost:8080/"
        },
        "id": "kzPsLyKn5sM_",
        "outputId": "43d8a354-7547-412b-fbc3-4ea918db566e"
      },
      "execution_count": 6,
      "outputs": [
        {
          "output_type": "execute_result",
          "data": {
            "text/plain": [
              "count     9994.000000\n",
              "mean       229.858001\n",
              "std        623.245101\n",
              "min          0.444000\n",
              "25%         17.280000\n",
              "50%         54.490000\n",
              "75%        209.940000\n",
              "max      22638.480000\n",
              "Name: Sales, dtype: float64"
            ]
          },
          "metadata": {},
          "execution_count": 6
        }
      ]
    },
    {
      "cell_type": "code",
      "source": [
        "plt.scatter(range(df.shape[0]), np.sort(df['Sales'].values))\n",
        "plt.xlabel('index')\n",
        "plt.ylabel('Sales')\n",
        "plt.title(\"Sales distribution\")\n"
      ],
      "metadata": {
        "colab": {
          "base_uri": "https://localhost:8080/",
          "height": 313
        },
        "id": "Ebf9069z592y",
        "outputId": "70f0f67e-45da-4ef9-a5fe-4d4a3645c50b"
      },
      "execution_count": 8,
      "outputs": [
        {
          "output_type": "execute_result",
          "data": {
            "text/plain": [
              "Text(0.5, 1.0, 'Sales distribution')"
            ]
          },
          "metadata": {},
          "execution_count": 8
        },
        {
          "output_type": "display_data",
          "data": {
            "text/plain": [
              "<Figure size 432x288 with 1 Axes>"
            ],
            "image/png": "[encoded data removed]"
          },
          "metadata": {
            "needs_background": "light"
          }
        }
      ]
    },
    {
      "cell_type": "code",
      "source": [
        "sns.distplot(df['Sales'])\n",
        "plt.title(\"Distribution of Sales\")\n"
      ],
      "metadata": {
        "colab": {
          "base_uri": "https://localhost:8080/",
          "height": 370
        },
        "id": "mfCIuvvxh5Y9",
        "outputId": "ff0d26ae-2bb2-4061-e92a-b6149832e4e1"
      },
      "execution_count": 10,
      "outputs": [
        {
          "output_type": "stream",
          "name": "stderr",
          "text": [
            "/usr/local/lib/python3.7/dist-packages/seaborn/distributions.py:2619: FutureWarning: `distplot` is a deprecated function and will be removed in a future version. Please adapt your code to use either `displot` (a figure-level function with similar flexibility) or `histplot` (an axes-level function for histograms).\n",
            "  warnings.warn(msg, FutureWarning)\n"
          ]
        },
        {
          "output_type": "execute_result",
          "data": {
            "text/plain": [
              "Text(0.5, 1.0, 'Distribution of Sales')"
            ]
          },
          "metadata": {},
          "execution_count": 10
        },
        {
          "output_type": "display_data",
          "data": {
            "text/plain": [
              "<Figure size 432x288 with 1 Axes>"
            ],
            "image/png": "[encoded data removed]"
          },
          "metadata": {
            "needs_background": "light"
          }
        }
      ]
    },
    {
      "cell_type": "code",
      "source": [
        "print(\"Skewness: %f\" % df['Sales'].skew())\n",
        "print(\"Kurtosis: %f\" % df['Sales'].kurt())"
      ],
      "metadata": {
        "colab": {
          "base_uri": "https://localhost:8080/"
        },
        "id": "HEE1B6p_h5V5",
        "outputId": "89c6864c-f066-4f76-a8b5-86937f8b5216"
      },
      "execution_count": 11,
      "outputs": [
        {
          "output_type": "stream",
          "name": "stdout",
          "text": [
            "Skewness: 12.972752\n",
            "Kurtosis: 305.311753\n"
          ]
        }
      ]
    },
    {
      "cell_type": "markdown",
      "source": [
        "The Superstore’s sales distribution is far from a normal distribution, and it has a positive long thin tail, the mass of the distribution is concentrated on the left of the figure. And the tail sales distribution far exceeds the tails of the normal distribution. There are one region where the data has low probability to appear which is on the right side of the distribution."
      ],
      "metadata": {
        "id": "puGM6KTmiKC8"
      }
    },
    {
      "cell_type": "markdown",
      "source": [
        "# Profit Variable Analysis"
      ],
      "metadata": {
        "id": "wn088OJtiS4C"
      }
    },
    {
      "cell_type": "code",
      "source": [
        "df.Profit.describe()"
      ],
      "metadata": {
        "colab": {
          "base_uri": "https://localhost:8080/"
        },
        "id": "5RpZlhUqh5SS",
        "outputId": "86276b7d-589b-476f-a6ae-f0ee4d3b7fd5"
      },
      "execution_count": 12,
      "outputs": [
        {
          "output_type": "execute_result",
          "data": {
            "text/plain": [
              "count    9994.000000\n",
              "mean       28.656896\n",
              "std       234.260108\n",
              "min     -6599.978000\n",
              "25%         1.728750\n",
              "50%         8.666500\n",
              "75%        29.364000\n",
              "max      8399.976000\n",
              "Name: Profit, dtype: float64"
            ]
          },
          "metadata": {},
          "execution_count": 12
        }
      ]
    },
    {
      "cell_type": "code",
      "source": [
        "plt.scatter(range(df.shape[0]), np.sort(df['Profit'].values))\n",
        "plt.xlabel('index')\n",
        "plt.ylabel('Profit')\n",
        "plt.title(\"Profit distribution\")\n",
        "sns.despine()"
      ],
      "metadata": {
        "colab": {
          "base_uri": "https://localhost:8080/",
          "height": 295
        },
        "id": "ud3b3_fEh5Po",
        "outputId": "e8a20f61-4c5d-43c4-dc31-0769407d958c"
      },
      "execution_count": 13,
      "outputs": [
        {
          "output_type": "display_data",
          "data": {
            "text/plain": [
              "<Figure size 432x288 with 1 Axes>"
            ],
            "image/png": "[encoded data removed]"
          },
          "metadata": {
            "needs_background": "light"
          }
        }
      ]
    },
    {
      "cell_type": "code",
      "source": [
        "sns.distplot(df['Profit'])\n",
        "plt.title(\"Distribution of Profit\")\n",
        "sns.despine()"
      ],
      "metadata": {
        "colab": {
          "base_uri": "https://localhost:8080/",
          "height": 352
        },
        "id": "daJy95jYh5L5",
        "outputId": "84ef807d-f32f-4cf2-bb72-cd1609494ff5"
      },
      "execution_count": 14,
      "outputs": [
        {
          "output_type": "stream",
          "name": "stderr",
          "text": [
            "/usr/local/lib/python3.7/dist-packages/seaborn/distributions.py:2619: FutureWarning: `distplot` is a deprecated function and will be removed in a future version. Please adapt your code to use either `displot` (a figure-level function with similar flexibility) or `histplot` (an axes-level function for histograms).\n",
            "  warnings.warn(msg, FutureWarning)\n"
          ]
        },
        {
          "output_type": "display_data",
          "data": {
            "text/plain": [
              "<Figure size 432x288 with 1 Axes>"
            ],
            "image/png": "[encoded data removed]"
          },
          "metadata": {
            "needs_background": "light"
          }
        }
      ]
    },
    {
      "cell_type": "code",
      "source": [
        "print(\"Skewness: %f\" % df['Profit'].skew())\n",
        "print(\"Kurtosis: %f\" % df['Profit'].kurt())"
      ],
      "metadata": {
        "colab": {
          "base_uri": "https://localhost:8080/"
        },
        "id": "R9Dmqv4jh5Iz",
        "outputId": "96e5713b-e001-49a2-f686-81d66b6555c5"
      },
      "execution_count": 15,
      "outputs": [
        {
          "output_type": "stream",
          "name": "stdout",
          "text": [
            "Skewness: 7.561432\n",
            "Kurtosis: 397.188515\n"
          ]
        }
      ]
    },
    {
      "cell_type": "markdown",
      "source": [
        "The Superstore’s Profit distribution has both a positive tail and negative tail. However, the positive tail is longer than the negative tail. So the distribution is positive skewed, and the data are heavy-tailed or profusion of outliers. There are two regions where the data has low probability to appear: one on the right side of the distribution, another one on the left."
      ],
      "metadata": {
        "id": "_QJX_-KZi56s"
      }
    },
    {
      "cell_type": "code",
      "source": [
        "Lof = LocalOutlierFactor(n_neighbors=20,novelty=True, contamination=0.01)\n",
        "Lof.fit(df['Sales'].values.reshape(-1, 1))\n",
        "df['anomaly_score_sales'] = Lof.decision_function(df['Sales'].values.reshape(-1, 1))\n",
        "df['outlier_sales'] = Lof.predict(df['Sales'].values.reshape(-1, 1))"
      ],
      "metadata": {
        "id": "YHROP-k2h5Fi"
      },
      "execution_count": 16,
      "outputs": []
    },
    {
      "cell_type": "code",
      "source": [
        "df.sort_values('anomaly_score_sales')"
      ],
      "metadata": {
        "colab": {
          "base_uri": "https://localhost:8080/",
          "height": 973
        },
        "id": "kpr51iYuh426",
        "outputId": "cd1ed447-6c2f-4c4c-de5f-b96ba5373190"
      },
      "execution_count": 17,
      "outputs": [
        {
          "output_type": "execute_result",
          "data": {
            "text/plain": [
              "      Row ID        Order ID  Order Date   Ship Date       Ship Mode  \\\n",
              "3233    3234  US-2017-156356   4/16/2017   4/22/2017  Standard Class   \n",
              "7366    7367  CA-2016-127243  11/28/2016   12/4/2016  Standard Class   \n",
              "3737    3738  CA-2016-115476   3/17/2016   3/17/2016        Same Day   \n",
              "8546    8547  CA-2016-119074   3/27/2016   3/31/2016  Standard Class   \n",
              "8151    8152  CA-2017-140151   3/23/2017   3/25/2017     First Class   \n",
              "...      ...             ...         ...         ...             ...   \n",
              "2701    2702  CA-2014-145317   3/18/2014   3/23/2014  Standard Class   \n",
              "7848    7849  CA-2016-104311    5/2/2016    5/6/2016  Standard Class   \n",
              "7576    7577  CA-2014-134726   11/2/2014   11/7/2014    Second Class   \n",
              "8129    8130  CA-2014-127866   7/20/2014   7/23/2014     First Class   \n",
              "3720    3721  CA-2016-151155  12/20/2016  12/24/2016  Standard Class   \n",
              "\n",
              "     Customer ID         Customer Name      Segment        Country  \\\n",
              "3233    ND-18370     Natalie DeCherney     Consumer  United States   \n",
              "7366    DS-13180           David Smith    Corporate  United States   \n",
              "3737    VM-21835         Vivian Mathis     Consumer  United States   \n",
              "8546    DS-13180           David Smith    Corporate  United States   \n",
              "8151    RB-19360          Raymond Buch     Consumer  United States   \n",
              "...          ...                   ...          ...            ...   \n",
              "2701    SM-20320           Sean Miller  Home Office  United States   \n",
              "7848    AS-10090    Adam Shillingsburg     Consumer  United States   \n",
              "7576    SW-20755           Steven Ward    Corporate  United States   \n",
              "8129    JD-15895      Jonathan Doherty    Corporate  United States   \n",
              "3720    AB-10255  Alejandro Ballentine  Home Office  United States   \n",
              "\n",
              "              City  ...       Product ID         Category Sub-Category  \\\n",
              "3233       Houston  ...  OFF-ST-10002301  Office Supplies      Storage   \n",
              "7366  Philadelphia  ...  OFF-ST-10002301  Office Supplies      Storage   \n",
              "3737        Newark  ...  OFF-BI-10000962  Office Supplies      Binders   \n",
              "8546      Columbus  ...  OFF-BI-10000962  Office Supplies      Binders   \n",
              "8151       Seattle  ...  OFF-ST-10001558  Office Supplies      Storage   \n",
              "...            ...  ...              ...              ...          ...   \n",
              "2701  Jacksonville  ...  OFF-FA-10003112  Office Supplies    Fasteners   \n",
              "7848        Irving  ...  OFF-ST-10000321  Office Supplies      Storage   \n",
              "7576       Seattle  ...  TEC-AC-10000023       Technology  Accessories   \n",
              "8129     Riverside  ...  TEC-AC-10000023       Technology  Accessories   \n",
              "3720       Jackson  ...  FUR-FU-10001918        Furniture  Furnishings   \n",
              "\n",
              "                                           Product Name   Sales Quantity  \\\n",
              "3233                        Tennsco Commercial Shelving  32.544        2   \n",
              "7366                        Tennsco Commercial Shelving  32.544        2   \n",
              "3737  Acco Flexible ACCOHIDE Square Ring Data Binder...  32.540        2   \n",
              "8546  Acco Flexible ACCOHIDE Square Ring Data Binder...  32.540        2   \n",
              "8151           Acco Perma 4000 Stacking Storage Drawers  32.480        2   \n",
              "...                                                 ...     ...      ...   \n",
              "2701                                            Staples  18.936        3   \n",
              "7848                                 Akro Stacking Bins  18.936        3   \n",
              "7576             Maxell 74 Minute CD-R Spindle, 50/Pack  41.940        2   \n",
              "8129             Maxell 74 Minute CD-R Spindle, 50/Pack  41.940        2   \n",
              "3720  C-Line Cubicle Keepers Polyproplyene Holder Wi...  18.920        4   \n",
              "\n",
              "     Discount   Profit  anomaly_score_sales  outlier_sales  \n",
              "3233      0.2  -7.7292        -4.212000e+08             -1  \n",
              "7366      0.2  -7.7292        -4.212000e+08             -1  \n",
              "3737      0.0  15.9446        -4.132000e+08             -1  \n",
              "8546      0.0  15.9446        -4.132000e+08             -1  \n",
              "8151      0.0   4.8720        -3.796000e+08             -1  \n",
              "...       ...      ...                  ...            ...  \n",
              "2701      0.2   5.9175         1.556000e+08              1  \n",
              "7848      0.2  -3.7872         1.556000e+08              1  \n",
              "7576      0.0  15.0984         1.556000e+08              1  \n",
              "8129      0.0  15.0984         1.556000e+08              1  \n",
              "3720      0.0   7.3788         1.556000e+08              1  \n",
              "\n",
              "[9994 rows x 23 columns]"
            ],
            "text/html": [
              "\n",
              "  <div id=\"df-44cb4689-91b1-470f-b651-bbb17a2b7e4b\">\n",
              "    <div class=\"colab-df-container\">\n",
              "      <div>\n",
              "<style scoped>\n",
              "    .dataframe tbody tr th:only-of-type {\n",
              "        vertical-align: middle;\n",
              "    }\n",
              "\n",
              "    .dataframe tbody tr th {\n",
              "        vertical-align: top;\n",
              "    }\n",
              "\n",
              "    .dataframe thead th {\n",
              "        text-align: right;\n",
              "    }\n",
              "</style>\n",
              "<table border=\"1\" class=\"dataframe\">\n",
              "  <thead>\n",
              "    <tr style=\"text-align: right;\">\n",
              "      <th></th>\n",
              "      <th>Row ID</th>\n",
              "      <th>Order ID</th>\n",
              "      <th>Order Date</th>\n",
              "      <th>Ship Date</th>\n",
              "      <th>Ship Mode</th>\n",
              "      <th>Customer ID</th>\n",
              "      <th>Customer Name</th>\n",
              "      <th>Segment</th>\n",
              "      <th>Country</th>\n",
              "      <th>City</th>\n",
              "      <th>...</th>\n",
              "      <th>Product ID</th>\n",
              "      <th>Category</th>\n",
              "      <th>Sub-Category</th>\n",
              "      <th>Product Name</th>\n",
              "      <th>Sales</th>\n",
              "      <th>Quantity</th>\n",
              "      <th>Discount</th>\n",
              "      <th>Profit</th>\n",
              "      <th>anomaly_score_sales</th>\n",
              "      <th>outlier_sales</th>\n",
              "    </tr>\n",
              "  </thead>\n",
              "  <tbody>\n",
              "    <tr>\n",
              "      <th>3233</th>\n",
              "      <td>3234</td>\n",
              "      <td>US-2017-156356</td>\n",
              "      <td>4/16/2017</td>\n",
              "      <td>4/22/2017</td>\n",
              "      <td>Standard Class</td>\n",
              "      <td>ND-18370</td>\n",
              "      <td>Natalie DeCherney</td>\n",
              "      <td>Consumer</td>\n",
              "      <td>United States</td>\n",
              "      <td>Houston</td>\n",
              "      <td>...</td>\n",
              "      <td>OFF-ST-10002301</td>\n",
              "      <td>Office Supplies</td>\n",
              "      <td>Storage</td>\n",
              "      <td>Tennsco Commercial Shelving</td>\n",
              "      <td>32.544</td>\n",
              "      <td>2</td>\n",
              "      <td>0.2</td>\n",
              "      <td>-7.7292</td>\n",
              "      <td>-4.212000e+08</td>\n",
              "      <td>-1</td>\n",
              "    </tr>\n",
              "    <tr>\n",
              "      <th>7366</th>\n",
              "      <td>7367</td>\n",
              "      <td>CA-2016-127243</td>\n",
              "      <td>11/28/2016</td>\n",
              "      <td>12/4/2016</td>\n",
              "      <td>Standard Class</td>\n",
              "      <td>DS-13180</td>\n",
              "      <td>David Smith</td>\n",
              "      <td>Corporate</td>\n",
              "      <td>United States</td>\n",
              "      <td>Philadelphia</td>\n",
              "      <td>...</td>\n",
              "      <td>OFF-ST-10002301</td>\n",
              "      <td>Office Supplies</td>\n",
              "      <td>Storage</td>\n",
              "      <td>Tennsco Commercial Shelving</td>\n",
              "      <td>32.544</td>\n",
              "      <td>2</td>\n",
              "      <td>0.2</td>\n",
              "      <td>-7.7292</td>\n",
              "      <td>-4.212000e+08</td>\n",
              "      <td>-1</td>\n",
              "    </tr>\n",
              "    <tr>\n",
              "      <th>3737</th>\n",
              "      <td>3738</td>\n",
              "      <td>CA-2016-115476</td>\n",
              "      <td>3/17/2016</td>\n",
              "      <td>3/17/2016</td>\n",
              "      <td>Same Day</td>\n",
              "      <td>VM-21835</td>\n",
              "      <td>Vivian Mathis</td>\n",
              "      <td>Consumer</td>\n",
              "      <td>United States</td>\n",
              "      <td>Newark</td>\n",
              "      <td>...</td>\n",
              "      <td>OFF-BI-10000962</td>\n",
              "      <td>Office Supplies</td>\n",
              "      <td>Binders</td>\n",
              "      <td>Acco Flexible ACCOHIDE Square Ring Data Binder...</td>\n",
              "      <td>32.540</td>\n",
              "      <td>2</td>\n",
              "      <td>0.0</td>\n",
              "      <td>15.9446</td>\n",
              "      <td>-4.132000e+08</td>\n",
              "      <td>-1</td>\n",
              "    </tr>\n",
              "    <tr>\n",
              "      <th>8546</th>\n",
              "      <td>8547</td>\n",
              "      <td>CA-2016-119074</td>\n",
              "      <td>3/27/2016</td>\n",
              "      <td>3/31/2016</td>\n",
              "      <td>Standard Class</td>\n",
              "      <td>DS-13180</td>\n",
              "      <td>David Smith</td>\n",
              "      <td>Corporate</td>\n",
              "      <td>United States</td>\n",
              "      <td>Columbus</td>\n",
              "      <td>...</td>\n",
              "      <td>OFF-BI-10000962</td>\n",
              "      <td>Office Supplies</td>\n",
              "      <td>Binders</td>\n",
              "      <td>Acco Flexible ACCOHIDE Square Ring Data Binder...</td>\n",
              "      <td>32.540</td>\n",
              "      <td>2</td>\n",
              "      <td>0.0</td>\n",
              "      <td>15.9446</td>\n",
              "      <td>-4.132000e+08</td>\n",
              "      <td>-1</td>\n",
              "    </tr>\n",
              "    <tr>\n",
              "      <th>8151</th>\n",
              "      <td>8152</td>\n",
              "      <td>CA-2017-140151</td>\n",
              "      <td>3/23/2017</td>\n",
              "      <td>3/25/2017</td>\n",
              "      <td>First Class</td>\n",
              "      <td>RB-19360</td>\n",
              "      <td>Raymond Buch</td>\n",
              "      <td>Consumer</td>\n",
              "      <td>United States</td>\n",
              "      <td>Seattle</td>\n",
              "      <td>...</td>\n",
              "      <td>OFF-ST-10001558</td>\n",
              "      <td>Office Supplies</td>\n",
              "      <td>Storage</td>\n",
              "      <td>Acco Perma 4000 Stacking Storage Drawers</td>\n",
              "      <td>32.480</td>\n",
              "      <td>2</td>\n",
              "      <td>0.0</td>\n",
              "      <td>4.8720</td>\n",
              "      <td>-3.796000e+08</td>\n",
              "      <td>-1</td>\n",
              "    </tr>\n",
              "    <tr>\n",
              "      <th>...</th>\n",
              "      <td>...</td>\n",
              "      <td>...</td>\n",
              "      <td>...</td>\n",
              "      <td>...</td>\n",
              "      <td>...</td>\n",
              "      <td>...</td>\n",
              "      <td>...</td>\n",
              "      <td>...</td>\n",
              "      <td>...</td>\n",
              "      <td>...</td>\n",
              "      <td>...</td>\n",
              "      <td>...</td>\n",
              "      <td>...</td>\n",
              "      <td>...</td>\n",
              "      <td>...</td>\n",
              "      <td>...</td>\n",
              "      <td>...</td>\n",
              "      <td>...</td>\n",
              "      <td>...</td>\n",
              "      <td>...</td>\n",
              "      <td>...</td>\n",
              "    </tr>\n",
              "    <tr>\n",
              "      <th>2701</th>\n",
              "      <td>2702</td>\n",
              "      <td>CA-2014-145317</td>\n",
              "      <td>3/18/2014</td>\n",
              "      <td>3/23/2014</td>\n",
              "      <td>Standard Class</td>\n",
              "      <td>SM-20320</td>\n",
              "      <td>Sean Miller</td>\n",
              "      <td>Home Office</td>\n",
              "      <td>United States</td>\n",
              "      <td>Jacksonville</td>\n",
              "      <td>...</td>\n",
              "      <td>OFF-FA-10003112</td>\n",
              "      <td>Office Supplies</td>\n",
              "      <td>Fasteners</td>\n",
              "      <td>Staples</td>\n",
              "      <td>18.936</td>\n",
              "      <td>3</td>\n",
              "      <td>0.2</td>\n",
              "      <td>5.9175</td>\n",
              "      <td>1.556000e+08</td>\n",
              "      <td>1</td>\n",
              "    </tr>\n",
              "    <tr>\n",
              "      <th>7848</th>\n",
              "      <td>7849</td>\n",
              "      <td>CA-2016-104311</td>\n",
              "      <td>5/2/2016</td>\n",
              "      <td>5/6/2016</td>\n",
              "      <td>Standard Class</td>\n",
              "      <td>AS-10090</td>\n",
              "      <td>Adam Shillingsburg</td>\n",
              "      <td>Consumer</td>\n",
              "      <td>United States</td>\n",
              "      <td>Irving</td>\n",
              "      <td>...</td>\n",
              "      <td>OFF-ST-10000321</td>\n",
              "      <td>Office Supplies</td>\n",
              "      <td>Storage</td>\n",
              "      <td>Akro Stacking Bins</td>\n",
              "      <td>18.936</td>\n",
              "      <td>3</td>\n",
              "      <td>0.2</td>\n",
              "      <td>-3.7872</td>\n",
              "      <td>1.556000e+08</td>\n",
              "      <td>1</td>\n",
              "    </tr>\n",
              "    <tr>\n",
              "      <th>7576</th>\n",
              "      <td>7577</td>\n",
              "      <td>CA-2014-134726</td>\n",
              "      <td>11/2/2014</td>\n",
              "      <td>11/7/2014</td>\n",
              "      <td>Second Class</td>\n",
              "      <td>SW-20755</td>\n",
              "      <td>Steven Ward</td>\n",
              "      <td>Corporate</td>\n",
              "      <td>United States</td>\n",
              "      <td>Seattle</td>\n",
              "      <td>...</td>\n",
              "      <td>TEC-AC-10000023</td>\n",
              "      <td>Technology</td>\n",
              "      <td>Accessories</td>\n",
              "      <td>Maxell 74 Minute CD-R Spindle, 50/Pack</td>\n",
              "      <td>41.940</td>\n",
              "      <td>2</td>\n",
              "      <td>0.0</td>\n",
              "      <td>15.0984</td>\n",
              "      <td>1.556000e+08</td>\n",
              "      <td>1</td>\n",
              "    </tr>\n",
              "    <tr>\n",
              "      <th>8129</th>\n",
              "      <td>8130</td>\n",
              "      <td>CA-2014-127866</td>\n",
              "      <td>7/20/2014</td>\n",
              "      <td>7/23/2014</td>\n",
              "      <td>First Class</td>\n",
              "      <td>JD-15895</td>\n",
              "      <td>Jonathan Doherty</td>\n",
              "      <td>Corporate</td>\n",
              "      <td>United States</td>\n",
              "      <td>Riverside</td>\n",
              "      <td>...</td>\n",
              "      <td>TEC-AC-10000023</td>\n",
              "      <td>Technology</td>\n",
              "      <td>Accessories</td>\n",
              "      <td>Maxell 74 Minute CD-R Spindle, 50/Pack</td>\n",
              "      <td>41.940</td>\n",
              "      <td>2</td>\n",
              "      <td>0.0</td>\n",
              "      <td>15.0984</td>\n",
              "      <td>1.556000e+08</td>\n",
              "      <td>1</td>\n",
              "    </tr>\n",
              "    <tr>\n",
              "      <th>3720</th>\n",
              "      <td>3721</td>\n",
              "      <td>CA-2016-151155</td>\n",
              "      <td>12/20/2016</td>\n",
              "      <td>12/24/2016</td>\n",
              "      <td>Standard Class</td>\n",
              "      <td>AB-10255</td>\n",
              "      <td>Alejandro Ballentine</td>\n",
              "      <td>Home Office</td>\n",
              "      <td>United States</td>\n",
              "      <td>Jackson</td>\n",
              "      <td>...</td>\n",
              "      <td>FUR-FU-10001918</td>\n",
              "      <td>Furniture</td>\n",
              "      <td>Furnishings</td>\n",
              "      <td>C-Line Cubicle Keepers Polyproplyene Holder Wi...</td>\n",
              "      <td>18.920</td>\n",
              "      <td>4</td>\n",
              "      <td>0.0</td>\n",
              "      <td>7.3788</td>\n",
              "      <td>1.556000e+08</td>\n",
              "      <td>1</td>\n",
              "    </tr>\n",
              "  </tbody>\n",
              "</table>\n",
              "<p>9994 rows × 23 columns</p>\n",
              "</div>\n",
              "      <button class=\"colab-df-convert\" onclick=\"convertToInteractive('df-44cb4689-91b1-470f-b651-bbb17a2b7e4b')\"\n",
              "              title=\"Convert this dataframe to an interactive table.\"\n",
              "              style=\"display:none;\">\n",
              "        \n",
              "  <svg xmlns=\"http://www.w3.org/2000/svg\" height=\"24px\"viewBox=\"0 0 24 24\"\n",
              "       width=\"24px\">\n",
              "    <path d=\"M0 0h24v24H0V0z\" fill=\"none\"/>\n",
              "    <path d=\"M18.56 5.44l.94 2.06.94-2.06 2.06-.94-2.06-.94-.94-2.06-.94 2.06-2.06.94zm-11 1L8.5 8.5l.94-2.06 2.06-.94-2.06-.94L8.5 2.5l-.94 2.06-2.06.94zm10 10l.94 2.06.94-2.06 2.06-.94-2.06-.94-.94-2.06-.94 2.06-2.06.94z\"/><path d=\"M17.41 7.96l-1.37-1.37c-.4-.4-.92-.59-1.43-.59-.52 0-1.04.2-1.43.59L10.3 9.45l-7.72 7.72c-.78.78-.78 2.05 0 2.83L4 21.41c.39.39.9.59 1.41.59.51 0 1.02-.2 1.41-.59l7.78-7.78 2.81-2.81c.8-.78.8-2.07 0-2.86zM5.41 20L4 18.59l7.72-7.72 1.47 1.35L5.41 20z\"/>\n",
              "  </svg>\n",
              "      </button>\n",
              "      \n",
              "  <style>\n",
              "    .colab-df-container {\n",
              "      display:flex;\n",
              "      flex-wrap:wrap;\n",
              "      gap: 12px;\n",
              "    }\n",
              "\n",
              "    .colab-df-convert {\n",
              "      background-color: #E8F0FE;\n",
              "      border: none;\n",
              "      border-radius: 50%;\n",
              "      cursor: pointer;\n",
              "      display: none;\n",
              "      fill: #1967D2;\n",
              "      height: 32px;\n",
              "      padding: 0 0 0 0;\n",
              "      width: 32px;\n",
              "    }\n",
              "\n",
              "    .colab-df-convert:hover {\n",
              "      background-color: #E2EBFA;\n",
              "      box-shadow: 0px 1px 2px rgba(60, 64, 67, 0.3), 0px 1px 3px 1px rgba(60, 64, 67, 0.15);\n",
              "      fill: #174EA6;\n",
              "    }\n",
              "\n",
              "    [theme=dark] .colab-df-convert {\n",
              "      background-color: #3B4455;\n",
              "      fill: #D2E3FC;\n",
              "    }\n",
              "\n",
              "    [theme=dark] .colab-df-convert:hover {\n",
              "      background-color: #434B5C;\n",
              "      box-shadow: 0px 1px 3px 1px rgba(0, 0, 0, 0.15);\n",
              "      filter: drop-shadow(0px 1px 2px rgba(0, 0, 0, 0.3));\n",
              "      fill: #FFFFFF;\n",
              "    }\n",
              "  </style>\n",
              "\n",
              "      <script>\n",
              "        const buttonEl =\n",
              "          document.querySelector('#df-44cb4689-91b1-470f-b651-bbb17a2b7e4b button.colab-df-convert');\n",
              "        buttonEl.style.display =\n",
              "          google.colab.kernel.accessAllowed ? 'block' : 'none';\n",
              "\n",
              "        async function convertToInteractive(key) {\n",
              "          const element = document.querySelector('#df-44cb4689-91b1-470f-b651-bbb17a2b7e4b');\n",
              "          const dataTable =\n",
              "            await google.colab.kernel.invokeFunction('convertToInteractive',\n",
              "                                                     [key], {});\n",
              "          if (!dataTable) return;\n",
              "\n",
              "          const docLinkHtml = 'Like what you see? Visit the ' +\n",
              "            '<a target=\"_blank\" href=https://colab.research.google.com/notebooks/data_table.ipynb>data table notebook</a>'\n",
              "            + ' to learn more about interactive tables.';\n",
              "          element.innerHTML = '';\n",
              "          dataTable['output_type'] = 'display_data';\n",
              "          await google.colab.output.renderOutput(dataTable, element);\n",
              "          const docLink = document.createElement('div');\n",
              "          docLink.innerHTML = docLinkHtml;\n",
              "          element.appendChild(docLink);\n",
              "        }\n",
              "      </script>\n",
              "    </div>\n",
              "  </div>\n",
              "  "
            ]
          },
          "metadata": {},
          "execution_count": 17
        }
      ]
    },
    {
      "cell_type": "code",
      "source": [
        "xx = np.linspace(df['Sales'].min(), df['Sales'].max(), len(df)).reshape(-1,1)\n",
        "anomaly_score = Lof.decision_function(xx)\n",
        "outlier = Lof.predict(xx)\n",
        "\n",
        "plt.figure(figsize=(10,4))\n",
        "plt.plot(xx, anomaly_score, label='anomaly score')\n",
        "plt.fill_between(xx.T[0], np.min(anomaly_score), np.max(anomaly_score), \n",
        "                 where=outlier==-1, color='r', \n",
        "                 alpha=.4, label='outlier region')\n",
        "plt.legend()\n",
        "plt.ylabel('anomaly score')\n",
        "plt.xlabel('Sales')\n",
        "plt.show();"
      ],
      "metadata": {
        "colab": {
          "base_uri": "https://localhost:8080/",
          "height": 290
        },
        "id": "JAFMw4xLjrSg",
        "outputId": "e6dd38ca-4068-47da-a3e8-b138691f8a9f"
      },
      "execution_count": 18,
      "outputs": [
        {
          "output_type": "display_data",
          "data": {
            "text/plain": [
              "<Figure size 720x288 with 1 Axes>"
            ],
            "image/png": "[encoded data removed]"
          },
          "metadata": {
            "needs_background": "light"
          }
        }
      ]
    },
    {
      "cell_type": "code",
      "source": [
        "Lof_profit = LocalOutlierFactor(n_neighbors=20,novelty=True, contamination=0.01)\n",
        "Lof_profit.fit(df['Profit'].values.reshape(-1, 1))\n",
        "df['anomaly_score_profit'] = Lof_profit.decision_function(df['Profit'].values.reshape(-1, 1))\n",
        "df['outlier_profit'] = Lof_profit.predict(df['Profit'].values.reshape(-1, 1))"
      ],
      "metadata": {
        "id": "1R0vhagFjrPl"
      },
      "execution_count": 19,
      "outputs": []
    },
    {
      "cell_type": "code",
      "source": [
        "df.sort_values('anomaly_score_profit')"
      ],
      "metadata": {
        "colab": {
          "base_uri": "https://localhost:8080/",
          "height": 1000
        },
        "id": "dDrW_1udjrMb",
        "outputId": "df4056f3-39d1-4ba7-8675-92b8598f030f"
      },
      "execution_count": 20,
      "outputs": [
        {
          "output_type": "execute_result",
          "data": {
            "text/plain": [
              "      Row ID        Order ID  Order Date   Ship Date       Ship Mode  \\\n",
              "1566    1567  CA-2015-129112  11/29/2015  11/30/2015     First Class   \n",
              "1496    1497  CA-2017-152485    9/4/2017    9/8/2017  Standard Class   \n",
              "7413    7414  CA-2017-121125   5/30/2017    6/3/2017  Standard Class   \n",
              "4660    4661  CA-2015-112130    5/3/2015    5/7/2015  Standard Class   \n",
              "3228    3229  CA-2014-108189   10/2/2014   10/5/2014     First Class   \n",
              "...      ...             ...         ...         ...             ...   \n",
              "6917    6918  CA-2014-124247  12/16/2014  12/21/2014  Standard Class   \n",
              "9759    9760  CA-2016-146913  10/31/2016   11/5/2016  Standard Class   \n",
              "9143    9144  US-2017-166688   5/20/2017   5/26/2017  Standard Class   \n",
              "3840    3841  CA-2014-126760   7/26/2014    8/2/2014  Standard Class   \n",
              "5060    5061  CA-2016-109722   12/5/2016   12/7/2016    Second Class   \n",
              "\n",
              "     Customer ID      Customer Name      Segment        Country  \\\n",
              "1566    AW-10840       Anthony Witt     Consumer  United States   \n",
              "1496    JD-15790         John Dryer     Consumer  United States   \n",
              "7413    MG-17890   Michael Granlund  Home Office  United States   \n",
              "4660    SV-20785   Stewart Visinsky     Consumer  United States   \n",
              "3228    ES-14080         Erin Smith    Corporate  United States   \n",
              "...          ...                ...          ...            ...   \n",
              "6917    SH-20635  Stefanie Holloman    Corporate  United States   \n",
              "9759    SF-20965    Sylvia Foulston    Corporate  United States   \n",
              "9143    RD-19480        Rick Duston     Consumer  United States   \n",
              "3840    KM-16720       Kunst Miller     Consumer  United States   \n",
              "5060    TP-21130   Theone Pippenger     Consumer  United States   \n",
              "\n",
              "                 City  ... Sub-Category  \\\n",
              "1566            Allen  ...  Accessories   \n",
              "1496          Coppell  ...      Storage   \n",
              "7413           Tigard  ...  Furnishings   \n",
              "4660     Philadelphia  ...  Accessories   \n",
              "3228            Tempe  ...  Accessories   \n",
              "...               ...  ...          ...   \n",
              "6917       Sacramento  ...       Chairs   \n",
              "9759    San Francisco  ...       Chairs   \n",
              "9143        Las Vegas  ...       Phones   \n",
              "3840  North Las Vegas  ...  Accessories   \n",
              "5060       Georgetown  ...      Storage   \n",
              "\n",
              "                                           Product Name     Sales Quantity  \\\n",
              "1566         Kingston Digital DataTraveler 16GB USB 2.0    21.480        3   \n",
              "1496           Acco Perma 3000 Stacking Storage Drawers    16.784        1   \n",
              "7413          Tensor Brushed Steel Torchiere Floor Lamp    13.592        1   \n",
              "4660               SanDisk Cruzer 16 GB USB Flash Drive    27.552        3   \n",
              "3228         Kingston Digital DataTraveler 16GB USB 2.0     7.160        1   \n",
              "...                                                 ...       ...      ...   \n",
              "6917  Office Star - Professional Matrix Back Chair w...  1403.920        5   \n",
              "9759  Office Star - Professional Matrix Back Chair w...  1403.920        5   \n",
              "9143                                    Motorola L703CM  1123.128        9   \n",
              "3840  Logitech Illuminated Ultrathin Keyboard with B...   170.970        3   \n",
              "5060  Fellowes Bankers Box Staxonsteel Drawer File/S...   584.820        9   \n",
              "\n",
              "     Discount   Profit anomaly_score_sales  outlier_sales  \\\n",
              "1566      0.2  -0.2685        1.556000e+08              1   \n",
              "1496      0.2  -0.2098        1.556000e+08              1   \n",
              "7413      0.2  -0.3398        1.556000e+08              1   \n",
              "4660      0.2  -0.3444        1.556000e+08              1   \n",
              "3228      0.2  -0.0895        1.556000e+08              1   \n",
              "...       ...      ...                 ...            ...   \n",
              "6917      0.2  70.1960        1.556000e+08              1   \n",
              "9759      0.2  70.1960        1.556000e+08              1   \n",
              "9143      0.2  70.1955        1.556000e+08              1   \n",
              "3840      0.0  70.0977        1.556000e+08              1   \n",
              "5060      0.0  70.1784        1.556000e+08              1   \n",
              "\n",
              "      anomaly_score_profit  outlier_profit  \n",
              "1566         -1.845327e+09              -1  \n",
              "1496         -1.537152e+09              -1  \n",
              "7413         -8.433075e+08              -1  \n",
              "4660         -8.433075e+08              -1  \n",
              "3228         -7.883225e+08              -1  \n",
              "...                    ...             ...  \n",
              "6917          6.192750e+07               1  \n",
              "9759          6.192750e+07               1  \n",
              "9143          6.192750e+07               1  \n",
              "3840          6.192750e+07               1  \n",
              "5060          6.192750e+07               1  \n",
              "\n",
              "[9994 rows x 25 columns]"
            ],
            "text/html": [
              "\n",
              "  <div id=\"df-6bb53597-7c50-40d2-b58c-a031fa38a8c1\">\n",
              "    <div class=\"colab-df-container\">\n",
              "      <div>\n",
              "<style scoped>\n",
              "    .dataframe tbody tr th:only-of-type {\n",
              "        vertical-align: middle;\n",
              "    }\n",
              "\n",
              "    .dataframe tbody tr th {\n",
              "        vertical-align: top;\n",
              "    }\n",
              "\n",
              "    .dataframe thead th {\n",
              "        text-align: right;\n",
              "    }\n",
              "</style>\n",
              "<table border=\"1\" class=\"dataframe\">\n",
              "  <thead>\n",
              "    <tr style=\"text-align: right;\">\n",
              "      <th></th>\n",
              "      <th>Row ID</th>\n",
              "      <th>Order ID</th>\n",
              "      <th>Order Date</th>\n",
              "      <th>Ship Date</th>\n",
              "      <th>Ship Mode</th>\n",
              "      <th>Customer ID</th>\n",
              "      <th>Customer Name</th>\n",
              "      <th>Segment</th>\n",
              "      <th>Country</th>\n",
              "      <th>City</th>\n",
              "      <th>...</th>\n",
              "      <th>Sub-Category</th>\n",
              "      <th>Product Name</th>\n",
              "      <th>Sales</th>\n",
              "      <th>Quantity</th>\n",
              "      <th>Discount</th>\n",
              "      <th>Profit</th>\n",
              "      <th>anomaly_score_sales</th>\n",
              "      <th>outlier_sales</th>\n",
              "      <th>anomaly_score_profit</th>\n",
              "      <th>outlier_profit</th>\n",
              "    </tr>\n",
              "  </thead>\n",
              "  <tbody>\n",
              "    <tr>\n",
              "      <th>1566</th>\n",
              "      <td>1567</td>\n",
              "      <td>CA-2015-129112</td>\n",
              "      <td>11/29/2015</td>\n",
              "      <td>11/30/2015</td>\n",
              "      <td>First Class</td>\n",
              "      <td>AW-10840</td>\n",
              "      <td>Anthony Witt</td>\n",
              "      <td>Consumer</td>\n",
              "      <td>United States</td>\n",
              "      <td>Allen</td>\n",
              "      <td>...</td>\n",
              "      <td>Accessories</td>\n",
              "      <td>Kingston Digital DataTraveler 16GB USB 2.0</td>\n",
              "      <td>21.480</td>\n",
              "      <td>3</td>\n",
              "      <td>0.2</td>\n",
              "      <td>-0.2685</td>\n",
              "      <td>1.556000e+08</td>\n",
              "      <td>1</td>\n",
              "      <td>-1.845327e+09</td>\n",
              "      <td>-1</td>\n",
              "    </tr>\n",
              "    <tr>\n",
              "      <th>1496</th>\n",
              "      <td>1497</td>\n",
              "      <td>CA-2017-152485</td>\n",
              "      <td>9/4/2017</td>\n",
              "      <td>9/8/2017</td>\n",
              "      <td>Standard Class</td>\n",
              "      <td>JD-15790</td>\n",
              "      <td>John Dryer</td>\n",
              "      <td>Consumer</td>\n",
              "      <td>United States</td>\n",
              "      <td>Coppell</td>\n",
              "      <td>...</td>\n",
              "      <td>Storage</td>\n",
              "      <td>Acco Perma 3000 Stacking Storage Drawers</td>\n",
              "      <td>16.784</td>\n",
              "      <td>1</td>\n",
              "      <td>0.2</td>\n",
              "      <td>-0.2098</td>\n",
              "      <td>1.556000e+08</td>\n",
              "      <td>1</td>\n",
              "      <td>-1.537152e+09</td>\n",
              "      <td>-1</td>\n",
              "    </tr>\n",
              "    <tr>\n",
              "      <th>7413</th>\n",
              "      <td>7414</td>\n",
              "      <td>CA-2017-121125</td>\n",
              "      <td>5/30/2017</td>\n",
              "      <td>6/3/2017</td>\n",
              "      <td>Standard Class</td>\n",
              "      <td>MG-17890</td>\n",
              "      <td>Michael Granlund</td>\n",
              "      <td>Home Office</td>\n",
              "      <td>United States</td>\n",
              "      <td>Tigard</td>\n",
              "      <td>...</td>\n",
              "      <td>Furnishings</td>\n",
              "      <td>Tensor Brushed Steel Torchiere Floor Lamp</td>\n",
              "      <td>13.592</td>\n",
              "      <td>1</td>\n",
              "      <td>0.2</td>\n",
              "      <td>-0.3398</td>\n",
              "      <td>1.556000e+08</td>\n",
              "      <td>1</td>\n",
              "      <td>-8.433075e+08</td>\n",
              "      <td>-1</td>\n",
              "    </tr>\n",
              "    <tr>\n",
              "      <th>4660</th>\n",
              "      <td>4661</td>\n",
              "      <td>CA-2015-112130</td>\n",
              "      <td>5/3/2015</td>\n",
              "      <td>5/7/2015</td>\n",
              "      <td>Standard Class</td>\n",
              "      <td>SV-20785</td>\n",
              "      <td>Stewart Visinsky</td>\n",
              "      <td>Consumer</td>\n",
              "      <td>United States</td>\n",
              "      <td>Philadelphia</td>\n",
              "      <td>...</td>\n",
              "      <td>Accessories</td>\n",
              "      <td>SanDisk Cruzer 16 GB USB Flash Drive</td>\n",
              "      <td>27.552</td>\n",
              "      <td>3</td>\n",
              "      <td>0.2</td>\n",
              "      <td>-0.3444</td>\n",
              "      <td>1.556000e+08</td>\n",
              "      <td>1</td>\n",
              "      <td>-8.433075e+08</td>\n",
              "      <td>-1</td>\n",
              "    </tr>\n",
              "    <tr>\n",
              "      <th>3228</th>\n",
              "      <td>3229</td>\n",
              "      <td>CA-2014-108189</td>\n",
              "      <td>10/2/2014</td>\n",
              "      <td>10/5/2014</td>\n",
              "      <td>First Class</td>\n",
              "      <td>ES-14080</td>\n",
              "      <td>Erin Smith</td>\n",
              "      <td>Corporate</td>\n",
              "      <td>United States</td>\n",
              "      <td>Tempe</td>\n",
              "      <td>...</td>\n",
              "      <td>Accessories</td>\n",
              "      <td>Kingston Digital DataTraveler 16GB USB 2.0</td>\n",
              "      <td>7.160</td>\n",
              "      <td>1</td>\n",
              "      <td>0.2</td>\n",
              "      <td>-0.0895</td>\n",
              "      <td>1.556000e+08</td>\n",
              "      <td>1</td>\n",
              "      <td>-7.883225e+08</td>\n",
              "      <td>-1</td>\n",
              "    </tr>\n",
              "    <tr>\n",
              "      <th>...</th>\n",
              "      <td>...</td>\n",
              "      <td>...</td>\n",
              "      <td>...</td>\n",
              "      <td>...</td>\n",
              "      <td>...</td>\n",
              "      <td>...</td>\n",
              "      <td>...</td>\n",
              "      <td>...</td>\n",
              "      <td>...</td>\n",
              "      <td>...</td>\n",
              "      <td>...</td>\n",
              "      <td>...</td>\n",
              "      <td>...</td>\n",
              "      <td>...</td>\n",
              "      <td>...</td>\n",
              "      <td>...</td>\n",
              "      <td>...</td>\n",
              "      <td>...</td>\n",
              "      <td>...</td>\n",
              "      <td>...</td>\n",
              "      <td>...</td>\n",
              "    </tr>\n",
              "    <tr>\n",
              "      <th>6917</th>\n",
              "      <td>6918</td>\n",
              "      <td>CA-2014-124247</td>\n",
              "      <td>12/16/2014</td>\n",
              "      <td>12/21/2014</td>\n",
              "      <td>Standard Class</td>\n",
              "      <td>SH-20635</td>\n",
              "      <td>Stefanie Holloman</td>\n",
              "      <td>Corporate</td>\n",
              "      <td>United States</td>\n",
              "      <td>Sacramento</td>\n",
              "      <td>...</td>\n",
              "      <td>Chairs</td>\n",
              "      <td>Office Star - Professional Matrix Back Chair w...</td>\n",
              "      <td>1403.920</td>\n",
              "      <td>5</td>\n",
              "      <td>0.2</td>\n",
              "      <td>70.1960</td>\n",
              "      <td>1.556000e+08</td>\n",
              "      <td>1</td>\n",
              "      <td>6.192750e+07</td>\n",
              "      <td>1</td>\n",
              "    </tr>\n",
              "    <tr>\n",
              "      <th>9759</th>\n",
              "      <td>9760</td>\n",
              "      <td>CA-2016-146913</td>\n",
              "      <td>10/31/2016</td>\n",
              "      <td>11/5/2016</td>\n",
              "      <td>Standard Class</td>\n",
              "      <td>SF-20965</td>\n",
              "      <td>Sylvia Foulston</td>\n",
              "      <td>Corporate</td>\n",
              "      <td>United States</td>\n",
              "      <td>San Francisco</td>\n",
              "      <td>...</td>\n",
              "      <td>Chairs</td>\n",
              "      <td>Office Star - Professional Matrix Back Chair w...</td>\n",
              "      <td>1403.920</td>\n",
              "      <td>5</td>\n",
              "      <td>0.2</td>\n",
              "      <td>70.1960</td>\n",
              "      <td>1.556000e+08</td>\n",
              "      <td>1</td>\n",
              "      <td>6.192750e+07</td>\n",
              "      <td>1</td>\n",
              "    </tr>\n",
              "    <tr>\n",
              "      <th>9143</th>\n",
              "      <td>9144</td>\n",
              "      <td>US-2017-166688</td>\n",
              "      <td>5/20/2017</td>\n",
              "      <td>5/26/2017</td>\n",
              "      <td>Standard Class</td>\n",
              "      <td>RD-19480</td>\n",
              "      <td>Rick Duston</td>\n",
              "      <td>Consumer</td>\n",
              "      <td>United States</td>\n",
              "      <td>Las Vegas</td>\n",
              "      <td>...</td>\n",
              "      <td>Phones</td>\n",
              "      <td>Motorola L703CM</td>\n",
              "      <td>1123.128</td>\n",
              "      <td>9</td>\n",
              "      <td>0.2</td>\n",
              "      <td>70.1955</td>\n",
              "      <td>1.556000e+08</td>\n",
              "      <td>1</td>\n",
              "      <td>6.192750e+07</td>\n",
              "      <td>1</td>\n",
              "    </tr>\n",
              "    <tr>\n",
              "      <th>3840</th>\n",
              "      <td>3841</td>\n",
              "      <td>CA-2014-126760</td>\n",
              "      <td>7/26/2014</td>\n",
              "      <td>8/2/2014</td>\n",
              "      <td>Standard Class</td>\n",
              "      <td>KM-16720</td>\n",
              "      <td>Kunst Miller</td>\n",
              "      <td>Consumer</td>\n",
              "      <td>United States</td>\n",
              "      <td>North Las Vegas</td>\n",
              "      <td>...</td>\n",
              "      <td>Accessories</td>\n",
              "      <td>Logitech Illuminated Ultrathin Keyboard with B...</td>\n",
              "      <td>170.970</td>\n",
              "      <td>3</td>\n",
              "      <td>0.0</td>\n",
              "      <td>70.0977</td>\n",
              "      <td>1.556000e+08</td>\n",
              "      <td>1</td>\n",
              "      <td>6.192750e+07</td>\n",
              "      <td>1</td>\n",
              "    </tr>\n",
              "    <tr>\n",
              "      <th>5060</th>\n",
              "      <td>5061</td>\n",
              "      <td>CA-2016-109722</td>\n",
              "      <td>12/5/2016</td>\n",
              "      <td>12/7/2016</td>\n",
              "      <td>Second Class</td>\n",
              "      <td>TP-21130</td>\n",
              "      <td>Theone Pippenger</td>\n",
              "      <td>Consumer</td>\n",
              "      <td>United States</td>\n",
              "      <td>Georgetown</td>\n",
              "      <td>...</td>\n",
              "      <td>Storage</td>\n",
              "      <td>Fellowes Bankers Box Staxonsteel Drawer File/S...</td>\n",
              "      <td>584.820</td>\n",
              "      <td>9</td>\n",
              "      <td>0.0</td>\n",
              "      <td>70.1784</td>\n",
              "      <td>1.556000e+08</td>\n",
              "      <td>1</td>\n",
              "      <td>6.192750e+07</td>\n",
              "      <td>1</td>\n",
              "    </tr>\n",
              "  </tbody>\n",
              "</table>\n",
              "<p>9994 rows × 25 columns</p>\n",
              "</div>\n",
              "      <button class=\"colab-df-convert\" onclick=\"convertToInteractive('df-6bb53597-7c50-40d2-b58c-a031fa38a8c1')\"\n",
              "              title=\"Convert this dataframe to an interactive table.\"\n",
              "              style=\"display:none;\">\n",
              "        \n",
              "  <svg xmlns=\"http://www.w3.org/2000/svg\" height=\"24px\"viewBox=\"0 0 24 24\"\n",
              "       width=\"24px\">\n",
              "    <path d=\"M0 0h24v24H0V0z\" fill=\"none\"/>\n",
              "    <path d=\"M18.56 5.44l.94 2.06.94-2.06 2.06-.94-2.06-.94-.94-2.06-.94 2.06-2.06.94zm-11 1L8.5 8.5l.94-2.06 2.06-.94-2.06-.94L8.5 2.5l-.94 2.06-2.06.94zm10 10l.94 2.06.94-2.06 2.06-.94-2.06-.94-.94-2.06-.94 2.06-2.06.94z\"/><path d=\"M17.41 7.96l-1.37-1.37c-.4-.4-.92-.59-1.43-.59-.52 0-1.04.2-1.43.59L10.3 9.45l-7.72 7.72c-.78.78-.78 2.05 0 2.83L4 21.41c.39.39.9.59 1.41.59.51 0 1.02-.2 1.41-.59l7.78-7.78 2.81-2.81c.8-.78.8-2.07 0-2.86zM5.41 20L4 18.59l7.72-7.72 1.47 1.35L5.41 20z\"/>\n",
              "  </svg>\n",
              "      </button>\n",
              "      \n",
              "  <style>\n",
              "    .colab-df-container {\n",
              "      display:flex;\n",
              "      flex-wrap:wrap;\n",
              "      gap: 12px;\n",
              "    }\n",
              "\n",
              "    .colab-df-convert {\n",
              "      background-color: #E8F0FE;\n",
              "      border: none;\n",
              "      border-radius: 50%;\n",
              "      cursor: pointer;\n",
              "      display: none;\n",
              "      fill: #1967D2;\n",
              "      height: 32px;\n",
              "      padding: 0 0 0 0;\n",
              "      width: 32px;\n",
              "    }\n",
              "\n",
              "    .colab-df-convert:hover {\n",
              "      background-color: #E2EBFA;\n",
              "      box-shadow: 0px 1px 2px rgba(60, 64, 67, 0.3), 0px 1px 3px 1px rgba(60, 64, 67, 0.15);\n",
              "      fill: #174EA6;\n",
              "    }\n",
              "\n",
              "    [theme=dark] .colab-df-convert {\n",
              "      background-color: #3B4455;\n",
              "      fill: #D2E3FC;\n",
              "    }\n",
              "\n",
              "    [theme=dark] .colab-df-convert:hover {\n",
              "      background-color: #434B5C;\n",
              "      box-shadow: 0px 1px 3px 1px rgba(0, 0, 0, 0.15);\n",
              "      filter: drop-shadow(0px 1px 2px rgba(0, 0, 0, 0.3));\n",
              "      fill: #FFFFFF;\n",
              "    }\n",
              "  </style>\n",
              "\n",
              "      <script>\n",
              "        const buttonEl =\n",
              "          document.querySelector('#df-6bb53597-7c50-40d2-b58c-a031fa38a8c1 button.colab-df-convert');\n",
              "        buttonEl.style.display =\n",
              "          google.colab.kernel.accessAllowed ? 'block' : 'none';\n",
              "\n",
              "        async function convertToInteractive(key) {\n",
              "          const element = document.querySelector('#df-6bb53597-7c50-40d2-b58c-a031fa38a8c1');\n",
              "          const dataTable =\n",
              "            await google.colab.kernel.invokeFunction('convertToInteractive',\n",
              "                                                     [key], {});\n",
              "          if (!dataTable) return;\n",
              "\n",
              "          const docLinkHtml = 'Like what you see? Visit the ' +\n",
              "            '<a target=\"_blank\" href=https://colab.research.google.com/notebooks/data_table.ipynb>data table notebook</a>'\n",
              "            + ' to learn more about interactive tables.';\n",
              "          element.innerHTML = '';\n",
              "          dataTable['output_type'] = 'display_data';\n",
              "          await google.colab.output.renderOutput(dataTable, element);\n",
              "          const docLink = document.createElement('div');\n",
              "          docLink.innerHTML = docLinkHtml;\n",
              "          element.appendChild(docLink);\n",
              "        }\n",
              "      </script>\n",
              "    </div>\n",
              "  </div>\n",
              "  "
            ]
          },
          "metadata": {},
          "execution_count": 20
        }
      ]
    },
    {
      "cell_type": "code",
      "source": [
        "xx = np.linspace(df['Profit'].min(), df['Profit'].max(), len(df)).reshape(-1,1)\n",
        "anomaly_score = Lof_profit.decision_function(xx)\n",
        "outlier = Lof_profit.predict(xx)\n",
        "plt.figure(figsize=(10,4))\n",
        "plt.plot(xx, anomaly_score, label='anomaly score')\n",
        "plt.fill_between(xx.T[0], np.min(anomaly_score), np.max(anomaly_score), \n",
        "                 where=outlier==-1, color='r', \n",
        "                 alpha=.4, label='outlier region')\n",
        "plt.legend()\n",
        "plt.ylabel('anomaly score')\n",
        "plt.xlabel('Profit')\n",
        "plt.show();"
      ],
      "metadata": {
        "colab": {
          "base_uri": "https://localhost:8080/",
          "height": 290
        },
        "id": "ksj43g2hjrJL",
        "outputId": "2db9e163-4f82-4650-b20d-20801db6827f"
      },
      "execution_count": 21,
      "outputs": [
        {
          "output_type": "display_data",
          "data": {
            "text/plain": [
              "<Figure size 720x288 with 1 Axes>"
            ],
            "image/png": "[encoded data removed]"
          },
          "metadata": {
            "needs_background": "light"
          }
        }
      ]
    },
    {
      "cell_type": "code",
      "source": [
        "df[(df['outlier_profit']==-1) & (df['outlier_sales']==-1)]"
      ],
      "metadata": {
        "colab": {
          "base_uri": "https://localhost:8080/",
          "height": 278
        },
        "id": "RHD_3glek1kx",
        "outputId": "9f2a999c-dc62-4641-a44a-4e098cc96fef"
      },
      "execution_count": 22,
      "outputs": [
        {
          "output_type": "execute_result",
          "data": {
            "text/plain": [
              "    Row ID        Order ID  Order Date   Ship Date       Ship Mode  \\\n",
              "63      64  CA-2015-135545  11/24/2015  11/30/2015  Standard Class   \n",
              "\n",
              "   Customer ID Customer Name   Segment        Country         City  ...  \\\n",
              "63    KM-16720  Kunst Miller  Consumer  United States  Los Angeles  ...   \n",
              "\n",
              "   Sub-Category                                       Product Name   Sales  \\\n",
              "63      Binders  Acco PRESSTEX Data Binder with Storage Hooks, ...  25.824   \n",
              "\n",
              "   Quantity Discount  Profit anomaly_score_sales  outlier_sales  \\\n",
              "63        6      0.2  9.3612       -2.872000e+08             -1   \n",
              "\n",
              "    anomaly_score_profit  outlier_profit  \n",
              "63         -5.038750e+07              -1  \n",
              "\n",
              "[1 rows x 25 columns]"
            ],
            "text/html": [
              "\n",
              "  <div id=\"df-029c5438-d74c-4311-bc42-eae003cb8a3b\">\n",
              "    <div class=\"colab-df-container\">\n",
              "      <div>\n",
              "<style scoped>\n",
              "    .dataframe tbody tr th:only-of-type {\n",
              "        vertical-align: middle;\n",
              "    }\n",
              "\n",
              "    .dataframe tbody tr th {\n",
              "        vertical-align: top;\n",
              "    }\n",
              "\n",
              "    .dataframe thead th {\n",
              "        text-align: right;\n",
              "    }\n",
              "</style>\n",
              "<table border=\"1\" class=\"dataframe\">\n",
              "  <thead>\n",
              "    <tr style=\"text-align: right;\">\n",
              "      <th></th>\n",
              "      <th>Row ID</th>\n",
              "      <th>Order ID</th>\n",
              "      <th>Order Date</th>\n",
              "      <th>Ship Date</th>\n",
              "      <th>Ship Mode</th>\n",
              "      <th>Customer ID</th>\n",
              "      <th>Customer Name</th>\n",
              "      <th>Segment</th>\n",
              "      <th>Country</th>\n",
              "      <th>City</th>\n",
              "      <th>...</th>\n",
              "      <th>Sub-Category</th>\n",
              "      <th>Product Name</th>\n",
              "      <th>Sales</th>\n",
              "      <th>Quantity</th>\n",
              "      <th>Discount</th>\n",
              "      <th>Profit</th>\n",
              "      <th>anomaly_score_sales</th>\n",
              "      <th>outlier_sales</th>\n",
              "      <th>anomaly_score_profit</th>\n",
              "      <th>outlier_profit</th>\n",
              "    </tr>\n",
              "  </thead>\n",
              "  <tbody>\n",
              "    <tr>\n",
              "      <th>63</th>\n",
              "      <td>64</td>\n",
              "      <td>CA-2015-135545</td>\n",
              "      <td>11/24/2015</td>\n",
              "      <td>11/30/2015</td>\n",
              "      <td>Standard Class</td>\n",
              "      <td>KM-16720</td>\n",
              "      <td>Kunst Miller</td>\n",
              "      <td>Consumer</td>\n",
              "      <td>United States</td>\n",
              "      <td>Los Angeles</td>\n",
              "      <td>...</td>\n",
              "      <td>Binders</td>\n",
              "      <td>Acco PRESSTEX Data Binder with Storage Hooks, ...</td>\n",
              "      <td>25.824</td>\n",
              "      <td>6</td>\n",
              "      <td>0.2</td>\n",
              "      <td>9.3612</td>\n",
              "      <td>-2.872000e+08</td>\n",
              "      <td>-1</td>\n",
              "      <td>-5.038750e+07</td>\n",
              "      <td>-1</td>\n",
              "    </tr>\n",
              "  </tbody>\n",
              "</table>\n",
              "<p>1 rows × 25 columns</p>\n",
              "</div>\n",
              "      <button class=\"colab-df-convert\" onclick=\"convertToInteractive('df-029c5438-d74c-4311-bc42-eae003cb8a3b')\"\n",
              "              title=\"Convert this dataframe to an interactive table.\"\n",
              "              style=\"display:none;\">\n",
              "        \n",
              "  <svg xmlns=\"http://www.w3.org/2000/svg\" height=\"24px\"viewBox=\"0 0 24 24\"\n",
              "       width=\"24px\">\n",
              "    <path d=\"M0 0h24v24H0V0z\" fill=\"none\"/>\n",
              "    <path d=\"M18.56 5.44l.94 2.06.94-2.06 2.06-.94-2.06-.94-.94-2.06-.94 2.06-2.06.94zm-11 1L8.5 8.5l.94-2.06 2.06-.94-2.06-.94L8.5 2.5l-.94 2.06-2.06.94zm10 10l.94 2.06.94-2.06 2.06-.94-2.06-.94-.94-2.06-.94 2.06-2.06.94z\"/><path d=\"M17.41 7.96l-1.37-1.37c-.4-.4-.92-.59-1.43-.59-.52 0-1.04.2-1.43.59L10.3 9.45l-7.72 7.72c-.78.78-.78 2.05 0 2.83L4 21.41c.39.39.9.59 1.41.59.51 0 1.02-.2 1.41-.59l7.78-7.78 2.81-2.81c.8-.78.8-2.07 0-2.86zM5.41 20L4 18.59l7.72-7.72 1.47 1.35L5.41 20z\"/>\n",
              "  </svg>\n",
              "      </button>\n",
              "      \n",
              "  <style>\n",
              "    .colab-df-container {\n",
              "      display:flex;\n",
              "      flex-wrap:wrap;\n",
              "      gap: 12px;\n",
              "    }\n",
              "\n",
              "    .colab-df-convert {\n",
              "      background-color: #E8F0FE;\n",
              "      border: none;\n",
              "      border-radius: 50%;\n",
              "      cursor: pointer;\n",
              "      display: none;\n",
              "      fill: #1967D2;\n",
              "      height: 32px;\n",
              "      padding: 0 0 0 0;\n",
              "      width: 32px;\n",
              "    }\n",
              "\n",
              "    .colab-df-convert:hover {\n",
              "      background-color: #E2EBFA;\n",
              "      box-shadow: 0px 1px 2px rgba(60, 64, 67, 0.3), 0px 1px 3px 1px rgba(60, 64, 67, 0.15);\n",
              "      fill: #174EA6;\n",
              "    }\n",
              "\n",
              "    [theme=dark] .colab-df-convert {\n",
              "      background-color: #3B4455;\n",
              "      fill: #D2E3FC;\n",
              "    }\n",
              "\n",
              "    [theme=dark] .colab-df-convert:hover {\n",
              "      background-color: #434B5C;\n",
              "      box-shadow: 0px 1px 3px 1px rgba(0, 0, 0, 0.15);\n",
              "      filter: drop-shadow(0px 1px 2px rgba(0, 0, 0, 0.3));\n",
              "      fill: #FFFFFF;\n",
              "    }\n",
              "  </style>\n",
              "\n",
              "      <script>\n",
              "        const buttonEl =\n",
              "          document.querySelector('#df-029c5438-d74c-4311-bc42-eae003cb8a3b button.colab-df-convert');\n",
              "        buttonEl.style.display =\n",
              "          google.colab.kernel.accessAllowed ? 'block' : 'none';\n",
              "\n",
              "        async function convertToInteractive(key) {\n",
              "          const element = document.querySelector('#df-029c5438-d74c-4311-bc42-eae003cb8a3b');\n",
              "          const dataTable =\n",
              "            await google.colab.kernel.invokeFunction('convertToInteractive',\n",
              "                                                     [key], {});\n",
              "          if (!dataTable) return;\n",
              "\n",
              "          const docLinkHtml = 'Like what you see? Visit the ' +\n",
              "            '<a target=\"_blank\" href=https://colab.research.google.com/notebooks/data_table.ipynb>data table notebook</a>'\n",
              "            + ' to learn more about interactive tables.';\n",
              "          element.innerHTML = '';\n",
              "          dataTable['output_type'] = 'display_data';\n",
              "          await google.colab.output.renderOutput(dataTable, element);\n",
              "          const docLink = document.createElement('div');\n",
              "          docLink.innerHTML = docLinkHtml;\n",
              "          element.appendChild(docLink);\n",
              "        }\n",
              "      </script>\n",
              "    </div>\n",
              "  </div>\n",
              "  "
            ]
          },
          "metadata": {},
          "execution_count": 22
        }
      ]
    },
    {
      "cell_type": "code",
      "source": [
        "sns.regplot(x=\"Sales\", y=\"Profit\", data=df)\n",
        "sns.despine();"
      ],
      "metadata": {
        "colab": {
          "base_uri": "https://localhost:8080/",
          "height": 279
        },
        "id": "V3WT2Vvmk9iK",
        "outputId": "b321d085-b5f4-4c42-ffef-49a4530dd779"
      },
      "execution_count": 23,
      "outputs": [
        {
          "output_type": "display_data",
          "data": {
            "text/plain": [
              "<Figure size 432x288 with 1 Axes>"
            ],
            "image/png": "[encoded data removed]"
          },
          "metadata": {
            "needs_background": "light"
          }
        }
      ]
    },
    {
      "cell_type": "markdown",
      "source": [
        "# From the above correlation chart, we can see that some of the data points are obvious outliers such as extreme low and extreme high values."
      ],
      "metadata": {
        "id": "8VqFxSXSlE9D"
      }
    },
    {
      "cell_type": "code",
      "source": [
        "minmax = MinMaxScaler(feature_range=(0, 1))\n",
        "X = minmax.fit_transform(df[['Sales','Profit']])"
      ],
      "metadata": {
        "id": "2OS3LfkxlEIE"
      },
      "execution_count": 24,
      "outputs": []
    },
    {
      "cell_type": "code",
      "source": [
        "clf = LocalOutlierFactor(n_neighbors=100,novelty=True, contamination=0.01)\n",
        "clf.fit(X)\n",
        "\n",
        "# predict raw anomaly score\n",
        "df['multivariate_anomaly_score'] = clf.decision_function(X)\n",
        "        \n",
        "# prediction of a datapoint category outlier or inlier\n",
        "df['multivariate_outlier'] = clf.predict(X)"
      ],
      "metadata": {
        "id": "SCh0iS_OlEFK"
      },
      "execution_count": 25,
      "outputs": []
    },
    {
      "cell_type": "code",
      "source": [
        "plt.scatter(df['Sales'], df['Profit'],\n",
        "            c=df.multivariate_outlier, edgecolor='none', alpha=0.5,\n",
        "            cmap=plt.cm.get_cmap('Paired', 10))\n",
        "plt.xlabel('Sales')\n",
        "plt.ylabel('Profit')\n",
        "plt.colorbar();"
      ],
      "metadata": {
        "colab": {
          "base_uri": "https://localhost:8080/",
          "height": 283
        },
        "id": "pHNBoLgjlECB",
        "outputId": "ce22611f-94a6-49c7-9d15-7e85338385ed"
      },
      "execution_count": 26,
      "outputs": [
        {
          "output_type": "display_data",
          "data": {
            "text/plain": [
              "<Figure size 432x288 with 2 Axes>"
            ],
            "image/png": "[encoded data removed]"
          },
          "metadata": {
            "needs_background": "light"
          }
        }
      ]
    },
    {
      "cell_type": "code",
      "source": [
        "df[(df['outlier_sales'] == 1) & (df['outlier_profit'] == 1) & (df['multivariate_outlier'] == -1)]"
      ],
      "metadata": {
        "colab": {
          "base_uri": "https://localhost:8080/",
          "height": 852
        },
        "id": "vWaBfZtelftS",
        "outputId": "ba9269eb-dc51-4c15-af23-e4c36066c789"
      },
      "execution_count": 28,
      "outputs": [
        {
          "output_type": "execute_result",
          "data": {
            "text/plain": [
              "      Row ID        Order ID  Order Date   Ship Date       Ship Mode  \\\n",
              "27        28  US-2015-150630   9/17/2015   9/21/2015  Standard Class   \n",
              "165      166  CA-2014-139892    9/8/2014   9/12/2014  Standard Class   \n",
              "169      170  CA-2014-139892    9/8/2014   9/12/2014  Standard Class   \n",
              "215      216  CA-2015-146262    1/2/2015    1/9/2015  Standard Class   \n",
              "262      263  US-2014-106992   9/19/2014   9/21/2014    Second Class   \n",
              "...      ...             ...         ...         ...             ...   \n",
              "9231    9232  CA-2014-148383  12/27/2014  12/31/2014  Standard Class   \n",
              "9270    9271  US-2017-102183   8/21/2017   8/28/2017  Standard Class   \n",
              "9480    9481  CA-2014-126193    9/7/2014   9/14/2014  Standard Class   \n",
              "9639    9640  CA-2015-116638   1/28/2015   1/31/2015    Second Class   \n",
              "9774    9775  CA-2014-169019   7/26/2014   7/30/2014  Standard Class   \n",
              "\n",
              "     Customer ID    Customer Name    Segment        Country           City  \\\n",
              "27      TB-21520  Tracy Blumstein   Consumer  United States   Philadelphia   \n",
              "165     BM-11140     Becky Martin   Consumer  United States    San Antonio   \n",
              "169     BM-11140     Becky Martin   Consumer  United States    San Antonio   \n",
              "215     VW-21775  Victoria Wilson  Corporate  United States         Medina   \n",
              "262     SB-20290     Sean Braxton  Corporate  United States        Houston   \n",
              "...          ...              ...        ...            ...            ...   \n",
              "9231    RP-19390     Resi Pölking   Consumer  United States        Phoenix   \n",
              "9270    PK-19075        Pete Kriz   Consumer  United States  New York City   \n",
              "9480    SS-20410  Shahid Shariari   Consumer  United States         Oswego   \n",
              "9639    JH-15985      Joseph Holt   Consumer  United States        Concord   \n",
              "9774    LF-17185      Luke Foster   Consumer  United States    San Antonio   \n",
              "\n",
              "      ...     Sales  Quantity Discount     Profit anomaly_score_sales  \\\n",
              "27    ...  3083.430         7      0.5 -1665.0522        1.556000e+08   \n",
              "165   ...  8159.952         8      0.4 -1359.9920        1.556000e+08   \n",
              "169   ...   177.980         5      0.8  -453.8490        1.556000e+08   \n",
              "215   ...  1188.000         9      0.7  -950.4000        1.556000e+08   \n",
              "262   ...  3059.982         3      0.4  -509.9970        1.556000e+08   \n",
              "...   ...       ...       ...      ...        ...                 ...   \n",
              "9231  ...   946.764         6      0.7  -694.2936        1.556000e+08   \n",
              "9270  ...  4305.552         6      0.2  1453.1238        1.556000e+08   \n",
              "9480  ...   304.990         5      0.8  -533.7325        1.556000e+08   \n",
              "9639  ...  4297.644        13      0.4 -1862.3124        1.556000e+08   \n",
              "9774  ...  2177.584         8      0.8 -3701.8928        1.556000e+08   \n",
              "\n",
              "     outlier_sales anomaly_score_profit  outlier_profit  \\\n",
              "27               1         6.192750e+07               1   \n",
              "165              1         6.192750e+07               1   \n",
              "169              1         6.192750e+07               1   \n",
              "215              1         6.192750e+07               1   \n",
              "262              1         6.192750e+07               1   \n",
              "...            ...                  ...             ...   \n",
              "9231             1         6.192750e+07               1   \n",
              "9270             1         6.192750e+07               1   \n",
              "9480             1         6.192750e+07               1   \n",
              "9639             1         6.192750e+07               1   \n",
              "9774             1         6.192750e+07               1   \n",
              "\n",
              "      multivariate_anomaly_score  multivariate_outlier  \n",
              "27                     -1.548642                    -1  \n",
              "165                    -2.604282                    -1  \n",
              "169                    -0.066652                    -1  \n",
              "215                    -0.438146                    -1  \n",
              "262                    -0.377032                    -1  \n",
              "...                          ...                   ...  \n",
              "9231                   -0.082819                    -1  \n",
              "9270                   -0.117475                    -1  \n",
              "9480                   -0.127277                    -1  \n",
              "9639                   -1.753178                    -1  \n",
              "9774                   -5.590769                    -1  \n",
              "\n",
              "[97 rows x 27 columns]"
            ],
            "text/html": [
              "\n",
              "  <div id=\"df-7976cc88-e22b-4e57-9e78-48ced1452573\">\n",
              "    <div class=\"colab-df-container\">\n",
              "      <div>\n",
              "<style scoped>\n",
              "    .dataframe tbody tr th:only-of-type {\n",
              "        vertical-align: middle;\n",
              "    }\n",
              "\n",
              "    .dataframe tbody tr th {\n",
              "        vertical-align: top;\n",
              "    }\n",
              "\n",
              "    .dataframe thead th {\n",
              "        text-align: right;\n",
              "    }\n",
              "</style>\n",
              "<table border=\"1\" class=\"dataframe\">\n",
              "  <thead>\n",
              "    <tr style=\"text-align: right;\">\n",
              "      <th></th>\n",
              "      <th>Row ID</th>\n",
              "      <th>Order ID</th>\n",
              "      <th>Order Date</th>\n",
              "      <th>Ship Date</th>\n",
              "      <th>Ship Mode</th>\n",
              "      <th>Customer ID</th>\n",
              "      <th>Customer Name</th>\n",
              "      <th>Segment</th>\n",
              "      <th>Country</th>\n",
              "      <th>City</th>\n",
              "      <th>...</th>\n",
              "      <th>Sales</th>\n",
              "      <th>Quantity</th>\n",
              "      <th>Discount</th>\n",
              "      <th>Profit</th>\n",
              "      <th>anomaly_score_sales</th>\n",
              "      <th>outlier_sales</th>\n",
              "      <th>anomaly_score_profit</th>\n",
              "      <th>outlier_profit</th>\n",
              "      <th>multivariate_anomaly_score</th>\n",
              "      <th>multivariate_outlier</th>\n",
              "    </tr>\n",
              "  </thead>\n",
              "  <tbody>\n",
              "    <tr>\n",
              "      <th>27</th>\n",
              "      <td>28</td>\n",
              "      <td>US-2015-150630</td>\n",
              "      <td>9/17/2015</td>\n",
              "      <td>9/21/2015</td>\n",
              "      <td>Standard Class</td>\n",
              "      <td>TB-21520</td>\n",
              "      <td>Tracy Blumstein</td>\n",
              "      <td>Consumer</td>\n",
              "      <td>United States</td>\n",
              "      <td>Philadelphia</td>\n",
              "      <td>...</td>\n",
              "      <td>3083.430</td>\n",
              "      <td>7</td>\n",
              "      <td>0.5</td>\n",
              "      <td>-1665.0522</td>\n",
              "      <td>1.556000e+08</td>\n",
              "      <td>1</td>\n",
              "      <td>6.192750e+07</td>\n",
              "      <td>1</td>\n",
              "      <td>-1.548642</td>\n",
              "      <td>-1</td>\n",
              "    </tr>\n",
              "    <tr>\n",
              "      <th>165</th>\n",
              "      <td>166</td>\n",
              "      <td>CA-2014-139892</td>\n",
              "      <td>9/8/2014</td>\n",
              "      <td>9/12/2014</td>\n",
              "      <td>Standard Class</td>\n",
              "      <td>BM-11140</td>\n",
              "      <td>Becky Martin</td>\n",
              "      <td>Consumer</td>\n",
              "      <td>United States</td>\n",
              "      <td>San Antonio</td>\n",
              "      <td>...</td>\n",
              "      <td>8159.952</td>\n",
              "      <td>8</td>\n",
              "      <td>0.4</td>\n",
              "      <td>-1359.9920</td>\n",
              "      <td>1.556000e+08</td>\n",
              "      <td>1</td>\n",
              "      <td>6.192750e+07</td>\n",
              "      <td>1</td>\n",
              "      <td>-2.604282</td>\n",
              "      <td>-1</td>\n",
              "    </tr>\n",
              "    <tr>\n",
              "      <th>169</th>\n",
              "      <td>170</td>\n",
              "      <td>CA-2014-139892</td>\n",
              "      <td>9/8/2014</td>\n",
              "      <td>9/12/2014</td>\n",
              "      <td>Standard Class</td>\n",
              "      <td>BM-11140</td>\n",
              "      <td>Becky Martin</td>\n",
              "      <td>Consumer</td>\n",
              "      <td>United States</td>\n",
              "      <td>San Antonio</td>\n",
              "      <td>...</td>\n",
              "      <td>177.980</td>\n",
              "      <td>5</td>\n",
              "      <td>0.8</td>\n",
              "      <td>-453.8490</td>\n",
              "      <td>1.556000e+08</td>\n",
              "      <td>1</td>\n",
              "      <td>6.192750e+07</td>\n",
              "      <td>1</td>\n",
              "      <td>-0.066652</td>\n",
              "      <td>-1</td>\n",
              "    </tr>\n",
              "    <tr>\n",
              "      <th>215</th>\n",
              "      <td>216</td>\n",
              "      <td>CA-2015-146262</td>\n",
              "      <td>1/2/2015</td>\n",
              "      <td>1/9/2015</td>\n",
              "      <td>Standard Class</td>\n",
              "      <td>VW-21775</td>\n",
              "      <td>Victoria Wilson</td>\n",
              "      <td>Corporate</td>\n",
              "      <td>United States</td>\n",
              "      <td>Medina</td>\n",
              "      <td>...</td>\n",
              "      <td>1188.000</td>\n",
              "      <td>9</td>\n",
              "      <td>0.7</td>\n",
              "      <td>-950.4000</td>\n",
              "      <td>1.556000e+08</td>\n",
              "      <td>1</td>\n",
              "      <td>6.192750e+07</td>\n",
              "      <td>1</td>\n",
              "      <td>-0.438146</td>\n",
              "      <td>-1</td>\n",
              "    </tr>\n",
              "    <tr>\n",
              "      <th>262</th>\n",
              "      <td>263</td>\n",
              "      <td>US-2014-106992</td>\n",
              "      <td>9/19/2014</td>\n",
              "      <td>9/21/2014</td>\n",
              "      <td>Second Class</td>\n",
              "      <td>SB-20290</td>\n",
              "      <td>Sean Braxton</td>\n",
              "      <td>Corporate</td>\n",
              "      <td>United States</td>\n",
              "      <td>Houston</td>\n",
              "      <td>...</td>\n",
              "      <td>3059.982</td>\n",
              "      <td>3</td>\n",
              "      <td>0.4</td>\n",
              "      <td>-509.9970</td>\n",
              "      <td>1.556000e+08</td>\n",
              "      <td>1</td>\n",
              "      <td>6.192750e+07</td>\n",
              "      <td>1</td>\n",
              "      <td>-0.377032</td>\n",
              "      <td>-1</td>\n",
              "    </tr>\n",
              "    <tr>\n",
              "      <th>...</th>\n",
              "      <td>...</td>\n",
              "      <td>...</td>\n",
              "      <td>...</td>\n",
              "      <td>...</td>\n",
              "      <td>...</td>\n",
              "      <td>...</td>\n",
              "      <td>...</td>\n",
              "      <td>...</td>\n",
              "      <td>...</td>\n",
              "      <td>...</td>\n",
              "      <td>...</td>\n",
              "      <td>...</td>\n",
              "      <td>...</td>\n",
              "      <td>...</td>\n",
              "      <td>...</td>\n",
              "      <td>...</td>\n",
              "      <td>...</td>\n",
              "      <td>...</td>\n",
              "      <td>...</td>\n",
              "      <td>...</td>\n",
              "      <td>...</td>\n",
              "    </tr>\n",
              "    <tr>\n",
              "      <th>9231</th>\n",
              "      <td>9232</td>\n",
              "      <td>CA-2014-148383</td>\n",
              "      <td>12/27/2014</td>\n",
              "      <td>12/31/2014</td>\n",
              "      <td>Standard Class</td>\n",
              "      <td>RP-19390</td>\n",
              "      <td>Resi Pölking</td>\n",
              "      <td>Consumer</td>\n",
              "      <td>United States</td>\n",
              "      <td>Phoenix</td>\n",
              "      <td>...</td>\n",
              "      <td>946.764</td>\n",
              "      <td>6</td>\n",
              "      <td>0.7</td>\n",
              "      <td>-694.2936</td>\n",
              "      <td>1.556000e+08</td>\n",
              "      <td>1</td>\n",
              "      <td>6.192750e+07</td>\n",
              "      <td>1</td>\n",
              "      <td>-0.082819</td>\n",
              "      <td>-1</td>\n",
              "    </tr>\n",
              "    <tr>\n",
              "      <th>9270</th>\n",
              "      <td>9271</td>\n",
              "      <td>US-2017-102183</td>\n",
              "      <td>8/21/2017</td>\n",
              "      <td>8/28/2017</td>\n",
              "      <td>Standard Class</td>\n",
              "      <td>PK-19075</td>\n",
              "      <td>Pete Kriz</td>\n",
              "      <td>Consumer</td>\n",
              "      <td>United States</td>\n",
              "      <td>New York City</td>\n",
              "      <td>...</td>\n",
              "      <td>4305.552</td>\n",
              "      <td>6</td>\n",
              "      <td>0.2</td>\n",
              "      <td>1453.1238</td>\n",
              "      <td>1.556000e+08</td>\n",
              "      <td>1</td>\n",
              "      <td>6.192750e+07</td>\n",
              "      <td>1</td>\n",
              "      <td>-0.117475</td>\n",
              "      <td>-1</td>\n",
              "    </tr>\n",
              "    <tr>\n",
              "      <th>9480</th>\n",
              "      <td>9481</td>\n",
              "      <td>CA-2014-126193</td>\n",
              "      <td>9/7/2014</td>\n",
              "      <td>9/14/2014</td>\n",
              "      <td>Standard Class</td>\n",
              "      <td>SS-20410</td>\n",
              "      <td>Shahid Shariari</td>\n",
              "      <td>Consumer</td>\n",
              "      <td>United States</td>\n",
              "      <td>Oswego</td>\n",
              "      <td>...</td>\n",
              "      <td>304.990</td>\n",
              "      <td>5</td>\n",
              "      <td>0.8</td>\n",
              "      <td>-533.7325</td>\n",
              "      <td>1.556000e+08</td>\n",
              "      <td>1</td>\n",
              "      <td>6.192750e+07</td>\n",
              "      <td>1</td>\n",
              "      <td>-0.127277</td>\n",
              "      <td>-1</td>\n",
              "    </tr>\n",
              "    <tr>\n",
              "      <th>9639</th>\n",
              "      <td>9640</td>\n",
              "      <td>CA-2015-116638</td>\n",
              "      <td>1/28/2015</td>\n",
              "      <td>1/31/2015</td>\n",
              "      <td>Second Class</td>\n",
              "      <td>JH-15985</td>\n",
              "      <td>Joseph Holt</td>\n",
              "      <td>Consumer</td>\n",
              "      <td>United States</td>\n",
              "      <td>Concord</td>\n",
              "      <td>...</td>\n",
              "      <td>4297.644</td>\n",
              "      <td>13</td>\n",
              "      <td>0.4</td>\n",
              "      <td>-1862.3124</td>\n",
              "      <td>1.556000e+08</td>\n",
              "      <td>1</td>\n",
              "      <td>6.192750e+07</td>\n",
              "      <td>1</td>\n",
              "      <td>-1.753178</td>\n",
              "      <td>-1</td>\n",
              "    </tr>\n",
              "    <tr>\n",
              "      <th>9774</th>\n",
              "      <td>9775</td>\n",
              "      <td>CA-2014-169019</td>\n",
              "      <td>7/26/2014</td>\n",
              "      <td>7/30/2014</td>\n",
              "      <td>Standard Class</td>\n",
              "      <td>LF-17185</td>\n",
              "      <td>Luke Foster</td>\n",
              "      <td>Consumer</td>\n",
              "      <td>United States</td>\n",
              "      <td>San Antonio</td>\n",
              "      <td>...</td>\n",
              "      <td>2177.584</td>\n",
              "      <td>8</td>\n",
              "      <td>0.8</td>\n",
              "      <td>-3701.8928</td>\n",
              "      <td>1.556000e+08</td>\n",
              "      <td>1</td>\n",
              "      <td>6.192750e+07</td>\n",
              "      <td>1</td>\n",
              "      <td>-5.590769</td>\n",
              "      <td>-1</td>\n",
              "    </tr>\n",
              "  </tbody>\n",
              "</table>\n",
              "<p>97 rows × 27 columns</p>\n",
              "</div>\n",
              "      <button class=\"colab-df-convert\" onclick=\"convertToInteractive('df-7976cc88-e22b-4e57-9e78-48ced1452573')\"\n",
              "              title=\"Convert this dataframe to an interactive table.\"\n",
              "              style=\"display:none;\">\n",
              "        \n",
              "  <svg xmlns=\"http://www.w3.org/2000/svg\" height=\"24px\"viewBox=\"0 0 24 24\"\n",
              "       width=\"24px\">\n",
              "    <path d=\"M0 0h24v24H0V0z\" fill=\"none\"/>\n",
              "    <path d=\"M18.56 5.44l.94 2.06.94-2.06 2.06-.94-2.06-.94-.94-2.06-.94 2.06-2.06.94zm-11 1L8.5 8.5l.94-2.06 2.06-.94-2.06-.94L8.5 2.5l-.94 2.06-2.06.94zm10 10l.94 2.06.94-2.06 2.06-.94-2.06-.94-.94-2.06-.94 2.06-2.06.94z\"/><path d=\"M17.41 7.96l-1.37-1.37c-.4-.4-.92-.59-1.43-.59-.52 0-1.04.2-1.43.59L10.3 9.45l-7.72 7.72c-.78.78-.78 2.05 0 2.83L4 21.41c.39.39.9.59 1.41.59.51 0 1.02-.2 1.41-.59l7.78-7.78 2.81-2.81c.8-.78.8-2.07 0-2.86zM5.41 20L4 18.59l7.72-7.72 1.47 1.35L5.41 20z\"/>\n",
              "  </svg>\n",
              "      </button>\n",
              "      \n",
              "  <style>\n",
              "    .colab-df-container {\n",
              "      display:flex;\n",
              "      flex-wrap:wrap;\n",
              "      gap: 12px;\n",
              "    }\n",
              "\n",
              "    .colab-df-convert {\n",
              "      background-color: #E8F0FE;\n",
              "      border: none;\n",
              "      border-radius: 50%;\n",
              "      cursor: pointer;\n",
              "      display: none;\n",
              "      fill: #1967D2;\n",
              "      height: 32px;\n",
              "      padding: 0 0 0 0;\n",
              "      width: 32px;\n",
              "    }\n",
              "\n",
              "    .colab-df-convert:hover {\n",
              "      background-color: #E2EBFA;\n",
              "      box-shadow: 0px 1px 2px rgba(60, 64, 67, 0.3), 0px 1px 3px 1px rgba(60, 64, 67, 0.15);\n",
              "      fill: #174EA6;\n",
              "    }\n",
              "\n",
              "    [theme=dark] .colab-df-convert {\n",
              "      background-color: #3B4455;\n",
              "      fill: #D2E3FC;\n",
              "    }\n",
              "\n",
              "    [theme=dark] .colab-df-convert:hover {\n",
              "      background-color: #434B5C;\n",
              "      box-shadow: 0px 1px 3px 1px rgba(0, 0, 0, 0.15);\n",
              "      filter: drop-shadow(0px 1px 2px rgba(0, 0, 0, 0.3));\n",
              "      fill: #FFFFFF;\n",
              "    }\n",
              "  </style>\n",
              "\n",
              "      <script>\n",
              "        const buttonEl =\n",
              "          document.querySelector('#df-7976cc88-e22b-4e57-9e78-48ced1452573 button.colab-df-convert');\n",
              "        buttonEl.style.display =\n",
              "          google.colab.kernel.accessAllowed ? 'block' : 'none';\n",
              "\n",
              "        async function convertToInteractive(key) {\n",
              "          const element = document.querySelector('#df-7976cc88-e22b-4e57-9e78-48ced1452573');\n",
              "          const dataTable =\n",
              "            await google.colab.kernel.invokeFunction('convertToInteractive',\n",
              "                                                     [key], {});\n",
              "          if (!dataTable) return;\n",
              "\n",
              "          const docLinkHtml = 'Like what you see? Visit the ' +\n",
              "            '<a target=\"_blank\" href=https://colab.research.google.com/notebooks/data_table.ipynb>data table notebook</a>'\n",
              "            + ' to learn more about interactive tables.';\n",
              "          element.innerHTML = '';\n",
              "          dataTable['output_type'] = 'display_data';\n",
              "          await google.colab.output.renderOutput(dataTable, element);\n",
              "          const docLink = document.createElement('div');\n",
              "          docLink.innerHTML = docLinkHtml;\n",
              "          element.appendChild(docLink);\n",
              "        }\n",
              "      </script>\n",
              "    </div>\n",
              "  </div>\n",
              "  "
            ]
          },
          "metadata": {},
          "execution_count": 28
        }
      ]
    },
    {
      "cell_type": "code",
      "source": [
        "clf = LocalOutlierFactor(n_neighbors=50, contamination='auto')\n",
        "X = df[['Sales','Profit']].values\n",
        "y_pred = clf.fit_predict(X)"
      ],
      "metadata": {
        "id": "jzL3ZTLmlyom"
      },
      "execution_count": 29,
      "outputs": []
    },
    {
      "cell_type": "code",
      "source": [
        "plt.figure(figsize=(12,12))\n",
        "# plot the level sets of the decision function\n",
        "\n",
        "in_mask = [True if l == 1 else False for l in y_pred]\n",
        "out_mask = [True if l == -1 else False for l in y_pred]\n",
        "\n",
        "plt.title(\"Local Outlier Factor (LOF)\")\n",
        "# inliers\n",
        "a = plt.scatter(X[in_mask, 0], X[in_mask, 1], c = 'blue',\n",
        "                edgecolor = 'k', s = 30)\n",
        "# outliers\n",
        "b = plt.scatter(X[out_mask, 0], X[out_mask, 1], c = 'red',\n",
        "                edgecolor = 'k', s = 30)\n",
        "plt.axis('tight')\n",
        "plt.xlabel('Sales');\n",
        "plt.ylabel('Profit');\n",
        "plt.show()"
      ],
      "metadata": {
        "colab": {
          "base_uri": "https://localhost:8080/",
          "height": 730
        },
        "id": "EY90ac1mlylr",
        "outputId": "ee8aee98-1842-49a7-de06-31d579387eaa"
      },
      "execution_count": 30,
      "outputs": [
        {
          "output_type": "display_data",
          "data": {
            "text/plain": [
              "<Figure size 864x864 with 1 Axes>"
            ],
            "image/png": "[encoded data removed]"
          },
          "metadata": {
            "needs_background": "light"
          }
        }
      ]
    },
    {
      "cell_type": "code",
      "source": [],
      "metadata": {
        "id": "2plDpqgVlyi0"
      },
      "execution_count": null,
      "outputs": []
    },
    {
      "cell_type": "code",
      "source": [],
      "metadata": {
        "id": "N1I_0NYAlyfT"
      },
      "execution_count": null,
      "outputs": []
    },
    {
      "cell_type": "code",
      "source": [],
      "metadata": {
        "id": "4Gjzk_q2lyb6"
      },
      "execution_count": null,
      "outputs": []
    },
    {
      "cell_type": "markdown",
      "source": [
        "### **Method 2 **"
      ],
      "metadata": {
        "id": "TZn_dzo4mAO7"
      }
    },
    {
      "cell_type": "markdown",
      "source": [
        "# Creating input and target variables"
      ],
      "metadata": {
        "id": "um6Qloctp37Q"
      }
    },
    {
      "cell_type": "code",
      "source": [
        "X=df.iloc[:,-4]\n",
        "X"
      ],
      "metadata": {
        "colab": {
          "base_uri": "https://localhost:8080/"
        },
        "id": "lt8attfLp6Tf",
        "outputId": "84d5ec68-d076-46a2-af03-860292bf09c3"
      },
      "execution_count": 31,
      "outputs": [
        {
          "output_type": "execute_result",
          "data": {
            "text/plain": [
              "0       6.192750e+07\n",
              "1       6.192750e+07\n",
              "2       6.192750e+07\n",
              "3       6.192750e+07\n",
              "4       6.192750e+07\n",
              "            ...     \n",
              "9989    6.192750e+07\n",
              "9990    6.192750e+07\n",
              "9991    6.192750e+07\n",
              "9992    6.192750e+07\n",
              "9993    6.192750e+07\n",
              "Name: anomaly_score_profit, Length: 9994, dtype: float64"
            ]
          },
          "metadata": {},
          "execution_count": 31
        }
      ]
    },
    {
      "cell_type": "code",
      "source": [
        "y=df.iloc[:, -1]\n",
        "y"
      ],
      "metadata": {
        "colab": {
          "base_uri": "https://localhost:8080/"
        },
        "id": "cMd9gWONp6HO",
        "outputId": "1685af89-2071-4097-989a-8102abfbd4e5"
      },
      "execution_count": 32,
      "outputs": [
        {
          "output_type": "execute_result",
          "data": {
            "text/plain": [
              "0       1\n",
              "1       1\n",
              "2       1\n",
              "3       1\n",
              "4       1\n",
              "       ..\n",
              "9989    1\n",
              "9990    1\n",
              "9991    1\n",
              "9992    1\n",
              "9993    1\n",
              "Name: multivariate_outlier, Length: 9994, dtype: int64"
            ]
          },
          "metadata": {},
          "execution_count": 32
        }
      ]
    },
    {
      "cell_type": "code",
      "source": [
        "clf = LocalOutlierFactor(n_neighbors=20, contamination=0.1)\n",
        "clf"
      ],
      "metadata": {
        "colab": {
          "base_uri": "https://localhost:8080/"
        },
        "id": "vO0CQm05q1h-",
        "outputId": "835d1435-7d5a-4e8a-ddec-98b23127a172"
      },
      "execution_count": 33,
      "outputs": [
        {
          "output_type": "execute_result",
          "data": {
            "text/plain": [
              "LocalOutlierFactor(contamination=0.1)"
            ]
          },
          "metadata": {},
          "execution_count": 33
        }
      ]
    },
    {
      "cell_type": "markdown",
      "source": [
        "Use fit_predict() to compute the predicted labels of the training samples. When LOF is used for outlier detection, the estimator has no predict(), decision_function() and score_samples() methods."
      ],
      "metadata": {
        "id": "UwYHzJkPwub5"
      }
    },
    {
      "cell_type": "code",
      "source": [
        "# use fit_predict to compute the predicted labels of the training samples\n",
        "clf.fit(df['Sales'].values.reshape(-1, 1))\n",
        "y_pred = clf.fit_predict(df['Sales'].values.reshape(-1, 1))\n",
        "n_errors = (y_pred != y).sum()\n",
        "X_scores = clf.negative_outlier_factor_"
      ],
      "metadata": {
        "id": "m75i5aYGq1bA"
      },
      "execution_count": 34,
      "outputs": []
    },
    {
      "cell_type": "code",
      "source": [
        "y_pred\n"
      ],
      "metadata": {
        "colab": {
          "base_uri": "https://localhost:8080/"
        },
        "id": "ECDgGwrvutLH",
        "outputId": "cb83cd54-f379-410e-aee7-42af516f0260"
      },
      "execution_count": 35,
      "outputs": [
        {
          "output_type": "execute_result",
          "data": {
            "text/plain": [
              "array([ 1, -1,  1, ...,  1,  1,  1])"
            ]
          },
          "metadata": {},
          "execution_count": 35
        }
      ]
    },
    {
      "cell_type": "code",
      "source": [
        "X_scores"
      ],
      "metadata": {
        "colab": {
          "base_uri": "https://localhost:8080/"
        },
        "id": "42LOW-kpuvWN",
        "outputId": "6a3c6645-ace8-48a3-f17b-779d27cadde0"
      },
      "execution_count": 36,
      "outputs": [
        {
          "output_type": "execute_result",
          "data": {
            "text/plain": [
              "array([-1.05885686, -1.3738282 , -0.98104422, ..., -0.96793834,\n",
              "       -1.01527037, -1.00322824])"
            ]
          },
          "metadata": {},
          "execution_count": 36
        }
      ]
    },
    {
      "cell_type": "markdown",
      "source": [
        "LOF score(x_scores) tells us if a data point has a substantially lower density than its neighbors, then the data point is considered as an outlier.\n",
        "\n",
        "y_pred is 1 for an inlier and -1 for an outlier.\n",
        "\n",
        "Visualize the outliers using matplotlib, where the LOF score is not 1."
      ],
      "metadata": {
        "id": "NneSYEH7sdQn"
      }
    },
    {
      "cell_type": "code",
      "source": [
        "df1 = np.linspace(df['Sales'].min(), df['Sales'].max(), len(df)).reshape(-1,1)\n",
        "anomaly_score = clf.decision_function(df1)\n",
        "outlier = clf.predict(df1)\n",
        "\n",
        "plt.figure(figsize=(10,4))\n",
        "plt.plot(df1, anomaly_score, label='anomaly score')\n",
        "plt.fill_between(df1.T[0], np.min(anomaly_score), np.max(anomaly_score), \n",
        "                 where=outlier==-1, color='r', \n",
        "                 alpha=.4, label='outlier region')\n",
        "plt.legend()\n",
        "plt.ylabel('anomaly score')\n",
        "plt.xlabel('Sales')\n",
        "plt.show();"
      ],
      "metadata": {
        "colab": {
          "base_uri": "https://localhost:8080/",
          "height": 417
        },
        "id": "0TBAEdW_vwaS",
        "outputId": "6d963784-8fe5-43c3-9d02-c420b970e4dd"
      },
      "execution_count": 37,
      "outputs": [
        {
          "output_type": "error",
          "ename": "AttributeError",
          "evalue": "ignored",
          "traceback": [
            "\u001b[0;31m---------------------------------------------------------------------------\u001b[0m",
            "\u001b[0;31mAttributeError\u001b[0m                            Traceback (most recent call last)",
            "\u001b[0;32m<ipython-input-37-1c3f04469e91>\u001b[0m in \u001b[0;36m<module>\u001b[0;34m\u001b[0m\n\u001b[1;32m      1\u001b[0m \u001b[0mdf1\u001b[0m \u001b[0;34m=\u001b[0m \u001b[0mnp\u001b[0m\u001b[0;34m.\u001b[0m\u001b[0mlinspace\u001b[0m\u001b[0;34m(\u001b[0m\u001b[0mdf\u001b[0m\u001b[0;34m[\u001b[0m\u001b[0;34m'Sales'\u001b[0m\u001b[0;34m]\u001b[0m\u001b[0;34m.\u001b[0m\u001b[0mmin\u001b[0m\u001b[0;34m(\u001b[0m\u001b[0;34m)\u001b[0m\u001b[0;34m,\u001b[0m \u001b[0mdf\u001b[0m\u001b[0;34m[\u001b[0m\u001b[0;34m'Sales'\u001b[0m\u001b[0;34m]\u001b[0m\u001b[0;34m.\u001b[0m\u001b[0mmax\u001b[0m\u001b[0;34m(\u001b[0m\u001b[0;34m)\u001b[0m\u001b[0;34m,\u001b[0m \u001b[0mlen\u001b[0m\u001b[0;34m(\u001b[0m\u001b[0mdf\u001b[0m\u001b[0;34m)\u001b[0m\u001b[0;34m)\u001b[0m\u001b[0;34m.\u001b[0m\u001b[0mreshape\u001b[0m\u001b[0;34m(\u001b[0m\u001b[0;34m-\u001b[0m\u001b[0;36m1\u001b[0m\u001b[0;34m,\u001b[0m\u001b[0;36m1\u001b[0m\u001b[0;34m)\u001b[0m\u001b[0;34m\u001b[0m\u001b[0;34m\u001b[0m\u001b[0m\n\u001b[0;32m----> 2\u001b[0;31m \u001b[0manomaly_score\u001b[0m \u001b[0;34m=\u001b[0m \u001b[0mclf\u001b[0m\u001b[0;34m.\u001b[0m\u001b[0mdecision_function\u001b[0m\u001b[0;34m(\u001b[0m\u001b[0mdf1\u001b[0m\u001b[0;34m)\u001b[0m\u001b[0;34m\u001b[0m\u001b[0;34m\u001b[0m\u001b[0m\n\u001b[0m\u001b[1;32m      3\u001b[0m \u001b[0moutlier\u001b[0m \u001b[0;34m=\u001b[0m \u001b[0mclf\u001b[0m\u001b[0;34m.\u001b[0m\u001b[0mpredict\u001b[0m\u001b[0;34m(\u001b[0m\u001b[0mdf1\u001b[0m\u001b[0;34m)\u001b[0m\u001b[0;34m\u001b[0m\u001b[0;34m\u001b[0m\u001b[0m\n\u001b[1;32m      4\u001b[0m \u001b[0;34m\u001b[0m\u001b[0m\n\u001b[1;32m      5\u001b[0m \u001b[0mplt\u001b[0m\u001b[0;34m.\u001b[0m\u001b[0mfigure\u001b[0m\u001b[0;34m(\u001b[0m\u001b[0mfigsize\u001b[0m\u001b[0;34m=\u001b[0m\u001b[0;34m(\u001b[0m\u001b[0;36m10\u001b[0m\u001b[0;34m,\u001b[0m\u001b[0;36m4\u001b[0m\u001b[0;34m)\u001b[0m\u001b[0;34m)\u001b[0m\u001b[0;34m\u001b[0m\u001b[0;34m\u001b[0m\u001b[0m\n",
            "\u001b[0;32m/usr/local/lib/python3.7/dist-packages/sklearn/utils/metaestimators.py\u001b[0m in \u001b[0;36m__get__\u001b[0;34m(self, obj, owner)\u001b[0m\n\u001b[1;32m    107\u001b[0m             \u001b[0;31m# delegate only on instances, not the classes.\u001b[0m\u001b[0;34m\u001b[0m\u001b[0;34m\u001b[0m\u001b[0;34m\u001b[0m\u001b[0m\n\u001b[1;32m    108\u001b[0m             \u001b[0;31m# this is to allow access to the docstrings.\u001b[0m\u001b[0;34m\u001b[0m\u001b[0;34m\u001b[0m\u001b[0;34m\u001b[0m\u001b[0m\n\u001b[0;32m--> 109\u001b[0;31m             \u001b[0;32mif\u001b[0m \u001b[0;32mnot\u001b[0m \u001b[0mself\u001b[0m\u001b[0;34m.\u001b[0m\u001b[0mcheck\u001b[0m\u001b[0;34m(\u001b[0m\u001b[0mobj\u001b[0m\u001b[0;34m)\u001b[0m\u001b[0;34m:\u001b[0m\u001b[0;34m\u001b[0m\u001b[0;34m\u001b[0m\u001b[0m\n\u001b[0m\u001b[1;32m    110\u001b[0m                 \u001b[0;32mraise\u001b[0m \u001b[0mattr_err\u001b[0m\u001b[0;34m\u001b[0m\u001b[0;34m\u001b[0m\u001b[0m\n\u001b[1;32m    111\u001b[0m \u001b[0;34m\u001b[0m\u001b[0m\n",
            "\u001b[0;32m/usr/local/lib/python3.7/dist-packages/sklearn/neighbors/_lof.py\u001b[0m in \u001b[0;36m_check_novelty_decision_function\u001b[0;34m(self)\u001b[0m\n\u001b[1;32m    386\u001b[0m                 \u001b[0;34m\"negative_outlier_factor_ attribute.\"\u001b[0m\u001b[0;34m\u001b[0m\u001b[0;34m\u001b[0m\u001b[0m\n\u001b[1;32m    387\u001b[0m             )\n\u001b[0;32m--> 388\u001b[0;31m             \u001b[0;32mraise\u001b[0m \u001b[0mAttributeError\u001b[0m\u001b[0;34m(\u001b[0m\u001b[0mmsg\u001b[0m\u001b[0;34m)\u001b[0m\u001b[0;34m\u001b[0m\u001b[0;34m\u001b[0m\u001b[0m\n\u001b[0m\u001b[1;32m    389\u001b[0m         \u001b[0;32mreturn\u001b[0m \u001b[0;32mTrue\u001b[0m\u001b[0;34m\u001b[0m\u001b[0;34m\u001b[0m\u001b[0m\n\u001b[1;32m    390\u001b[0m \u001b[0;34m\u001b[0m\u001b[0m\n",
            "\u001b[0;31mAttributeError\u001b[0m: decision_function is not available when novelty=False. Use novelty=True if you want to use LOF for novelty detection and compute decision_function for new unseen data. Note that the opposite LOF of the training samples is always available by considering the negative_outlier_factor_ attribute."
          ]
        }
      ]
    },
    {
      "cell_type": "code",
      "source": [
        "lofs_index = np.where(y_pred!=1)\n",
        "values = X[lof_index]\n",
        "plt.title(\"Local Outlier Factor (LOF)\")\n",
        "plt.scatter(clf[:,0], clf[:,1], label=\"Normal\")\n",
        "plt.scatter(values[:,0],values[:,1], color='r', label=\"Outliers\")\n",
        "plt.legend(loc=\"upper left\")\n",
        "plt.show()"
      ],
      "metadata": {
        "colab": {
          "base_uri": "https://localhost:8080/",
          "height": 246
        },
        "id": "V3Wmv4cqsebM",
        "outputId": "92e34392-23c5-4abe-c378-93bc56698b67"
      },
      "execution_count": 39,
      "outputs": [
        {
          "output_type": "error",
          "ename": "NameError",
          "evalue": "ignored",
          "traceback": [
            "\u001b[0;31m---------------------------------------------------------------------------\u001b[0m",
            "\u001b[0;31mNameError\u001b[0m                                 Traceback (most recent call last)",
            "\u001b[0;32m<ipython-input-39-3f70c2f25b6e>\u001b[0m in \u001b[0;36m<module>\u001b[0;34m\u001b[0m\n\u001b[1;32m      1\u001b[0m \u001b[0mlofs_index\u001b[0m \u001b[0;34m=\u001b[0m \u001b[0mnp\u001b[0m\u001b[0;34m.\u001b[0m\u001b[0mwhere\u001b[0m\u001b[0;34m(\u001b[0m\u001b[0my_pred\u001b[0m\u001b[0;34m!=\u001b[0m\u001b[0;36m1\u001b[0m\u001b[0;34m)\u001b[0m\u001b[0;34m\u001b[0m\u001b[0;34m\u001b[0m\u001b[0m\n\u001b[0;32m----> 2\u001b[0;31m \u001b[0mvalues\u001b[0m \u001b[0;34m=\u001b[0m \u001b[0mX\u001b[0m\u001b[0;34m[\u001b[0m\u001b[0mlof_index\u001b[0m\u001b[0;34m]\u001b[0m\u001b[0;34m\u001b[0m\u001b[0;34m\u001b[0m\u001b[0m\n\u001b[0m\u001b[1;32m      3\u001b[0m \u001b[0mplt\u001b[0m\u001b[0;34m.\u001b[0m\u001b[0mtitle\u001b[0m\u001b[0;34m(\u001b[0m\u001b[0;34m\"Local Outlier Factor (LOF)\"\u001b[0m\u001b[0;34m)\u001b[0m\u001b[0;34m\u001b[0m\u001b[0;34m\u001b[0m\u001b[0m\n\u001b[1;32m      4\u001b[0m \u001b[0mplt\u001b[0m\u001b[0;34m.\u001b[0m\u001b[0mscatter\u001b[0m\u001b[0;34m(\u001b[0m\u001b[0mclf\u001b[0m\u001b[0;34m[\u001b[0m\u001b[0;34m:\u001b[0m\u001b[0;34m,\u001b[0m\u001b[0;36m0\u001b[0m\u001b[0;34m]\u001b[0m\u001b[0;34m,\u001b[0m \u001b[0mclf\u001b[0m\u001b[0;34m[\u001b[0m\u001b[0;34m:\u001b[0m\u001b[0;34m,\u001b[0m\u001b[0;36m1\u001b[0m\u001b[0;34m]\u001b[0m\u001b[0;34m,\u001b[0m \u001b[0mlabel\u001b[0m\u001b[0;34m=\u001b[0m\u001b[0;34m\"Normal\"\u001b[0m\u001b[0;34m)\u001b[0m\u001b[0;34m\u001b[0m\u001b[0;34m\u001b[0m\u001b[0m\n\u001b[1;32m      5\u001b[0m \u001b[0mplt\u001b[0m\u001b[0;34m.\u001b[0m\u001b[0mscatter\u001b[0m\u001b[0;34m(\u001b[0m\u001b[0mvalues\u001b[0m\u001b[0;34m[\u001b[0m\u001b[0;34m:\u001b[0m\u001b[0;34m,\u001b[0m\u001b[0;36m0\u001b[0m\u001b[0;34m]\u001b[0m\u001b[0;34m,\u001b[0m\u001b[0mvalues\u001b[0m\u001b[0;34m[\u001b[0m\u001b[0;34m:\u001b[0m\u001b[0;34m,\u001b[0m\u001b[0;36m1\u001b[0m\u001b[0;34m]\u001b[0m\u001b[0;34m,\u001b[0m \u001b[0mcolor\u001b[0m\u001b[0;34m=\u001b[0m\u001b[0;34m'r'\u001b[0m\u001b[0;34m,\u001b[0m \u001b[0mlabel\u001b[0m\u001b[0;34m=\u001b[0m\u001b[0;34m\"Outliers\"\u001b[0m\u001b[0;34m)\u001b[0m\u001b[0;34m\u001b[0m\u001b[0;34m\u001b[0m\u001b[0m\n",
            "\u001b[0;31mNameError\u001b[0m: name 'lof_index' is not defined"
          ]
        }
      ]
    },
    {
      "cell_type": "code",
      "source": [],
      "metadata": {
        "id": "mUM_3fMbseYf"
      },
      "execution_count": null,
      "outputs": []
    },
    {
      "cell_type": "code",
      "source": [],
      "metadata": {
        "id": "KtBKE5VBoU5P"
      },
      "execution_count": null,
      "outputs": []
    },
    {
      "cell_type": "code",
      "source": [],
      "metadata": {
        "id": "07nUbLXFseVA"
      },
      "execution_count": null,
      "outputs": []
    },
    {
      "cell_type": "code",
      "source": [],
      "metadata": {
        "id": "r-lY0S1XseRf"
      },
      "execution_count": null,
      "outputs": []
    },
    {
      "cell_type": "code",
      "source": [
        "plt.scatter(x[:,0], x[:,1])\n",
        "plt.show()"
      ],
      "metadata": {
        "colab": {
          "base_uri": "https://localhost:8080/",
          "height": 268
        },
        "id": "W6IOSrKpjm7Q",
        "outputId": "83638f0b-7030-4d03-b363-67874ee1702c"
      },
      "execution_count": null,
      "outputs": [
        {
          "output_type": "display_data",
          "data": {
            "text/plain": [
              "<Figure size 432x288 with 1 Axes>"
            ],
            "image/png": "[encoded data removed]"
          },
          "metadata": {
            "needs_background": "light"
          }
        }
      ]
    },
    {
      "cell_type": "code",
      "source": [
        "lof = LocalOutlierFactor(n_neighbors=20, contamination=.03)\n",
        "print(lof) "
      ],
      "metadata": {
        "colab": {
          "base_uri": "https://localhost:8080/"
        },
        "id": "l-02janZjm3E",
        "outputId": "47c8116a-7af0-4bd6-cc80-53e00ed7ad88"
      },
      "execution_count": null,
      "outputs": [
        {
          "output_type": "stream",
          "name": "stdout",
          "text": [
            "LocalOutlierFactor(contamination=0.03)\n"
          ]
        }
      ]
    },
    {
      "cell_type": "code",
      "source": [
        "y_pred = lof.fit_predict(x)\n",
        "y_pred"
      ],
      "metadata": {
        "colab": {
          "base_uri": "https://localhost:8080/"
        },
        "id": "8nhXv3H4jm0r",
        "outputId": "cfb33f65-87a4-4b97-e225-b91a3f68e22e"
      },
      "execution_count": null,
      "outputs": [
        {
          "output_type": "execute_result",
          "data": {
            "text/plain": [
              "array([ 1,  1,  1,  1,  1,  1,  1,  1,  1,  1,  1,  1,  1,  1,  1, -1,  1,\n",
              "        1,  1,  1,  1,  1,  1,  1,  1,  1,  1,  1,  1,  1,  1,  1,  1,  1,\n",
              "        1,  1,  1,  1,  1,  1,  1,  1,  1,  1,  1,  1,  1, -1,  1,  1,  1,\n",
              "        1,  1,  1,  1,  1,  1,  1,  1,  1,  1,  1,  1,  1,  1,  1,  1,  1,\n",
              "        1,  1,  1,  1,  1,  1,  1,  1,  1,  1, -1,  1,  1,  1,  1,  1,  1,\n",
              "        1,  1,  1,  1,  1,  1,  1,  1,  1,  1,  1,  1,  1,  1,  1,  1,  1,\n",
              "        1,  1,  1,  1,  1,  1,  1,  1,  1,  1,  1,  1,  1,  1, -1,  1,  1,\n",
              "        1,  1,  1,  1,  1,  1,  1,  1,  1,  1,  1,  1,  1,  1,  1,  1,  1,\n",
              "        1, -1,  1, -1,  1,  1,  1,  1,  1,  1,  1,  1,  1,  1,  1,  1,  1,\n",
              "        1,  1,  1,  1,  1,  1,  1,  1,  1,  1,  1,  1,  1,  1,  1,  1,  1,\n",
              "        1,  1,  1,  1,  1,  1,  1,  1,  1,  1,  1,  1,  1,  1,  1,  1,  1,\n",
              "        1,  1,  1,  1,  1,  1,  1,  1,  1,  1,  1,  1,  1])"
            ]
          },
          "metadata": {},
          "execution_count": 42
        }
      ]
    },
    {
      "cell_type": "code",
      "source": [
        "lofs_index = where(y_pred==-1)\n",
        "values = x[lofs_index]\n",
        "values"
      ],
      "metadata": {
        "colab": {
          "base_uri": "https://localhost:8080/"
        },
        "id": "Cnlt41Snwqp4",
        "outputId": "15063956-0be8-49d0-be6a-33bdd0c9d64c"
      },
      "execution_count": null,
      "outputs": [
        {
          "output_type": "execute_result",
          "data": {
            "text/plain": [
              "array([[10.32193863, 10.09065371],\n",
              "       [10.25019623,  9.77517601],\n",
              "       [10.19415643,  9.92870018],\n",
              "       [ 9.66304348, 10.41854088],\n",
              "       [ 9.75714407,  9.5810329 ],\n",
              "       [ 9.85528628, 10.13393112]])"
            ]
          },
          "metadata": {},
          "execution_count": 51
        }
      ]
    },
    {
      "cell_type": "code",
      "source": [
        "plt.scatter(x[:,0], x[:,1])\n",
        "plt.scatter(values[:,0],values[:,1], color='r')\n",
        "plt.show()"
      ],
      "metadata": {
        "colab": {
          "base_uri": "https://localhost:8080/",
          "height": 265
        },
        "id": "ojH3P8sZxMxt",
        "outputId": "df5539e6-ef8a-4a0c-92b9-ada6f9dc9d41"
      },
      "execution_count": null,
      "outputs": [
        {
          "output_type": "display_data",
          "data": {
            "text/plain": [
              "<Figure size 432x288 with 1 Axes>"
            ],
            "image/png": "[encoded data removed]"
          },
          "metadata": {
            "needs_background": "light"
          }
        }
      ]
    },
    {
      "cell_type": "code",
      "source": [
        "model = LocalOutlierFactor(n_neighbors=20) \n",
        "model"
      ],
      "metadata": {
        "colab": {
          "base_uri": "https://localhost:8080/"
        },
        "id": "mhvP1edQxZAQ",
        "outputId": "ccd19ac4-0579-4699-d5a1-17331eb1d2f9"
      },
      "execution_count": null,
      "outputs": [
        {
          "output_type": "execute_result",
          "data": {
            "text/plain": [
              "LocalOutlierFactor()"
            ]
          },
          "metadata": {},
          "execution_count": 54
        }
      ]
    },
    {
      "cell_type": "code",
      "source": [
        "model.fit_predict(x)\n",
        "lof = model.negative_outlier_factor_ "
      ],
      "metadata": {
        "id": "xSTNqDXtxY-0"
      },
      "execution_count": null,
      "outputs": []
    },
    {
      "cell_type": "code",
      "source": [
        "thresh = quantile(lof, .03)\n",
        "print(thresh)"
      ],
      "metadata": {
        "colab": {
          "base_uri": "https://localhost:8080/"
        },
        "id": "bxqoi-I9xYcS",
        "outputId": "a84f35dd-6fc0-4dab-b503-938bb87facbe"
      },
      "execution_count": null,
      "outputs": [
        {
          "output_type": "stream",
          "name": "stdout",
          "text": [
            "-1.5942619100478512\n"
          ]
        }
      ]
    },
    {
      "cell_type": "code",
      "source": [
        "index = where(lof<=thresh)\n",
        "values = x[index]"
      ],
      "metadata": {
        "id": "Xo-QgAa6xmhJ"
      },
      "execution_count": null,
      "outputs": []
    },
    {
      "cell_type": "code",
      "source": [
        "plt.scatter(x[:,0], x[:,1])\n",
        "plt.scatter(values[:,0], values[:,1], color='r')\n",
        "plt.show()"
      ],
      "metadata": {
        "colab": {
          "base_uri": "https://localhost:8080/",
          "height": 265
        },
        "id": "zO6DSb5YxmcU",
        "outputId": "2c6e6919-6a09-4fd3-d4ad-ade4c79941c7"
      },
      "execution_count": null,
      "outputs": [
        {
          "output_type": "display_data",
          "data": {
            "text/plain": [
              "<Figure size 432x288 with 1 Axes>"
            ],
            "image/png": "[encoded data removed]"
          },
          "metadata": {
            "needs_background": "light"
          }
        }
      ]
    },
    {
      "cell_type": "code",
      "source": [],
      "metadata": {
        "id": "OZ4aCvG2xmag"
      },
      "execution_count": null,
      "outputs": []
    },
    {
      "cell_type": "code",
      "source": [],
      "metadata": {
        "id": "AX9RBh_jxmWF"
      },
      "execution_count": null,
      "outputs": []
    },
    {
      "cell_type": "code",
      "source": [],
      "metadata": {
        "id": "8-I8PJmIxmUF"
      },
      "execution_count": null,
      "outputs": []
    }
  ]
}