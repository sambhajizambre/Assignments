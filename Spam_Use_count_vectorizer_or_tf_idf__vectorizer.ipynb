{
  "nbformat": 4,
  "nbformat_minor": 0,
  "metadata": {
    "colab": {
      "name": "Spam_Use count vectorizer or tf-idf _vectorizer.ipynb",
      "provenance": [],
      "include_colab_link": true
    },
    "kernelspec": {
      "name": "python3",
      "display_name": "Python 3"
    },
    "language_info": {
      "name": "python"
    }
  },
  "cells": [
    {
      "cell_type": "markdown",
      "metadata": {
        "id": "view-in-github",
        "colab_type": "text"
      },
      "source": [
        "<a href=\"https://colab.research.google.com/github/sambhajizambre/Assignments/blob/main/Spam_Use_count_vectorizer_or_tf_idf__vectorizer.ipynb\" target=\"_parent\"><img src=\"https://colab.research.google.com/assets/colab-badge.svg\" alt=\"Open In Colab\"/></a>"
      ]
    },
    {
      "cell_type": "code",
      "execution_count": null,
      "metadata": {
        "id": "o6B6WYRRJQMC"
      },
      "outputs": [],
      "source": [
        "import numpy as np \n",
        "import pandas as pd \n",
        "import seaborn as sn\n",
        "import re\n",
        "import string\n",
        "import random\n",
        "import matplotlib.pyplot as plt\n",
        "import seaborn as sns\n",
        "%matplotlib inline\n",
        "from plotly import graph_objs as go\n",
        "import plotly.express as px\n",
        "import plotly.figure_factory as ff\n",
        "from collections import Counter\n",
        "\n",
        "from PIL import Image\n",
        "from wordcloud import WordCloud, STOPWORDS, ImageColorGenerator\n",
        "\n",
        "\n"
      ]
    },
    {
      "cell_type": "markdown",
      "source": [
        "#**1. Loading Data**"
      ],
      "metadata": {
        "id": "QlBc7uSOeRs7"
      }
    },
    {
      "cell_type": "code",
      "source": [
        "# Defining all our palette colours.\n",
        "primary_blue = \"#496595\"\n",
        "primary_blue2 = \"#85a1c1\"\n",
        "primary_blue3 = \"#3f4d63\"\n",
        "primary_grey = \"#c6ccd8\"\n",
        "primary_black = \"#202022\"\n",
        "primary_bgcolor = \"#f4f0ea\"\n",
        "\n",
        "primary_green = px.colors.qualitative.Plotly[2]"
      ],
      "metadata": {
        "id": "ICLfmF5RcDbc"
      },
      "execution_count": null,
      "outputs": []
    },
    {
      "cell_type": "code",
      "source": [
        "df= pd.read_csv('/content/drive/MyDrive/spam.csv', encoding = 'latin-1')\n",
        "df.head()"
      ],
      "metadata": {
        "colab": {
          "base_uri": "https://localhost:8080/",
          "height": 206
        },
        "id": "sHU9GVvxL3tT",
        "outputId": "963f783e-fe21-4cfc-ff03-bbe501ce1fc1"
      },
      "execution_count": null,
      "outputs": [
        {
          "output_type": "execute_result",
          "data": {
            "text/plain": [
              "  ï»¿v1                                                 v2 Unnamed: 2  \\\n",
              "0   ham  Go until jurong point, crazy.. Available only ...        NaN   \n",
              "1   ham                      Ok lar... Joking wif u oni...        NaN   \n",
              "2  spam  Free entry in 2 a wkly comp to win FA Cup fina...        NaN   \n",
              "3   ham  U dun say so early hor... U c already then say...        NaN   \n",
              "4   ham  Nah I don't think he goes to usf, he lives aro...        NaN   \n",
              "\n",
              "  Unnamed: 3 Unnamed: 4  \n",
              "0        NaN        NaN  \n",
              "1        NaN        NaN  \n",
              "2        NaN        NaN  \n",
              "3        NaN        NaN  \n",
              "4        NaN        NaN  "
            ],
            "text/html": [
              "\n",
              "  <div id=\"df-d688c597-de64-43ab-9510-584d56bfd3ea\">\n",
              "    <div class=\"colab-df-container\">\n",
              "      <div>\n",
              "<style scoped>\n",
              "    .dataframe tbody tr th:only-of-type {\n",
              "        vertical-align: middle;\n",
              "    }\n",
              "\n",
              "    .dataframe tbody tr th {\n",
              "        vertical-align: top;\n",
              "    }\n",
              "\n",
              "    .dataframe thead th {\n",
              "        text-align: right;\n",
              "    }\n",
              "</style>\n",
              "<table border=\"1\" class=\"dataframe\">\n",
              "  <thead>\n",
              "    <tr style=\"text-align: right;\">\n",
              "      <th></th>\n",
              "      <th>ï»¿v1</th>\n",
              "      <th>v2</th>\n",
              "      <th>Unnamed: 2</th>\n",
              "      <th>Unnamed: 3</th>\n",
              "      <th>Unnamed: 4</th>\n",
              "    </tr>\n",
              "  </thead>\n",
              "  <tbody>\n",
              "    <tr>\n",
              "      <th>0</th>\n",
              "      <td>ham</td>\n",
              "      <td>Go until jurong point, crazy.. Available only ...</td>\n",
              "      <td>NaN</td>\n",
              "      <td>NaN</td>\n",
              "      <td>NaN</td>\n",
              "    </tr>\n",
              "    <tr>\n",
              "      <th>1</th>\n",
              "      <td>ham</td>\n",
              "      <td>Ok lar... Joking wif u oni...</td>\n",
              "      <td>NaN</td>\n",
              "      <td>NaN</td>\n",
              "      <td>NaN</td>\n",
              "    </tr>\n",
              "    <tr>\n",
              "      <th>2</th>\n",
              "      <td>spam</td>\n",
              "      <td>Free entry in 2 a wkly comp to win FA Cup fina...</td>\n",
              "      <td>NaN</td>\n",
              "      <td>NaN</td>\n",
              "      <td>NaN</td>\n",
              "    </tr>\n",
              "    <tr>\n",
              "      <th>3</th>\n",
              "      <td>ham</td>\n",
              "      <td>U dun say so early hor... U c already then say...</td>\n",
              "      <td>NaN</td>\n",
              "      <td>NaN</td>\n",
              "      <td>NaN</td>\n",
              "    </tr>\n",
              "    <tr>\n",
              "      <th>4</th>\n",
              "      <td>ham</td>\n",
              "      <td>Nah I don't think he goes to usf, he lives aro...</td>\n",
              "      <td>NaN</td>\n",
              "      <td>NaN</td>\n",
              "      <td>NaN</td>\n",
              "    </tr>\n",
              "  </tbody>\n",
              "</table>\n",
              "</div>\n",
              "      <button class=\"colab-df-convert\" onclick=\"convertToInteractive('df-d688c597-de64-43ab-9510-584d56bfd3ea')\"\n",
              "              title=\"Convert this dataframe to an interactive table.\"\n",
              "              style=\"display:none;\">\n",
              "        \n",
              "  <svg xmlns=\"http://www.w3.org/2000/svg\" height=\"24px\"viewBox=\"0 0 24 24\"\n",
              "       width=\"24px\">\n",
              "    <path d=\"M0 0h24v24H0V0z\" fill=\"none\"/>\n",
              "    <path d=\"M18.56 5.44l.94 2.06.94-2.06 2.06-.94-2.06-.94-.94-2.06-.94 2.06-2.06.94zm-11 1L8.5 8.5l.94-2.06 2.06-.94-2.06-.94L8.5 2.5l-.94 2.06-2.06.94zm10 10l.94 2.06.94-2.06 2.06-.94-2.06-.94-.94-2.06-.94 2.06-2.06.94z\"/><path d=\"M17.41 7.96l-1.37-1.37c-.4-.4-.92-.59-1.43-.59-.52 0-1.04.2-1.43.59L10.3 9.45l-7.72 7.72c-.78.78-.78 2.05 0 2.83L4 21.41c.39.39.9.59 1.41.59.51 0 1.02-.2 1.41-.59l7.78-7.78 2.81-2.81c.8-.78.8-2.07 0-2.86zM5.41 20L4 18.59l7.72-7.72 1.47 1.35L5.41 20z\"/>\n",
              "  </svg>\n",
              "      </button>\n",
              "      \n",
              "  <style>\n",
              "    .colab-df-container {\n",
              "      display:flex;\n",
              "      flex-wrap:wrap;\n",
              "      gap: 12px;\n",
              "    }\n",
              "\n",
              "    .colab-df-convert {\n",
              "      background-color: #E8F0FE;\n",
              "      border: none;\n",
              "      border-radius: 50%;\n",
              "      cursor: pointer;\n",
              "      display: none;\n",
              "      fill: #1967D2;\n",
              "      height: 32px;\n",
              "      padding: 0 0 0 0;\n",
              "      width: 32px;\n",
              "    }\n",
              "\n",
              "    .colab-df-convert:hover {\n",
              "      background-color: #E2EBFA;\n",
              "      box-shadow: 0px 1px 2px rgba(60, 64, 67, 0.3), 0px 1px 3px 1px rgba(60, 64, 67, 0.15);\n",
              "      fill: #174EA6;\n",
              "    }\n",
              "\n",
              "    [theme=dark] .colab-df-convert {\n",
              "      background-color: #3B4455;\n",
              "      fill: #D2E3FC;\n",
              "    }\n",
              "\n",
              "    [theme=dark] .colab-df-convert:hover {\n",
              "      background-color: #434B5C;\n",
              "      box-shadow: 0px 1px 3px 1px rgba(0, 0, 0, 0.15);\n",
              "      filter: drop-shadow(0px 1px 2px rgba(0, 0, 0, 0.3));\n",
              "      fill: #FFFFFF;\n",
              "    }\n",
              "  </style>\n",
              "\n",
              "      <script>\n",
              "        const buttonEl =\n",
              "          document.querySelector('#df-d688c597-de64-43ab-9510-584d56bfd3ea button.colab-df-convert');\n",
              "        buttonEl.style.display =\n",
              "          google.colab.kernel.accessAllowed ? 'block' : 'none';\n",
              "\n",
              "        async function convertToInteractive(key) {\n",
              "          const element = document.querySelector('#df-d688c597-de64-43ab-9510-584d56bfd3ea');\n",
              "          const dataTable =\n",
              "            await google.colab.kernel.invokeFunction('convertToInteractive',\n",
              "                                                     [key], {});\n",
              "          if (!dataTable) return;\n",
              "\n",
              "          const docLinkHtml = 'Like what you see? Visit the ' +\n",
              "            '<a target=\"_blank\" href=https://colab.research.google.com/notebooks/data_table.ipynb>data table notebook</a>'\n",
              "            + ' to learn more about interactive tables.';\n",
              "          element.innerHTML = '';\n",
              "          dataTable['output_type'] = 'display_data';\n",
              "          await google.colab.output.renderOutput(dataTable, element);\n",
              "          const docLink = document.createElement('div');\n",
              "          docLink.innerHTML = docLinkHtml;\n",
              "          element.appendChild(docLink);\n",
              "        }\n",
              "      </script>\n",
              "    </div>\n",
              "  </div>\n",
              "  "
            ]
          },
          "metadata": {},
          "execution_count": 278
        }
      ]
    },
    {
      "cell_type": "code",
      "source": [
        "df.shape"
      ],
      "metadata": {
        "colab": {
          "base_uri": "https://localhost:8080/"
        },
        "id": "1Wkh2-ocNUMb",
        "outputId": "f3bc3463-2ee4-492f-f77c-5c1f02d4ca28"
      },
      "execution_count": null,
      "outputs": [
        {
          "output_type": "execute_result",
          "data": {
            "text/plain": [
              "(5572, 5)"
            ]
          },
          "metadata": {},
          "execution_count": 279
        }
      ]
    },
    {
      "cell_type": "code",
      "source": [
        "df.rename(columns = {'ï»¿v1':'v1'}, inplace = True)"
      ],
      "metadata": {
        "id": "PieEnIYYNwog"
      },
      "execution_count": null,
      "outputs": []
    },
    {
      "cell_type": "code",
      "source": [
        "df.groupby('v1').describe()"
      ],
      "metadata": {
        "colab": {
          "base_uri": "https://localhost:8080/",
          "height": 253
        },
        "id": "yoQN-XwVNX_v",
        "outputId": "d1b329e6-f9ca-4093-bedd-3b31cd7c3e5f"
      },
      "execution_count": null,
      "outputs": [
        {
          "output_type": "execute_result",
          "data": {
            "text/plain": [
              "        v2                                                                 \\\n",
              "     count unique                                                top freq   \n",
              "v1                                                                          \n",
              "ham   4825   4516                             Sorry, I'll call later   30   \n",
              "spam   747    647  Please call our customer service representativ...    4   \n",
              "\n",
              "     Unnamed: 2                                                            \\\n",
              "          count unique                                                top   \n",
              "v1                                                                          \n",
              "ham          45     39   bt not his girlfrnd... G o o d n i g h t . . .@\"   \n",
              "spam          5      4                                        PO Box 5249   \n",
              "\n",
              "          Unnamed: 3                                    Unnamed: 4         \\\n",
              "     freq      count unique                    top freq      count unique   \n",
              "v1                                                                          \n",
              "ham     3         10      9                     GE    2          6      5   \n",
              "spam    2          2      1   MK17 92H. 450Ppw 16\"    2          0      0   \n",
              "\n",
              "                    \n",
              "          top freq  \n",
              "v1                  \n",
              "ham   GNT:-)\"    2  \n",
              "spam      NaN  NaN  "
            ],
            "text/html": [
              "\n",
              "  <div id=\"df-c292f985-1175-4c9c-9578-6ca7836880f5\">\n",
              "    <div class=\"colab-df-container\">\n",
              "      <div>\n",
              "<style scoped>\n",
              "    .dataframe tbody tr th:only-of-type {\n",
              "        vertical-align: middle;\n",
              "    }\n",
              "\n",
              "    .dataframe tbody tr th {\n",
              "        vertical-align: top;\n",
              "    }\n",
              "\n",
              "    .dataframe thead tr th {\n",
              "        text-align: left;\n",
              "    }\n",
              "\n",
              "    .dataframe thead tr:last-of-type th {\n",
              "        text-align: right;\n",
              "    }\n",
              "</style>\n",
              "<table border=\"1\" class=\"dataframe\">\n",
              "  <thead>\n",
              "    <tr>\n",
              "      <th></th>\n",
              "      <th colspan=\"4\" halign=\"left\">v2</th>\n",
              "      <th colspan=\"4\" halign=\"left\">Unnamed: 2</th>\n",
              "      <th colspan=\"4\" halign=\"left\">Unnamed: 3</th>\n",
              "      <th colspan=\"4\" halign=\"left\">Unnamed: 4</th>\n",
              "    </tr>\n",
              "    <tr>\n",
              "      <th></th>\n",
              "      <th>count</th>\n",
              "      <th>unique</th>\n",
              "      <th>top</th>\n",
              "      <th>freq</th>\n",
              "      <th>count</th>\n",
              "      <th>unique</th>\n",
              "      <th>top</th>\n",
              "      <th>freq</th>\n",
              "      <th>count</th>\n",
              "      <th>unique</th>\n",
              "      <th>top</th>\n",
              "      <th>freq</th>\n",
              "      <th>count</th>\n",
              "      <th>unique</th>\n",
              "      <th>top</th>\n",
              "      <th>freq</th>\n",
              "    </tr>\n",
              "    <tr>\n",
              "      <th>v1</th>\n",
              "      <th></th>\n",
              "      <th></th>\n",
              "      <th></th>\n",
              "      <th></th>\n",
              "      <th></th>\n",
              "      <th></th>\n",
              "      <th></th>\n",
              "      <th></th>\n",
              "      <th></th>\n",
              "      <th></th>\n",
              "      <th></th>\n",
              "      <th></th>\n",
              "      <th></th>\n",
              "      <th></th>\n",
              "      <th></th>\n",
              "      <th></th>\n",
              "    </tr>\n",
              "  </thead>\n",
              "  <tbody>\n",
              "    <tr>\n",
              "      <th>ham</th>\n",
              "      <td>4825</td>\n",
              "      <td>4516</td>\n",
              "      <td>Sorry, I'll call later</td>\n",
              "      <td>30</td>\n",
              "      <td>45</td>\n",
              "      <td>39</td>\n",
              "      <td>bt not his girlfrnd... G o o d n i g h t . . .@\"</td>\n",
              "      <td>3</td>\n",
              "      <td>10</td>\n",
              "      <td>9</td>\n",
              "      <td>GE</td>\n",
              "      <td>2</td>\n",
              "      <td>6</td>\n",
              "      <td>5</td>\n",
              "      <td>GNT:-)\"</td>\n",
              "      <td>2</td>\n",
              "    </tr>\n",
              "    <tr>\n",
              "      <th>spam</th>\n",
              "      <td>747</td>\n",
              "      <td>647</td>\n",
              "      <td>Please call our customer service representativ...</td>\n",
              "      <td>4</td>\n",
              "      <td>5</td>\n",
              "      <td>4</td>\n",
              "      <td>PO Box 5249</td>\n",
              "      <td>2</td>\n",
              "      <td>2</td>\n",
              "      <td>1</td>\n",
              "      <td>MK17 92H. 450Ppw 16\"</td>\n",
              "      <td>2</td>\n",
              "      <td>0</td>\n",
              "      <td>0</td>\n",
              "      <td>NaN</td>\n",
              "      <td>NaN</td>\n",
              "    </tr>\n",
              "  </tbody>\n",
              "</table>\n",
              "</div>\n",
              "      <button class=\"colab-df-convert\" onclick=\"convertToInteractive('df-c292f985-1175-4c9c-9578-6ca7836880f5')\"\n",
              "              title=\"Convert this dataframe to an interactive table.\"\n",
              "              style=\"display:none;\">\n",
              "        \n",
              "  <svg xmlns=\"http://www.w3.org/2000/svg\" height=\"24px\"viewBox=\"0 0 24 24\"\n",
              "       width=\"24px\">\n",
              "    <path d=\"M0 0h24v24H0V0z\" fill=\"none\"/>\n",
              "    <path d=\"M18.56 5.44l.94 2.06.94-2.06 2.06-.94-2.06-.94-.94-2.06-.94 2.06-2.06.94zm-11 1L8.5 8.5l.94-2.06 2.06-.94-2.06-.94L8.5 2.5l-.94 2.06-2.06.94zm10 10l.94 2.06.94-2.06 2.06-.94-2.06-.94-.94-2.06-.94 2.06-2.06.94z\"/><path d=\"M17.41 7.96l-1.37-1.37c-.4-.4-.92-.59-1.43-.59-.52 0-1.04.2-1.43.59L10.3 9.45l-7.72 7.72c-.78.78-.78 2.05 0 2.83L4 21.41c.39.39.9.59 1.41.59.51 0 1.02-.2 1.41-.59l7.78-7.78 2.81-2.81c.8-.78.8-2.07 0-2.86zM5.41 20L4 18.59l7.72-7.72 1.47 1.35L5.41 20z\"/>\n",
              "  </svg>\n",
              "      </button>\n",
              "      \n",
              "  <style>\n",
              "    .colab-df-container {\n",
              "      display:flex;\n",
              "      flex-wrap:wrap;\n",
              "      gap: 12px;\n",
              "    }\n",
              "\n",
              "    .colab-df-convert {\n",
              "      background-color: #E8F0FE;\n",
              "      border: none;\n",
              "      border-radius: 50%;\n",
              "      cursor: pointer;\n",
              "      display: none;\n",
              "      fill: #1967D2;\n",
              "      height: 32px;\n",
              "      padding: 0 0 0 0;\n",
              "      width: 32px;\n",
              "    }\n",
              "\n",
              "    .colab-df-convert:hover {\n",
              "      background-color: #E2EBFA;\n",
              "      box-shadow: 0px 1px 2px rgba(60, 64, 67, 0.3), 0px 1px 3px 1px rgba(60, 64, 67, 0.15);\n",
              "      fill: #174EA6;\n",
              "    }\n",
              "\n",
              "    [theme=dark] .colab-df-convert {\n",
              "      background-color: #3B4455;\n",
              "      fill: #D2E3FC;\n",
              "    }\n",
              "\n",
              "    [theme=dark] .colab-df-convert:hover {\n",
              "      background-color: #434B5C;\n",
              "      box-shadow: 0px 1px 3px 1px rgba(0, 0, 0, 0.15);\n",
              "      filter: drop-shadow(0px 1px 2px rgba(0, 0, 0, 0.3));\n",
              "      fill: #FFFFFF;\n",
              "    }\n",
              "  </style>\n",
              "\n",
              "      <script>\n",
              "        const buttonEl =\n",
              "          document.querySelector('#df-c292f985-1175-4c9c-9578-6ca7836880f5 button.colab-df-convert');\n",
              "        buttonEl.style.display =\n",
              "          google.colab.kernel.accessAllowed ? 'block' : 'none';\n",
              "\n",
              "        async function convertToInteractive(key) {\n",
              "          const element = document.querySelector('#df-c292f985-1175-4c9c-9578-6ca7836880f5');\n",
              "          const dataTable =\n",
              "            await google.colab.kernel.invokeFunction('convertToInteractive',\n",
              "                                                     [key], {});\n",
              "          if (!dataTable) return;\n",
              "\n",
              "          const docLinkHtml = 'Like what you see? Visit the ' +\n",
              "            '<a target=\"_blank\" href=https://colab.research.google.com/notebooks/data_table.ipynb>data table notebook</a>'\n",
              "            + ' to learn more about interactive tables.';\n",
              "          element.innerHTML = '';\n",
              "          dataTable['output_type'] = 'display_data';\n",
              "          await google.colab.output.renderOutput(dataTable, element);\n",
              "          const docLink = document.createElement('div');\n",
              "          docLink.innerHTML = docLinkHtml;\n",
              "          element.appendChild(docLink);\n",
              "        }\n",
              "      </script>\n",
              "    </div>\n",
              "  </div>\n",
              "  "
            ]
          },
          "metadata": {},
          "execution_count": 281
        }
      ]
    },
    {
      "cell_type": "code",
      "source": [
        "df['v3'] = df['v2'].apply(lambda x: len(x.split(' ')))\n",
        "df.head()"
      ],
      "metadata": {
        "colab": {
          "base_uri": "https://localhost:8080/",
          "height": 206
        },
        "id": "CMPJTra-aEtV",
        "outputId": "d0b72e65-3dbd-428b-d27f-f42f460dce47"
      },
      "execution_count": null,
      "outputs": [
        {
          "output_type": "execute_result",
          "data": {
            "text/plain": [
              "     v1                                                 v2 Unnamed: 2  \\\n",
              "0   ham  Go until jurong point, crazy.. Available only ...        NaN   \n",
              "1   ham                      Ok lar... Joking wif u oni...        NaN   \n",
              "2  spam  Free entry in 2 a wkly comp to win FA Cup fina...        NaN   \n",
              "3   ham  U dun say so early hor... U c already then say...        NaN   \n",
              "4   ham  Nah I don't think he goes to usf, he lives aro...        NaN   \n",
              "\n",
              "  Unnamed: 3 Unnamed: 4  v3  \n",
              "0        NaN        NaN  20  \n",
              "1        NaN        NaN   6  \n",
              "2        NaN        NaN  28  \n",
              "3        NaN        NaN  11  \n",
              "4        NaN        NaN  13  "
            ],
            "text/html": [
              "\n",
              "  <div id=\"df-f05d62c1-53d8-4254-8157-b1f228c03c61\">\n",
              "    <div class=\"colab-df-container\">\n",
              "      <div>\n",
              "<style scoped>\n",
              "    .dataframe tbody tr th:only-of-type {\n",
              "        vertical-align: middle;\n",
              "    }\n",
              "\n",
              "    .dataframe tbody tr th {\n",
              "        vertical-align: top;\n",
              "    }\n",
              "\n",
              "    .dataframe thead th {\n",
              "        text-align: right;\n",
              "    }\n",
              "</style>\n",
              "<table border=\"1\" class=\"dataframe\">\n",
              "  <thead>\n",
              "    <tr style=\"text-align: right;\">\n",
              "      <th></th>\n",
              "      <th>v1</th>\n",
              "      <th>v2</th>\n",
              "      <th>Unnamed: 2</th>\n",
              "      <th>Unnamed: 3</th>\n",
              "      <th>Unnamed: 4</th>\n",
              "      <th>v3</th>\n",
              "    </tr>\n",
              "  </thead>\n",
              "  <tbody>\n",
              "    <tr>\n",
              "      <th>0</th>\n",
              "      <td>ham</td>\n",
              "      <td>Go until jurong point, crazy.. Available only ...</td>\n",
              "      <td>NaN</td>\n",
              "      <td>NaN</td>\n",
              "      <td>NaN</td>\n",
              "      <td>20</td>\n",
              "    </tr>\n",
              "    <tr>\n",
              "      <th>1</th>\n",
              "      <td>ham</td>\n",
              "      <td>Ok lar... Joking wif u oni...</td>\n",
              "      <td>NaN</td>\n",
              "      <td>NaN</td>\n",
              "      <td>NaN</td>\n",
              "      <td>6</td>\n",
              "    </tr>\n",
              "    <tr>\n",
              "      <th>2</th>\n",
              "      <td>spam</td>\n",
              "      <td>Free entry in 2 a wkly comp to win FA Cup fina...</td>\n",
              "      <td>NaN</td>\n",
              "      <td>NaN</td>\n",
              "      <td>NaN</td>\n",
              "      <td>28</td>\n",
              "    </tr>\n",
              "    <tr>\n",
              "      <th>3</th>\n",
              "      <td>ham</td>\n",
              "      <td>U dun say so early hor... U c already then say...</td>\n",
              "      <td>NaN</td>\n",
              "      <td>NaN</td>\n",
              "      <td>NaN</td>\n",
              "      <td>11</td>\n",
              "    </tr>\n",
              "    <tr>\n",
              "      <th>4</th>\n",
              "      <td>ham</td>\n",
              "      <td>Nah I don't think he goes to usf, he lives aro...</td>\n",
              "      <td>NaN</td>\n",
              "      <td>NaN</td>\n",
              "      <td>NaN</td>\n",
              "      <td>13</td>\n",
              "    </tr>\n",
              "  </tbody>\n",
              "</table>\n",
              "</div>\n",
              "      <button class=\"colab-df-convert\" onclick=\"convertToInteractive('df-f05d62c1-53d8-4254-8157-b1f228c03c61')\"\n",
              "              title=\"Convert this dataframe to an interactive table.\"\n",
              "              style=\"display:none;\">\n",
              "        \n",
              "  <svg xmlns=\"http://www.w3.org/2000/svg\" height=\"24px\"viewBox=\"0 0 24 24\"\n",
              "       width=\"24px\">\n",
              "    <path d=\"M0 0h24v24H0V0z\" fill=\"none\"/>\n",
              "    <path d=\"M18.56 5.44l.94 2.06.94-2.06 2.06-.94-2.06-.94-.94-2.06-.94 2.06-2.06.94zm-11 1L8.5 8.5l.94-2.06 2.06-.94-2.06-.94L8.5 2.5l-.94 2.06-2.06.94zm10 10l.94 2.06.94-2.06 2.06-.94-2.06-.94-.94-2.06-.94 2.06-2.06.94z\"/><path d=\"M17.41 7.96l-1.37-1.37c-.4-.4-.92-.59-1.43-.59-.52 0-1.04.2-1.43.59L10.3 9.45l-7.72 7.72c-.78.78-.78 2.05 0 2.83L4 21.41c.39.39.9.59 1.41.59.51 0 1.02-.2 1.41-.59l7.78-7.78 2.81-2.81c.8-.78.8-2.07 0-2.86zM5.41 20L4 18.59l7.72-7.72 1.47 1.35L5.41 20z\"/>\n",
              "  </svg>\n",
              "      </button>\n",
              "      \n",
              "  <style>\n",
              "    .colab-df-container {\n",
              "      display:flex;\n",
              "      flex-wrap:wrap;\n",
              "      gap: 12px;\n",
              "    }\n",
              "\n",
              "    .colab-df-convert {\n",
              "      background-color: #E8F0FE;\n",
              "      border: none;\n",
              "      border-radius: 50%;\n",
              "      cursor: pointer;\n",
              "      display: none;\n",
              "      fill: #1967D2;\n",
              "      height: 32px;\n",
              "      padding: 0 0 0 0;\n",
              "      width: 32px;\n",
              "    }\n",
              "\n",
              "    .colab-df-convert:hover {\n",
              "      background-color: #E2EBFA;\n",
              "      box-shadow: 0px 1px 2px rgba(60, 64, 67, 0.3), 0px 1px 3px 1px rgba(60, 64, 67, 0.15);\n",
              "      fill: #174EA6;\n",
              "    }\n",
              "\n",
              "    [theme=dark] .colab-df-convert {\n",
              "      background-color: #3B4455;\n",
              "      fill: #D2E3FC;\n",
              "    }\n",
              "\n",
              "    [theme=dark] .colab-df-convert:hover {\n",
              "      background-color: #434B5C;\n",
              "      box-shadow: 0px 1px 3px 1px rgba(0, 0, 0, 0.15);\n",
              "      filter: drop-shadow(0px 1px 2px rgba(0, 0, 0, 0.3));\n",
              "      fill: #FFFFFF;\n",
              "    }\n",
              "  </style>\n",
              "\n",
              "      <script>\n",
              "        const buttonEl =\n",
              "          document.querySelector('#df-f05d62c1-53d8-4254-8157-b1f228c03c61 button.colab-df-convert');\n",
              "        buttonEl.style.display =\n",
              "          google.colab.kernel.accessAllowed ? 'block' : 'none';\n",
              "\n",
              "        async function convertToInteractive(key) {\n",
              "          const element = document.querySelector('#df-f05d62c1-53d8-4254-8157-b1f228c03c61');\n",
              "          const dataTable =\n",
              "            await google.colab.kernel.invokeFunction('convertToInteractive',\n",
              "                                                     [key], {});\n",
              "          if (!dataTable) return;\n",
              "\n",
              "          const docLinkHtml = 'Like what you see? Visit the ' +\n",
              "            '<a target=\"_blank\" href=https://colab.research.google.com/notebooks/data_table.ipynb>data table notebook</a>'\n",
              "            + ' to learn more about interactive tables.';\n",
              "          element.innerHTML = '';\n",
              "          dataTable['output_type'] = 'display_data';\n",
              "          await google.colab.output.renderOutput(dataTable, element);\n",
              "          const docLink = document.createElement('div');\n",
              "          docLink.innerHTML = docLinkHtml;\n",
              "          element.appendChild(docLink);\n",
              "        }\n",
              "      </script>\n",
              "    </div>\n",
              "  </div>\n",
              "  "
            ]
          },
          "metadata": {},
          "execution_count": 282
        }
      ]
    },
    {
      "cell_type": "code",
      "source": [
        "max(df['v3'])"
      ],
      "metadata": {
        "colab": {
          "base_uri": "https://localhost:8080/"
        },
        "id": "ppMxJkNVbEsm",
        "outputId": "be67ba3b-9b7b-499d-ec54-691738fa910e"
      },
      "execution_count": null,
      "outputs": [
        {
          "output_type": "execute_result",
          "data": {
            "text/plain": [
              "171"
            ]
          },
          "metadata": {},
          "execution_count": 283
        }
      ]
    },
    {
      "cell_type": "markdown",
      "source": [
        "#**2. EDA**"
      ],
      "metadata": {
        "id": "jc-uEU3wecFN"
      }
    },
    {
      "cell_type": "code",
      "source": [
        "df1=df[['v1','v2','v3']]\n",
        "df1.columns=['Target','message','message_len']\n",
        "df1.head()"
      ],
      "metadata": {
        "colab": {
          "base_uri": "https://localhost:8080/",
          "height": 206
        },
        "id": "3Se-E2PVaiIc",
        "outputId": "729af697-26d4-47f0-d483-b3571202bb6a"
      },
      "execution_count": null,
      "outputs": [
        {
          "output_type": "execute_result",
          "data": {
            "text/plain": [
              "  Target                                            message  message_len\n",
              "0    ham  Go until jurong point, crazy.. Available only ...           20\n",
              "1    ham                      Ok lar... Joking wif u oni...            6\n",
              "2   spam  Free entry in 2 a wkly comp to win FA Cup fina...           28\n",
              "3    ham  U dun say so early hor... U c already then say...           11\n",
              "4    ham  Nah I don't think he goes to usf, he lives aro...           13"
            ],
            "text/html": [
              "\n",
              "  <div id=\"df-1e67650d-975d-41df-9d21-f2a33dcd07d5\">\n",
              "    <div class=\"colab-df-container\">\n",
              "      <div>\n",
              "<style scoped>\n",
              "    .dataframe tbody tr th:only-of-type {\n",
              "        vertical-align: middle;\n",
              "    }\n",
              "\n",
              "    .dataframe tbody tr th {\n",
              "        vertical-align: top;\n",
              "    }\n",
              "\n",
              "    .dataframe thead th {\n",
              "        text-align: right;\n",
              "    }\n",
              "</style>\n",
              "<table border=\"1\" class=\"dataframe\">\n",
              "  <thead>\n",
              "    <tr style=\"text-align: right;\">\n",
              "      <th></th>\n",
              "      <th>Target</th>\n",
              "      <th>message</th>\n",
              "      <th>message_len</th>\n",
              "    </tr>\n",
              "  </thead>\n",
              "  <tbody>\n",
              "    <tr>\n",
              "      <th>0</th>\n",
              "      <td>ham</td>\n",
              "      <td>Go until jurong point, crazy.. Available only ...</td>\n",
              "      <td>20</td>\n",
              "    </tr>\n",
              "    <tr>\n",
              "      <th>1</th>\n",
              "      <td>ham</td>\n",
              "      <td>Ok lar... Joking wif u oni...</td>\n",
              "      <td>6</td>\n",
              "    </tr>\n",
              "    <tr>\n",
              "      <th>2</th>\n",
              "      <td>spam</td>\n",
              "      <td>Free entry in 2 a wkly comp to win FA Cup fina...</td>\n",
              "      <td>28</td>\n",
              "    </tr>\n",
              "    <tr>\n",
              "      <th>3</th>\n",
              "      <td>ham</td>\n",
              "      <td>U dun say so early hor... U c already then say...</td>\n",
              "      <td>11</td>\n",
              "    </tr>\n",
              "    <tr>\n",
              "      <th>4</th>\n",
              "      <td>ham</td>\n",
              "      <td>Nah I don't think he goes to usf, he lives aro...</td>\n",
              "      <td>13</td>\n",
              "    </tr>\n",
              "  </tbody>\n",
              "</table>\n",
              "</div>\n",
              "      <button class=\"colab-df-convert\" onclick=\"convertToInteractive('df-1e67650d-975d-41df-9d21-f2a33dcd07d5')\"\n",
              "              title=\"Convert this dataframe to an interactive table.\"\n",
              "              style=\"display:none;\">\n",
              "        \n",
              "  <svg xmlns=\"http://www.w3.org/2000/svg\" height=\"24px\"viewBox=\"0 0 24 24\"\n",
              "       width=\"24px\">\n",
              "    <path d=\"M0 0h24v24H0V0z\" fill=\"none\"/>\n",
              "    <path d=\"M18.56 5.44l.94 2.06.94-2.06 2.06-.94-2.06-.94-.94-2.06-.94 2.06-2.06.94zm-11 1L8.5 8.5l.94-2.06 2.06-.94-2.06-.94L8.5 2.5l-.94 2.06-2.06.94zm10 10l.94 2.06.94-2.06 2.06-.94-2.06-.94-.94-2.06-.94 2.06-2.06.94z\"/><path d=\"M17.41 7.96l-1.37-1.37c-.4-.4-.92-.59-1.43-.59-.52 0-1.04.2-1.43.59L10.3 9.45l-7.72 7.72c-.78.78-.78 2.05 0 2.83L4 21.41c.39.39.9.59 1.41.59.51 0 1.02-.2 1.41-.59l7.78-7.78 2.81-2.81c.8-.78.8-2.07 0-2.86zM5.41 20L4 18.59l7.72-7.72 1.47 1.35L5.41 20z\"/>\n",
              "  </svg>\n",
              "      </button>\n",
              "      \n",
              "  <style>\n",
              "    .colab-df-container {\n",
              "      display:flex;\n",
              "      flex-wrap:wrap;\n",
              "      gap: 12px;\n",
              "    }\n",
              "\n",
              "    .colab-df-convert {\n",
              "      background-color: #E8F0FE;\n",
              "      border: none;\n",
              "      border-radius: 50%;\n",
              "      cursor: pointer;\n",
              "      display: none;\n",
              "      fill: #1967D2;\n",
              "      height: 32px;\n",
              "      padding: 0 0 0 0;\n",
              "      width: 32px;\n",
              "    }\n",
              "\n",
              "    .colab-df-convert:hover {\n",
              "      background-color: #E2EBFA;\n",
              "      box-shadow: 0px 1px 2px rgba(60, 64, 67, 0.3), 0px 1px 3px 1px rgba(60, 64, 67, 0.15);\n",
              "      fill: #174EA6;\n",
              "    }\n",
              "\n",
              "    [theme=dark] .colab-df-convert {\n",
              "      background-color: #3B4455;\n",
              "      fill: #D2E3FC;\n",
              "    }\n",
              "\n",
              "    [theme=dark] .colab-df-convert:hover {\n",
              "      background-color: #434B5C;\n",
              "      box-shadow: 0px 1px 3px 1px rgba(0, 0, 0, 0.15);\n",
              "      filter: drop-shadow(0px 1px 2px rgba(0, 0, 0, 0.3));\n",
              "      fill: #FFFFFF;\n",
              "    }\n",
              "  </style>\n",
              "\n",
              "      <script>\n",
              "        const buttonEl =\n",
              "          document.querySelector('#df-1e67650d-975d-41df-9d21-f2a33dcd07d5 button.colab-df-convert');\n",
              "        buttonEl.style.display =\n",
              "          google.colab.kernel.accessAllowed ? 'block' : 'none';\n",
              "\n",
              "        async function convertToInteractive(key) {\n",
              "          const element = document.querySelector('#df-1e67650d-975d-41df-9d21-f2a33dcd07d5');\n",
              "          const dataTable =\n",
              "            await google.colab.kernel.invokeFunction('convertToInteractive',\n",
              "                                                     [key], {});\n",
              "          if (!dataTable) return;\n",
              "\n",
              "          const docLinkHtml = 'Like what you see? Visit the ' +\n",
              "            '<a target=\"_blank\" href=https://colab.research.google.com/notebooks/data_table.ipynb>data table notebook</a>'\n",
              "            + ' to learn more about interactive tables.';\n",
              "          element.innerHTML = '';\n",
              "          dataTable['output_type'] = 'display_data';\n",
              "          await google.colab.output.renderOutput(dataTable, element);\n",
              "          const docLink = document.createElement('div');\n",
              "          docLink.innerHTML = docLinkHtml;\n",
              "          element.appendChild(docLink);\n",
              "        }\n",
              "      </script>\n",
              "    </div>\n",
              "  </div>\n",
              "  "
            ]
          },
          "metadata": {},
          "execution_count": 284
        }
      ]
    },
    {
      "cell_type": "code",
      "source": [
        "balance_counts = df1.groupby('Target')['Target'].agg('count').values\n",
        "balance_counts"
      ],
      "metadata": {
        "colab": {
          "base_uri": "https://localhost:8080/"
        },
        "id": "S2AJ-QixdP-E",
        "outputId": "0212a471-8200-4520-d25f-c1c317cae82a"
      },
      "execution_count": null,
      "outputs": [
        {
          "output_type": "execute_result",
          "data": {
            "text/plain": [
              "array([4825,  747])"
            ]
          },
          "metadata": {},
          "execution_count": 285
        }
      ]
    },
    {
      "cell_type": "code",
      "source": [
        "df1.isna().sum()"
      ],
      "metadata": {
        "colab": {
          "base_uri": "https://localhost:8080/"
        },
        "id": "kHMS7glRSKJZ",
        "outputId": "d848811c-a1d0-4890-b71c-d916bfb97086"
      },
      "execution_count": null,
      "outputs": [
        {
          "output_type": "execute_result",
          "data": {
            "text/plain": [
              "Target         0\n",
              "message        0\n",
              "message_len    0\n",
              "dtype: int64"
            ]
          },
          "metadata": {},
          "execution_count": 286
        }
      ]
    },
    {
      "cell_type": "code",
      "source": [
        "fig = go.Figure()\n",
        "fig.add_trace(go.Bar(\n",
        "    x=['ham'],\n",
        "    y=[balance_counts[0]],\n",
        "    name='ham',\n",
        "    text=[balance_counts[0]],\n",
        "    textposition='auto',\n",
        "    marker_color=primary_blue\n",
        "))\n",
        "fig.add_trace(go.Bar(\n",
        "    x=['spam'],\n",
        "    y=[balance_counts[1]],\n",
        "    name='spam',\n",
        "    text=[balance_counts[1]],\n",
        "    textposition='auto',\n",
        "    marker_color=primary_grey\n",
        "))\n",
        "fig.update_layout(\n",
        "    title='<span style=\"font-size:32px; font-family:Times New Roman\">Dataset distribution by target</span>'\n",
        ")\n",
        "fig.show()"
      ],
      "metadata": {
        "colab": {
          "base_uri": "https://localhost:8080/",
          "height": 542
        },
        "id": "AVlswaffcvKx",
        "outputId": "6f472d50-9e98-4988-c368-7a51176dde33"
      },
      "execution_count": null,
      "outputs": [
        {
          "output_type": "display_data",
          "data": {
            "text/html": [
              "<html>\n",
              "<head><meta charset=\"utf-8\" /></head>\n",
              "<body>\n",
              "    <div>            <script src=\"https://cdnjs.cloudflare.com/ajax/libs/mathjax/2.7.5/MathJax.js?config=TeX-AMS-MML_SVG\"></script><script type=\"text/javascript\">if (window.MathJax) {MathJax.Hub.Config({SVG: {font: \"STIX-Web\"}});}</script>                <script type=\"text/javascript\">window.PlotlyConfig = {MathJaxConfig: 'local'};</script>\n",
              "        <script src=\"https://cdn.plot.ly/plotly-2.8.3.min.js\"></script>                <div id=\"b4bf9cdd-ff02-45a7-b860-f3179200a606\" class=\"plotly-graph-div\" style=\"height:525px; width:100%;\"></div>            <script type=\"text/javascript\">                                    window.PLOTLYENV=window.PLOTLYENV || {};                                    if (document.getElementById(\"b4bf9cdd-ff02-45a7-b860-f3179200a606\")) {                    Plotly.newPlot(                        \"b4bf9cdd-ff02-45a7-b860-f3179200a606\",                        [{\"marker\":{\"color\":\"#496595\"},\"name\":\"ham\",\"text\":[\"4825\"],\"textposition\":\"auto\",\"x\":[\"ham\"],\"y\":[4825],\"type\":\"bar\"},{\"marker\":{\"color\":\"#c6ccd8\"},\"name\":\"spam\",\"text\":[\"747\"],\"textposition\":\"auto\",\"x\":[\"spam\"],\"y\":[747],\"type\":\"bar\"}],                        {\"template\":{\"data\":{\"bar\":[{\"error_x\":{\"color\":\"#2a3f5f\"},\"error_y\":{\"color\":\"#2a3f5f\"},\"marker\":{\"line\":{\"color\":\"#E5ECF6\",\"width\":0.5},\"pattern\":{\"fillmode\":\"overlay\",\"size\":10,\"solidity\":0.2}},\"type\":\"bar\"}],\"barpolar\":[{\"marker\":{\"line\":{\"color\":\"#E5ECF6\",\"width\":0.5},\"pattern\":{\"fillmode\":\"overlay\",\"size\":10,\"solidity\":0.2}},\"type\":\"barpolar\"}],\"carpet\":[{\"aaxis\":{\"endlinecolor\":\"#2a3f5f\",\"gridcolor\":\"white\",\"linecolor\":\"white\",\"minorgridcolor\":\"white\",\"startlinecolor\":\"#2a3f5f\"},\"baxis\":{\"endlinecolor\":\"#2a3f5f\",\"gridcolor\":\"white\",\"linecolor\":\"white\",\"minorgridcolor\":\"white\",\"startlinecolor\":\"#2a3f5f\"},\"type\":\"carpet\"}],\"choropleth\":[{\"colorbar\":{\"outlinewidth\":0,\"ticks\":\"\"},\"type\":\"choropleth\"}],\"contour\":[{\"colorbar\":{\"outlinewidth\":0,\"ticks\":\"\"},\"colorscale\":[[0.0,\"#0d0887\"],[0.1111111111111111,\"#46039f\"],[0.2222222222222222,\"#7201a8\"],[0.3333333333333333,\"#9c179e\"],[0.4444444444444444,\"#bd3786\"],[0.5555555555555556,\"#d8576b\"],[0.6666666666666666,\"#ed7953\"],[0.7777777777777778,\"#fb9f3a\"],[0.8888888888888888,\"#fdca26\"],[1.0,\"#f0f921\"]],\"type\":\"contour\"}],\"contourcarpet\":[{\"colorbar\":{\"outlinewidth\":0,\"ticks\":\"\"},\"type\":\"contourcarpet\"}],\"heatmap\":[{\"colorbar\":{\"outlinewidth\":0,\"ticks\":\"\"},\"colorscale\":[[0.0,\"#0d0887\"],[0.1111111111111111,\"#46039f\"],[0.2222222222222222,\"#7201a8\"],[0.3333333333333333,\"#9c179e\"],[0.4444444444444444,\"#bd3786\"],[0.5555555555555556,\"#d8576b\"],[0.6666666666666666,\"#ed7953\"],[0.7777777777777778,\"#fb9f3a\"],[0.8888888888888888,\"#fdca26\"],[1.0,\"#f0f921\"]],\"type\":\"heatmap\"}],\"heatmapgl\":[{\"colorbar\":{\"outlinewidth\":0,\"ticks\":\"\"},\"colorscale\":[[0.0,\"#0d0887\"],[0.1111111111111111,\"#46039f\"],[0.2222222222222222,\"#7201a8\"],[0.3333333333333333,\"#9c179e\"],[0.4444444444444444,\"#bd3786\"],[0.5555555555555556,\"#d8576b\"],[0.6666666666666666,\"#ed7953\"],[0.7777777777777778,\"#fb9f3a\"],[0.8888888888888888,\"#fdca26\"],[1.0,\"#f0f921\"]],\"type\":\"heatmapgl\"}],\"histogram\":[{\"marker\":{\"pattern\":{\"fillmode\":\"overlay\",\"size\":10,\"solidity\":0.2}},\"type\":\"histogram\"}],\"histogram2d\":[{\"colorbar\":{\"outlinewidth\":0,\"ticks\":\"\"},\"colorscale\":[[0.0,\"#0d0887\"],[0.1111111111111111,\"#46039f\"],[0.2222222222222222,\"#7201a8\"],[0.3333333333333333,\"#9c179e\"],[0.4444444444444444,\"#bd3786\"],[0.5555555555555556,\"#d8576b\"],[0.6666666666666666,\"#ed7953\"],[0.7777777777777778,\"#fb9f3a\"],[0.8888888888888888,\"#fdca26\"],[1.0,\"#f0f921\"]],\"type\":\"histogram2d\"}],\"histogram2dcontour\":[{\"colorbar\":{\"outlinewidth\":0,\"ticks\":\"\"},\"colorscale\":[[0.0,\"#0d0887\"],[0.1111111111111111,\"#46039f\"],[0.2222222222222222,\"#7201a8\"],[0.3333333333333333,\"#9c179e\"],[0.4444444444444444,\"#bd3786\"],[0.5555555555555556,\"#d8576b\"],[0.6666666666666666,\"#ed7953\"],[0.7777777777777778,\"#fb9f3a\"],[0.8888888888888888,\"#fdca26\"],[1.0,\"#f0f921\"]],\"type\":\"histogram2dcontour\"}],\"mesh3d\":[{\"colorbar\":{\"outlinewidth\":0,\"ticks\":\"\"},\"type\":\"mesh3d\"}],\"parcoords\":[{\"line\":{\"colorbar\":{\"outlinewidth\":0,\"ticks\":\"\"}},\"type\":\"parcoords\"}],\"pie\":[{\"automargin\":true,\"type\":\"pie\"}],\"scatter\":[{\"marker\":{\"colorbar\":{\"outlinewidth\":0,\"ticks\":\"\"}},\"type\":\"scatter\"}],\"scatter3d\":[{\"line\":{\"colorbar\":{\"outlinewidth\":0,\"ticks\":\"\"}},\"marker\":{\"colorbar\":{\"outlinewidth\":0,\"ticks\":\"\"}},\"type\":\"scatter3d\"}],\"scattercarpet\":[{\"marker\":{\"colorbar\":{\"outlinewidth\":0,\"ticks\":\"\"}},\"type\":\"scattercarpet\"}],\"scattergeo\":[{\"marker\":{\"colorbar\":{\"outlinewidth\":0,\"ticks\":\"\"}},\"type\":\"scattergeo\"}],\"scattergl\":[{\"marker\":{\"colorbar\":{\"outlinewidth\":0,\"ticks\":\"\"}},\"type\":\"scattergl\"}],\"scattermapbox\":[{\"marker\":{\"colorbar\":{\"outlinewidth\":0,\"ticks\":\"\"}},\"type\":\"scattermapbox\"}],\"scatterpolar\":[{\"marker\":{\"colorbar\":{\"outlinewidth\":0,\"ticks\":\"\"}},\"type\":\"scatterpolar\"}],\"scatterpolargl\":[{\"marker\":{\"colorbar\":{\"outlinewidth\":0,\"ticks\":\"\"}},\"type\":\"scatterpolargl\"}],\"scatterternary\":[{\"marker\":{\"colorbar\":{\"outlinewidth\":0,\"ticks\":\"\"}},\"type\":\"scatterternary\"}],\"surface\":[{\"colorbar\":{\"outlinewidth\":0,\"ticks\":\"\"},\"colorscale\":[[0.0,\"#0d0887\"],[0.1111111111111111,\"#46039f\"],[0.2222222222222222,\"#7201a8\"],[0.3333333333333333,\"#9c179e\"],[0.4444444444444444,\"#bd3786\"],[0.5555555555555556,\"#d8576b\"],[0.6666666666666666,\"#ed7953\"],[0.7777777777777778,\"#fb9f3a\"],[0.8888888888888888,\"#fdca26\"],[1.0,\"#f0f921\"]],\"type\":\"surface\"}],\"table\":[{\"cells\":{\"fill\":{\"color\":\"#EBF0F8\"},\"line\":{\"color\":\"white\"}},\"header\":{\"fill\":{\"color\":\"#C8D4E3\"},\"line\":{\"color\":\"white\"}},\"type\":\"table\"}]},\"layout\":{\"annotationdefaults\":{\"arrowcolor\":\"#2a3f5f\",\"arrowhead\":0,\"arrowwidth\":1},\"autotypenumbers\":\"strict\",\"coloraxis\":{\"colorbar\":{\"outlinewidth\":0,\"ticks\":\"\"}},\"colorscale\":{\"diverging\":[[0,\"#8e0152\"],[0.1,\"#c51b7d\"],[0.2,\"#de77ae\"],[0.3,\"#f1b6da\"],[0.4,\"#fde0ef\"],[0.5,\"#f7f7f7\"],[0.6,\"#e6f5d0\"],[0.7,\"#b8e186\"],[0.8,\"#7fbc41\"],[0.9,\"#4d9221\"],[1,\"#276419\"]],\"sequential\":[[0.0,\"#0d0887\"],[0.1111111111111111,\"#46039f\"],[0.2222222222222222,\"#7201a8\"],[0.3333333333333333,\"#9c179e\"],[0.4444444444444444,\"#bd3786\"],[0.5555555555555556,\"#d8576b\"],[0.6666666666666666,\"#ed7953\"],[0.7777777777777778,\"#fb9f3a\"],[0.8888888888888888,\"#fdca26\"],[1.0,\"#f0f921\"]],\"sequentialminus\":[[0.0,\"#0d0887\"],[0.1111111111111111,\"#46039f\"],[0.2222222222222222,\"#7201a8\"],[0.3333333333333333,\"#9c179e\"],[0.4444444444444444,\"#bd3786\"],[0.5555555555555556,\"#d8576b\"],[0.6666666666666666,\"#ed7953\"],[0.7777777777777778,\"#fb9f3a\"],[0.8888888888888888,\"#fdca26\"],[1.0,\"#f0f921\"]]},\"colorway\":[\"#636efa\",\"#EF553B\",\"#00cc96\",\"#ab63fa\",\"#FFA15A\",\"#19d3f3\",\"#FF6692\",\"#B6E880\",\"#FF97FF\",\"#FECB52\"],\"font\":{\"color\":\"#2a3f5f\"},\"geo\":{\"bgcolor\":\"white\",\"lakecolor\":\"white\",\"landcolor\":\"#E5ECF6\",\"showlakes\":true,\"showland\":true,\"subunitcolor\":\"white\"},\"hoverlabel\":{\"align\":\"left\"},\"hovermode\":\"closest\",\"mapbox\":{\"style\":\"light\"},\"paper_bgcolor\":\"white\",\"plot_bgcolor\":\"#E5ECF6\",\"polar\":{\"angularaxis\":{\"gridcolor\":\"white\",\"linecolor\":\"white\",\"ticks\":\"\"},\"bgcolor\":\"#E5ECF6\",\"radialaxis\":{\"gridcolor\":\"white\",\"linecolor\":\"white\",\"ticks\":\"\"}},\"scene\":{\"xaxis\":{\"backgroundcolor\":\"#E5ECF6\",\"gridcolor\":\"white\",\"gridwidth\":2,\"linecolor\":\"white\",\"showbackground\":true,\"ticks\":\"\",\"zerolinecolor\":\"white\"},\"yaxis\":{\"backgroundcolor\":\"#E5ECF6\",\"gridcolor\":\"white\",\"gridwidth\":2,\"linecolor\":\"white\",\"showbackground\":true,\"ticks\":\"\",\"zerolinecolor\":\"white\"},\"zaxis\":{\"backgroundcolor\":\"#E5ECF6\",\"gridcolor\":\"white\",\"gridwidth\":2,\"linecolor\":\"white\",\"showbackground\":true,\"ticks\":\"\",\"zerolinecolor\":\"white\"}},\"shapedefaults\":{\"line\":{\"color\":\"#2a3f5f\"}},\"ternary\":{\"aaxis\":{\"gridcolor\":\"white\",\"linecolor\":\"white\",\"ticks\":\"\"},\"baxis\":{\"gridcolor\":\"white\",\"linecolor\":\"white\",\"ticks\":\"\"},\"bgcolor\":\"#E5ECF6\",\"caxis\":{\"gridcolor\":\"white\",\"linecolor\":\"white\",\"ticks\":\"\"}},\"title\":{\"x\":0.05},\"xaxis\":{\"automargin\":true,\"gridcolor\":\"white\",\"linecolor\":\"white\",\"ticks\":\"\",\"title\":{\"standoff\":15},\"zerolinecolor\":\"white\",\"zerolinewidth\":2},\"yaxis\":{\"automargin\":true,\"gridcolor\":\"white\",\"linecolor\":\"white\",\"ticks\":\"\",\"title\":{\"standoff\":15},\"zerolinecolor\":\"white\",\"zerolinewidth\":2}}},\"title\":{\"text\":\"<span style=\\\"font-size:32px; font-family:Times New Roman\\\">Dataset distribution by target</span>\"}},                        {\"responsive\": true}                    ).then(function(){\n",
              "                            \n",
              "var gd = document.getElementById('b4bf9cdd-ff02-45a7-b860-f3179200a606');\n",
              "var x = new MutationObserver(function (mutations, observer) {{\n",
              "        var display = window.getComputedStyle(gd).display;\n",
              "        if (!display || display === 'none') {{\n",
              "            console.log([gd, 'removed!']);\n",
              "            Plotly.purge(gd);\n",
              "            observer.disconnect();\n",
              "        }}\n",
              "}});\n",
              "\n",
              "// Listen for the removal of the full notebook cells\n",
              "var notebookContainer = gd.closest('#notebook-container');\n",
              "if (notebookContainer) {{\n",
              "    x.observe(notebookContainer, {childList: true});\n",
              "}}\n",
              "\n",
              "// Listen for the clearing of the current output cell\n",
              "var outputEl = gd.closest('.output');\n",
              "if (outputEl) {{\n",
              "    x.observe(outputEl, {childList: true});\n",
              "}}\n",
              "\n",
              "                        })                };                            </script>        </div>\n",
              "</body>\n",
              "</html>"
            ]
          },
          "metadata": {}
        }
      ]
    },
    {
      "cell_type": "markdown",
      "source": [
        "As we can see, Ham is 4825 and spam is 747"
      ],
      "metadata": {
        "id": "InAWJqz-eDl7"
      }
    },
    {
      "cell_type": "code",
      "source": [
        "ham_df = df1[df1['Target'] == 'ham']['message_len'].value_counts().sort_index()\n",
        "spam_df = df1[df1['Target'] == 'spam']['message_len'].value_counts().sort_index()\n",
        "\n",
        "fig = go.Figure()\n",
        "fig.add_trace(go.Scatter(\n",
        "    x=ham_df.index,\n",
        "    y=ham_df.values,\n",
        "    name='ham',\n",
        "    fill='tozeroy',\n",
        "    marker_color=primary_blue,\n",
        "))\n",
        "fig.add_trace(go.Scatter(\n",
        "    x=spam_df.index,\n",
        "    y=spam_df.values,\n",
        "    name='spam',\n",
        "    fill='tozeroy',\n",
        "    marker_color=primary_grey,\n",
        "))\n",
        "fig.update_layout(\n",
        "    title='<span style=\"font-size:32px; font-family:Times New Roman\">Data Roles in Different Fields</span>'\n",
        ")\n",
        "fig.update_xaxes(range=[0, 70])\n",
        "fig.show()\n"
      ],
      "metadata": {
        "colab": {
          "base_uri": "https://localhost:8080/",
          "height": 542
        },
        "id": "eNwbKzqsfPLV",
        "outputId": "4bebd7b5-9d35-4508-94ea-accf55b9e362"
      },
      "execution_count": null,
      "outputs": [
        {
          "output_type": "display_data",
          "data": {
            "text/html": [
              "<html>\n",
              "<head><meta charset=\"utf-8\" /></head>\n",
              "<body>\n",
              "    <div>            <script src=\"https://cdnjs.cloudflare.com/ajax/libs/mathjax/2.7.5/MathJax.js?config=TeX-AMS-MML_SVG\"></script><script type=\"text/javascript\">if (window.MathJax) {MathJax.Hub.Config({SVG: {font: \"STIX-Web\"}});}</script>                <script type=\"text/javascript\">window.PlotlyConfig = {MathJaxConfig: 'local'};</script>\n",
              "        <script src=\"https://cdn.plot.ly/plotly-2.8.3.min.js\"></script>                <div id=\"29a7acbb-55c0-4841-9c4c-fa2457423f45\" class=\"plotly-graph-div\" style=\"height:525px; width:100%;\"></div>            <script type=\"text/javascript\">                                    window.PLOTLYENV=window.PLOTLYENV || {};                                    if (document.getElementById(\"29a7acbb-55c0-4841-9c4c-fa2457423f45\")) {                    Plotly.newPlot(                        \"29a7acbb-55c0-4841-9c4c-fa2457423f45\",                        [{\"fill\":\"tozeroy\",\"marker\":{\"color\":\"#496595\"},\"name\":\"ham\",\"x\":[1,2,3,4,5,6,7,8,9,10,11,12,13,14,15,16,17,18,19,20,21,22,23,24,25,26,27,28,29,30,31,32,33,34,35,36,37,38,39,40,41,42,43,44,45,46,47,48,49,50,52,53,54,55,56,57,58,59,60,61,62,63,65,66,69,70,71,72,73,76,77,80,88,89,95,96,99,119,121,125,162,171],\"y\":[41,39,75,194,345,414,381,334,306,247,226,187,162,158,155,122,108,109,89,91,74,63,68,72,69,82,70,59,58,60,42,48,38,39,29,20,17,11,10,10,6,6,8,2,3,3,2,3,4,3,4,2,1,3,3,2,3,2,3,4,4,3,2,1,1,3,1,2,3,1,2,1,1,1,1,2,1,1,1,2,1,1],\"type\":\"scatter\"},{\"fill\":\"tozeroy\",\"marker\":{\"color\":\"#c6ccd8\"},\"name\":\"spam\",\"x\":[2,3,4,5,6,7,8,9,10,11,12,13,14,15,16,17,18,19,20,21,22,23,24,25,26,27,28,29,30,31,32,33,34,35],\"y\":[2,1,1,3,4,4,8,2,5,4,12,14,6,12,8,12,15,21,25,16,49,46,62,66,65,79,79,43,35,15,21,7,3,2],\"type\":\"scatter\"}],                        {\"template\":{\"data\":{\"bar\":[{\"error_x\":{\"color\":\"#2a3f5f\"},\"error_y\":{\"color\":\"#2a3f5f\"},\"marker\":{\"line\":{\"color\":\"#E5ECF6\",\"width\":0.5},\"pattern\":{\"fillmode\":\"overlay\",\"size\":10,\"solidity\":0.2}},\"type\":\"bar\"}],\"barpolar\":[{\"marker\":{\"line\":{\"color\":\"#E5ECF6\",\"width\":0.5},\"pattern\":{\"fillmode\":\"overlay\",\"size\":10,\"solidity\":0.2}},\"type\":\"barpolar\"}],\"carpet\":[{\"aaxis\":{\"endlinecolor\":\"#2a3f5f\",\"gridcolor\":\"white\",\"linecolor\":\"white\",\"minorgridcolor\":\"white\",\"startlinecolor\":\"#2a3f5f\"},\"baxis\":{\"endlinecolor\":\"#2a3f5f\",\"gridcolor\":\"white\",\"linecolor\":\"white\",\"minorgridcolor\":\"white\",\"startlinecolor\":\"#2a3f5f\"},\"type\":\"carpet\"}],\"choropleth\":[{\"colorbar\":{\"outlinewidth\":0,\"ticks\":\"\"},\"type\":\"choropleth\"}],\"contour\":[{\"colorbar\":{\"outlinewidth\":0,\"ticks\":\"\"},\"colorscale\":[[0.0,\"#0d0887\"],[0.1111111111111111,\"#46039f\"],[0.2222222222222222,\"#7201a8\"],[0.3333333333333333,\"#9c179e\"],[0.4444444444444444,\"#bd3786\"],[0.5555555555555556,\"#d8576b\"],[0.6666666666666666,\"#ed7953\"],[0.7777777777777778,\"#fb9f3a\"],[0.8888888888888888,\"#fdca26\"],[1.0,\"#f0f921\"]],\"type\":\"contour\"}],\"contourcarpet\":[{\"colorbar\":{\"outlinewidth\":0,\"ticks\":\"\"},\"type\":\"contourcarpet\"}],\"heatmap\":[{\"colorbar\":{\"outlinewidth\":0,\"ticks\":\"\"},\"colorscale\":[[0.0,\"#0d0887\"],[0.1111111111111111,\"#46039f\"],[0.2222222222222222,\"#7201a8\"],[0.3333333333333333,\"#9c179e\"],[0.4444444444444444,\"#bd3786\"],[0.5555555555555556,\"#d8576b\"],[0.6666666666666666,\"#ed7953\"],[0.7777777777777778,\"#fb9f3a\"],[0.8888888888888888,\"#fdca26\"],[1.0,\"#f0f921\"]],\"type\":\"heatmap\"}],\"heatmapgl\":[{\"colorbar\":{\"outlinewidth\":0,\"ticks\":\"\"},\"colorscale\":[[0.0,\"#0d0887\"],[0.1111111111111111,\"#46039f\"],[0.2222222222222222,\"#7201a8\"],[0.3333333333333333,\"#9c179e\"],[0.4444444444444444,\"#bd3786\"],[0.5555555555555556,\"#d8576b\"],[0.6666666666666666,\"#ed7953\"],[0.7777777777777778,\"#fb9f3a\"],[0.8888888888888888,\"#fdca26\"],[1.0,\"#f0f921\"]],\"type\":\"heatmapgl\"}],\"histogram\":[{\"marker\":{\"pattern\":{\"fillmode\":\"overlay\",\"size\":10,\"solidity\":0.2}},\"type\":\"histogram\"}],\"histogram2d\":[{\"colorbar\":{\"outlinewidth\":0,\"ticks\":\"\"},\"colorscale\":[[0.0,\"#0d0887\"],[0.1111111111111111,\"#46039f\"],[0.2222222222222222,\"#7201a8\"],[0.3333333333333333,\"#9c179e\"],[0.4444444444444444,\"#bd3786\"],[0.5555555555555556,\"#d8576b\"],[0.6666666666666666,\"#ed7953\"],[0.7777777777777778,\"#fb9f3a\"],[0.8888888888888888,\"#fdca26\"],[1.0,\"#f0f921\"]],\"type\":\"histogram2d\"}],\"histogram2dcontour\":[{\"colorbar\":{\"outlinewidth\":0,\"ticks\":\"\"},\"colorscale\":[[0.0,\"#0d0887\"],[0.1111111111111111,\"#46039f\"],[0.2222222222222222,\"#7201a8\"],[0.3333333333333333,\"#9c179e\"],[0.4444444444444444,\"#bd3786\"],[0.5555555555555556,\"#d8576b\"],[0.6666666666666666,\"#ed7953\"],[0.7777777777777778,\"#fb9f3a\"],[0.8888888888888888,\"#fdca26\"],[1.0,\"#f0f921\"]],\"type\":\"histogram2dcontour\"}],\"mesh3d\":[{\"colorbar\":{\"outlinewidth\":0,\"ticks\":\"\"},\"type\":\"mesh3d\"}],\"parcoords\":[{\"line\":{\"colorbar\":{\"outlinewidth\":0,\"ticks\":\"\"}},\"type\":\"parcoords\"}],\"pie\":[{\"automargin\":true,\"type\":\"pie\"}],\"scatter\":[{\"marker\":{\"colorbar\":{\"outlinewidth\":0,\"ticks\":\"\"}},\"type\":\"scatter\"}],\"scatter3d\":[{\"line\":{\"colorbar\":{\"outlinewidth\":0,\"ticks\":\"\"}},\"marker\":{\"colorbar\":{\"outlinewidth\":0,\"ticks\":\"\"}},\"type\":\"scatter3d\"}],\"scattercarpet\":[{\"marker\":{\"colorbar\":{\"outlinewidth\":0,\"ticks\":\"\"}},\"type\":\"scattercarpet\"}],\"scattergeo\":[{\"marker\":{\"colorbar\":{\"outlinewidth\":0,\"ticks\":\"\"}},\"type\":\"scattergeo\"}],\"scattergl\":[{\"marker\":{\"colorbar\":{\"outlinewidth\":0,\"ticks\":\"\"}},\"type\":\"scattergl\"}],\"scattermapbox\":[{\"marker\":{\"colorbar\":{\"outlinewidth\":0,\"ticks\":\"\"}},\"type\":\"scattermapbox\"}],\"scatterpolar\":[{\"marker\":{\"colorbar\":{\"outlinewidth\":0,\"ticks\":\"\"}},\"type\":\"scatterpolar\"}],\"scatterpolargl\":[{\"marker\":{\"colorbar\":{\"outlinewidth\":0,\"ticks\":\"\"}},\"type\":\"scatterpolargl\"}],\"scatterternary\":[{\"marker\":{\"colorbar\":{\"outlinewidth\":0,\"ticks\":\"\"}},\"type\":\"scatterternary\"}],\"surface\":[{\"colorbar\":{\"outlinewidth\":0,\"ticks\":\"\"},\"colorscale\":[[0.0,\"#0d0887\"],[0.1111111111111111,\"#46039f\"],[0.2222222222222222,\"#7201a8\"],[0.3333333333333333,\"#9c179e\"],[0.4444444444444444,\"#bd3786\"],[0.5555555555555556,\"#d8576b\"],[0.6666666666666666,\"#ed7953\"],[0.7777777777777778,\"#fb9f3a\"],[0.8888888888888888,\"#fdca26\"],[1.0,\"#f0f921\"]],\"type\":\"surface\"}],\"table\":[{\"cells\":{\"fill\":{\"color\":\"#EBF0F8\"},\"line\":{\"color\":\"white\"}},\"header\":{\"fill\":{\"color\":\"#C8D4E3\"},\"line\":{\"color\":\"white\"}},\"type\":\"table\"}]},\"layout\":{\"annotationdefaults\":{\"arrowcolor\":\"#2a3f5f\",\"arrowhead\":0,\"arrowwidth\":1},\"autotypenumbers\":\"strict\",\"coloraxis\":{\"colorbar\":{\"outlinewidth\":0,\"ticks\":\"\"}},\"colorscale\":{\"diverging\":[[0,\"#8e0152\"],[0.1,\"#c51b7d\"],[0.2,\"#de77ae\"],[0.3,\"#f1b6da\"],[0.4,\"#fde0ef\"],[0.5,\"#f7f7f7\"],[0.6,\"#e6f5d0\"],[0.7,\"#b8e186\"],[0.8,\"#7fbc41\"],[0.9,\"#4d9221\"],[1,\"#276419\"]],\"sequential\":[[0.0,\"#0d0887\"],[0.1111111111111111,\"#46039f\"],[0.2222222222222222,\"#7201a8\"],[0.3333333333333333,\"#9c179e\"],[0.4444444444444444,\"#bd3786\"],[0.5555555555555556,\"#d8576b\"],[0.6666666666666666,\"#ed7953\"],[0.7777777777777778,\"#fb9f3a\"],[0.8888888888888888,\"#fdca26\"],[1.0,\"#f0f921\"]],\"sequentialminus\":[[0.0,\"#0d0887\"],[0.1111111111111111,\"#46039f\"],[0.2222222222222222,\"#7201a8\"],[0.3333333333333333,\"#9c179e\"],[0.4444444444444444,\"#bd3786\"],[0.5555555555555556,\"#d8576b\"],[0.6666666666666666,\"#ed7953\"],[0.7777777777777778,\"#fb9f3a\"],[0.8888888888888888,\"#fdca26\"],[1.0,\"#f0f921\"]]},\"colorway\":[\"#636efa\",\"#EF553B\",\"#00cc96\",\"#ab63fa\",\"#FFA15A\",\"#19d3f3\",\"#FF6692\",\"#B6E880\",\"#FF97FF\",\"#FECB52\"],\"font\":{\"color\":\"#2a3f5f\"},\"geo\":{\"bgcolor\":\"white\",\"lakecolor\":\"white\",\"landcolor\":\"#E5ECF6\",\"showlakes\":true,\"showland\":true,\"subunitcolor\":\"white\"},\"hoverlabel\":{\"align\":\"left\"},\"hovermode\":\"closest\",\"mapbox\":{\"style\":\"light\"},\"paper_bgcolor\":\"white\",\"plot_bgcolor\":\"#E5ECF6\",\"polar\":{\"angularaxis\":{\"gridcolor\":\"white\",\"linecolor\":\"white\",\"ticks\":\"\"},\"bgcolor\":\"#E5ECF6\",\"radialaxis\":{\"gridcolor\":\"white\",\"linecolor\":\"white\",\"ticks\":\"\"}},\"scene\":{\"xaxis\":{\"backgroundcolor\":\"#E5ECF6\",\"gridcolor\":\"white\",\"gridwidth\":2,\"linecolor\":\"white\",\"showbackground\":true,\"ticks\":\"\",\"zerolinecolor\":\"white\"},\"yaxis\":{\"backgroundcolor\":\"#E5ECF6\",\"gridcolor\":\"white\",\"gridwidth\":2,\"linecolor\":\"white\",\"showbackground\":true,\"ticks\":\"\",\"zerolinecolor\":\"white\"},\"zaxis\":{\"backgroundcolor\":\"#E5ECF6\",\"gridcolor\":\"white\",\"gridwidth\":2,\"linecolor\":\"white\",\"showbackground\":true,\"ticks\":\"\",\"zerolinecolor\":\"white\"}},\"shapedefaults\":{\"line\":{\"color\":\"#2a3f5f\"}},\"ternary\":{\"aaxis\":{\"gridcolor\":\"white\",\"linecolor\":\"white\",\"ticks\":\"\"},\"baxis\":{\"gridcolor\":\"white\",\"linecolor\":\"white\",\"ticks\":\"\"},\"bgcolor\":\"#E5ECF6\",\"caxis\":{\"gridcolor\":\"white\",\"linecolor\":\"white\",\"ticks\":\"\"}},\"title\":{\"x\":0.05},\"xaxis\":{\"automargin\":true,\"gridcolor\":\"white\",\"linecolor\":\"white\",\"ticks\":\"\",\"title\":{\"standoff\":15},\"zerolinecolor\":\"white\",\"zerolinewidth\":2},\"yaxis\":{\"automargin\":true,\"gridcolor\":\"white\",\"linecolor\":\"white\",\"ticks\":\"\",\"title\":{\"standoff\":15},\"zerolinecolor\":\"white\",\"zerolinewidth\":2}}},\"title\":{\"text\":\"<span style=\\\"font-size:32px; font-family:Times New Roman\\\">Data Roles in Different Fields</span>\"},\"xaxis\":{\"range\":[0,70]}},                        {\"responsive\": true}                    ).then(function(){\n",
              "                            \n",
              "var gd = document.getElementById('29a7acbb-55c0-4841-9c4c-fa2457423f45');\n",
              "var x = new MutationObserver(function (mutations, observer) {{\n",
              "        var display = window.getComputedStyle(gd).display;\n",
              "        if (!display || display === 'none') {{\n",
              "            console.log([gd, 'removed!']);\n",
              "            Plotly.purge(gd);\n",
              "            observer.disconnect();\n",
              "        }}\n",
              "}});\n",
              "\n",
              "// Listen for the removal of the full notebook cells\n",
              "var notebookContainer = gd.closest('#notebook-container');\n",
              "if (notebookContainer) {{\n",
              "    x.observe(notebookContainer, {childList: true});\n",
              "}}\n",
              "\n",
              "// Listen for the clearing of the current output cell\n",
              "var outputEl = gd.closest('.output');\n",
              "if (outputEl) {{\n",
              "    x.observe(outputEl, {childList: true});\n",
              "}}\n",
              "\n",
              "                        })                };                            </script>        </div>\n",
              "</body>\n",
              "</html>"
            ]
          },
          "metadata": {}
        }
      ]
    },
    {
      "cell_type": "markdown",
      "source": [
        "As we can see, the ham message length tend to be lower than spam message length.\n",
        "\n",
        "\n"
      ],
      "metadata": {
        "id": "vc0Us0jyfmwL"
      }
    },
    {
      "cell_type": "markdown",
      "source": [
        "#**3. Data Pre-processing**\n",
        "\n",
        "\n",
        "Now we are going to engineering the data to make it easier for the model to clasiffy.\n",
        "\n",
        "This section is very important to reduce the dimensions of the problem.\n",
        "\n",
        "###3.1 Cleaning the corpus"
      ],
      "metadata": {
        "id": "r3Vy0Wk6eK1t"
      }
    },
    {
      "cell_type": "code",
      "source": [
        "def clean_text(text):\n",
        "    '''Make text lowercase, remove text in square brackets,remove links,remove punctuation\n",
        "    and remove words containing numbers.'''\n",
        "    text = str(text).lower()\n",
        "    text = re.sub('\\[.*?\\]', '', text)\n",
        "    text = re.sub('https?://\\S+|www\\.\\S+', '', text)\n",
        "    text = re.sub('<.*?>+', '', text)\n",
        "    text = re.sub('[%s]' % re.escape(string.punctuation), '', text)\n",
        "    text = re.sub('\\n', '', text)\n",
        "    text = re.sub('\\w*\\d\\w*', '', text)\n",
        "    return text"
      ],
      "metadata": {
        "id": "wlPpWnitYhoG"
      },
      "execution_count": null,
      "outputs": []
    },
    {
      "cell_type": "code",
      "source": [
        "df1['message_clean'] = df1['message'].apply(clean_text)\n",
        "df1.head()"
      ],
      "metadata": {
        "colab": {
          "base_uri": "https://localhost:8080/",
          "height": 206
        },
        "id": "KUlNM9VpZ2q2",
        "outputId": "98cbba97-e04a-4147-e88a-3ff64a57e099"
      },
      "execution_count": null,
      "outputs": [
        {
          "output_type": "execute_result",
          "data": {
            "text/plain": [
              "  Target                                            message  message_len  \\\n",
              "0    ham  Go until jurong point, crazy.. Available only ...           20   \n",
              "1    ham                      Ok lar... Joking wif u oni...            6   \n",
              "2   spam  Free entry in 2 a wkly comp to win FA Cup fina...           28   \n",
              "3    ham  U dun say so early hor... U c already then say...           11   \n",
              "4    ham  Nah I don't think he goes to usf, he lives aro...           13   \n",
              "\n",
              "                                       message_clean  \n",
              "0  go until jurong point crazy available only in ...  \n",
              "1                            ok lar joking wif u oni  \n",
              "2  free entry in  a wkly comp to win fa cup final...  \n",
              "3        u dun say so early hor u c already then say  \n",
              "4  nah i dont think he goes to usf he lives aroun...  "
            ],
            "text/html": [
              "\n",
              "  <div id=\"df-1ca55c95-49c8-41ed-ada7-1d5830d2de39\">\n",
              "    <div class=\"colab-df-container\">\n",
              "      <div>\n",
              "<style scoped>\n",
              "    .dataframe tbody tr th:only-of-type {\n",
              "        vertical-align: middle;\n",
              "    }\n",
              "\n",
              "    .dataframe tbody tr th {\n",
              "        vertical-align: top;\n",
              "    }\n",
              "\n",
              "    .dataframe thead th {\n",
              "        text-align: right;\n",
              "    }\n",
              "</style>\n",
              "<table border=\"1\" class=\"dataframe\">\n",
              "  <thead>\n",
              "    <tr style=\"text-align: right;\">\n",
              "      <th></th>\n",
              "      <th>Target</th>\n",
              "      <th>message</th>\n",
              "      <th>message_len</th>\n",
              "      <th>message_clean</th>\n",
              "    </tr>\n",
              "  </thead>\n",
              "  <tbody>\n",
              "    <tr>\n",
              "      <th>0</th>\n",
              "      <td>ham</td>\n",
              "      <td>Go until jurong point, crazy.. Available only ...</td>\n",
              "      <td>20</td>\n",
              "      <td>go until jurong point crazy available only in ...</td>\n",
              "    </tr>\n",
              "    <tr>\n",
              "      <th>1</th>\n",
              "      <td>ham</td>\n",
              "      <td>Ok lar... Joking wif u oni...</td>\n",
              "      <td>6</td>\n",
              "      <td>ok lar joking wif u oni</td>\n",
              "    </tr>\n",
              "    <tr>\n",
              "      <th>2</th>\n",
              "      <td>spam</td>\n",
              "      <td>Free entry in 2 a wkly comp to win FA Cup fina...</td>\n",
              "      <td>28</td>\n",
              "      <td>free entry in  a wkly comp to win fa cup final...</td>\n",
              "    </tr>\n",
              "    <tr>\n",
              "      <th>3</th>\n",
              "      <td>ham</td>\n",
              "      <td>U dun say so early hor... U c already then say...</td>\n",
              "      <td>11</td>\n",
              "      <td>u dun say so early hor u c already then say</td>\n",
              "    </tr>\n",
              "    <tr>\n",
              "      <th>4</th>\n",
              "      <td>ham</td>\n",
              "      <td>Nah I don't think he goes to usf, he lives aro...</td>\n",
              "      <td>13</td>\n",
              "      <td>nah i dont think he goes to usf he lives aroun...</td>\n",
              "    </tr>\n",
              "  </tbody>\n",
              "</table>\n",
              "</div>\n",
              "      <button class=\"colab-df-convert\" onclick=\"convertToInteractive('df-1ca55c95-49c8-41ed-ada7-1d5830d2de39')\"\n",
              "              title=\"Convert this dataframe to an interactive table.\"\n",
              "              style=\"display:none;\">\n",
              "        \n",
              "  <svg xmlns=\"http://www.w3.org/2000/svg\" height=\"24px\"viewBox=\"0 0 24 24\"\n",
              "       width=\"24px\">\n",
              "    <path d=\"M0 0h24v24H0V0z\" fill=\"none\"/>\n",
              "    <path d=\"M18.56 5.44l.94 2.06.94-2.06 2.06-.94-2.06-.94-.94-2.06-.94 2.06-2.06.94zm-11 1L8.5 8.5l.94-2.06 2.06-.94-2.06-.94L8.5 2.5l-.94 2.06-2.06.94zm10 10l.94 2.06.94-2.06 2.06-.94-2.06-.94-.94-2.06-.94 2.06-2.06.94z\"/><path d=\"M17.41 7.96l-1.37-1.37c-.4-.4-.92-.59-1.43-.59-.52 0-1.04.2-1.43.59L10.3 9.45l-7.72 7.72c-.78.78-.78 2.05 0 2.83L4 21.41c.39.39.9.59 1.41.59.51 0 1.02-.2 1.41-.59l7.78-7.78 2.81-2.81c.8-.78.8-2.07 0-2.86zM5.41 20L4 18.59l7.72-7.72 1.47 1.35L5.41 20z\"/>\n",
              "  </svg>\n",
              "      </button>\n",
              "      \n",
              "  <style>\n",
              "    .colab-df-container {\n",
              "      display:flex;\n",
              "      flex-wrap:wrap;\n",
              "      gap: 12px;\n",
              "    }\n",
              "\n",
              "    .colab-df-convert {\n",
              "      background-color: #E8F0FE;\n",
              "      border: none;\n",
              "      border-radius: 50%;\n",
              "      cursor: pointer;\n",
              "      display: none;\n",
              "      fill: #1967D2;\n",
              "      height: 32px;\n",
              "      padding: 0 0 0 0;\n",
              "      width: 32px;\n",
              "    }\n",
              "\n",
              "    .colab-df-convert:hover {\n",
              "      background-color: #E2EBFA;\n",
              "      box-shadow: 0px 1px 2px rgba(60, 64, 67, 0.3), 0px 1px 3px 1px rgba(60, 64, 67, 0.15);\n",
              "      fill: #174EA6;\n",
              "    }\n",
              "\n",
              "    [theme=dark] .colab-df-convert {\n",
              "      background-color: #3B4455;\n",
              "      fill: #D2E3FC;\n",
              "    }\n",
              "\n",
              "    [theme=dark] .colab-df-convert:hover {\n",
              "      background-color: #434B5C;\n",
              "      box-shadow: 0px 1px 3px 1px rgba(0, 0, 0, 0.15);\n",
              "      filter: drop-shadow(0px 1px 2px rgba(0, 0, 0, 0.3));\n",
              "      fill: #FFFFFF;\n",
              "    }\n",
              "  </style>\n",
              "\n",
              "      <script>\n",
              "        const buttonEl =\n",
              "          document.querySelector('#df-1ca55c95-49c8-41ed-ada7-1d5830d2de39 button.colab-df-convert');\n",
              "        buttonEl.style.display =\n",
              "          google.colab.kernel.accessAllowed ? 'block' : 'none';\n",
              "\n",
              "        async function convertToInteractive(key) {\n",
              "          const element = document.querySelector('#df-1ca55c95-49c8-41ed-ada7-1d5830d2de39');\n",
              "          const dataTable =\n",
              "            await google.colab.kernel.invokeFunction('convertToInteractive',\n",
              "                                                     [key], {});\n",
              "          if (!dataTable) return;\n",
              "\n",
              "          const docLinkHtml = 'Like what you see? Visit the ' +\n",
              "            '<a target=\"_blank\" href=https://colab.research.google.com/notebooks/data_table.ipynb>data table notebook</a>'\n",
              "            + ' to learn more about interactive tables.';\n",
              "          element.innerHTML = '';\n",
              "          dataTable['output_type'] = 'display_data';\n",
              "          await google.colab.output.renderOutput(dataTable, element);\n",
              "          const docLink = document.createElement('div');\n",
              "          docLink.innerHTML = docLinkHtml;\n",
              "          element.appendChild(docLink);\n",
              "        }\n",
              "      </script>\n",
              "    </div>\n",
              "  </div>\n",
              "  "
            ]
          },
          "metadata": {},
          "execution_count": 290
        }
      ]
    },
    {
      "cell_type": "code",
      "source": [
        "import nltk\n",
        "nltk.download('stopwords')\n",
        "from nltk.corpus import stopwords\n",
        "STOPWORDS = set(stopwords.words('english'))"
      ],
      "metadata": {
        "colab": {
          "base_uri": "https://localhost:8080/"
        },
        "id": "YI-WqzwNhZR_",
        "outputId": "9f87a175-d66d-4391-e48e-e3b7a5706453"
      },
      "execution_count": null,
      "outputs": [
        {
          "output_type": "stream",
          "name": "stderr",
          "text": [
            "[nltk_data] Downloading package stopwords to /root/nltk_data...\n",
            "[nltk_data]   Package stopwords is already up-to-date!\n"
          ]
        }
      ]
    },
    {
      "cell_type": "code",
      "source": [
        "\n",
        "import nltk\n",
        "from nltk.corpus import stopwords\n",
        "from nltk.tokenize import word_tokenize\n",
        "stop_words = stopwords.words('english')\n",
        "more_stopwords = ['u', 'im', 'c']\n",
        "stop_words = stop_words + more_stopwords\n",
        "\n",
        "def remove_stopwords(text):\n",
        "    text = ' '.join(word for word in text.split(' ') if word not in stop_words)\n",
        "    return text\n",
        "    \n",
        "df1['message_clean'] = df1['message_clean'].apply(remove_stopwords)\n",
        "df1.head()"
      ],
      "metadata": {
        "colab": {
          "base_uri": "https://localhost:8080/",
          "height": 206
        },
        "id": "6DP26AxfWIW9",
        "outputId": "8025f545-6b39-4dc8-b9bb-962566c40461"
      },
      "execution_count": null,
      "outputs": [
        {
          "output_type": "execute_result",
          "data": {
            "text/plain": [
              "  Target                                            message  message_len  \\\n",
              "0    ham  Go until jurong point, crazy.. Available only ...           20   \n",
              "1    ham                      Ok lar... Joking wif u oni...            6   \n",
              "2   spam  Free entry in 2 a wkly comp to win FA Cup fina...           28   \n",
              "3    ham  U dun say so early hor... U c already then say...           11   \n",
              "4    ham  Nah I don't think he goes to usf, he lives aro...           13   \n",
              "\n",
              "                                       message_clean  \n",
              "0  go jurong point crazy available bugis n great ...  \n",
              "1                              ok lar joking wif oni  \n",
              "2  free entry  wkly comp win fa cup final tkts  m...  \n",
              "3                      dun say early hor already say  \n",
              "4        nah dont think goes usf lives around though  "
            ],
            "text/html": [
              "\n",
              "  <div id=\"df-14220b50-7d51-4661-ba74-9f5a71ee37b8\">\n",
              "    <div class=\"colab-df-container\">\n",
              "      <div>\n",
              "<style scoped>\n",
              "    .dataframe tbody tr th:only-of-type {\n",
              "        vertical-align: middle;\n",
              "    }\n",
              "\n",
              "    .dataframe tbody tr th {\n",
              "        vertical-align: top;\n",
              "    }\n",
              "\n",
              "    .dataframe thead th {\n",
              "        text-align: right;\n",
              "    }\n",
              "</style>\n",
              "<table border=\"1\" class=\"dataframe\">\n",
              "  <thead>\n",
              "    <tr style=\"text-align: right;\">\n",
              "      <th></th>\n",
              "      <th>Target</th>\n",
              "      <th>message</th>\n",
              "      <th>message_len</th>\n",
              "      <th>message_clean</th>\n",
              "    </tr>\n",
              "  </thead>\n",
              "  <tbody>\n",
              "    <tr>\n",
              "      <th>0</th>\n",
              "      <td>ham</td>\n",
              "      <td>Go until jurong point, crazy.. Available only ...</td>\n",
              "      <td>20</td>\n",
              "      <td>go jurong point crazy available bugis n great ...</td>\n",
              "    </tr>\n",
              "    <tr>\n",
              "      <th>1</th>\n",
              "      <td>ham</td>\n",
              "      <td>Ok lar... Joking wif u oni...</td>\n",
              "      <td>6</td>\n",
              "      <td>ok lar joking wif oni</td>\n",
              "    </tr>\n",
              "    <tr>\n",
              "      <th>2</th>\n",
              "      <td>spam</td>\n",
              "      <td>Free entry in 2 a wkly comp to win FA Cup fina...</td>\n",
              "      <td>28</td>\n",
              "      <td>free entry  wkly comp win fa cup final tkts  m...</td>\n",
              "    </tr>\n",
              "    <tr>\n",
              "      <th>3</th>\n",
              "      <td>ham</td>\n",
              "      <td>U dun say so early hor... U c already then say...</td>\n",
              "      <td>11</td>\n",
              "      <td>dun say early hor already say</td>\n",
              "    </tr>\n",
              "    <tr>\n",
              "      <th>4</th>\n",
              "      <td>ham</td>\n",
              "      <td>Nah I don't think he goes to usf, he lives aro...</td>\n",
              "      <td>13</td>\n",
              "      <td>nah dont think goes usf lives around though</td>\n",
              "    </tr>\n",
              "  </tbody>\n",
              "</table>\n",
              "</div>\n",
              "      <button class=\"colab-df-convert\" onclick=\"convertToInteractive('df-14220b50-7d51-4661-ba74-9f5a71ee37b8')\"\n",
              "              title=\"Convert this dataframe to an interactive table.\"\n",
              "              style=\"display:none;\">\n",
              "        \n",
              "  <svg xmlns=\"http://www.w3.org/2000/svg\" height=\"24px\"viewBox=\"0 0 24 24\"\n",
              "       width=\"24px\">\n",
              "    <path d=\"M0 0h24v24H0V0z\" fill=\"none\"/>\n",
              "    <path d=\"M18.56 5.44l.94 2.06.94-2.06 2.06-.94-2.06-.94-.94-2.06-.94 2.06-2.06.94zm-11 1L8.5 8.5l.94-2.06 2.06-.94-2.06-.94L8.5 2.5l-.94 2.06-2.06.94zm10 10l.94 2.06.94-2.06 2.06-.94-2.06-.94-.94-2.06-.94 2.06-2.06.94z\"/><path d=\"M17.41 7.96l-1.37-1.37c-.4-.4-.92-.59-1.43-.59-.52 0-1.04.2-1.43.59L10.3 9.45l-7.72 7.72c-.78.78-.78 2.05 0 2.83L4 21.41c.39.39.9.59 1.41.59.51 0 1.02-.2 1.41-.59l7.78-7.78 2.81-2.81c.8-.78.8-2.07 0-2.86zM5.41 20L4 18.59l7.72-7.72 1.47 1.35L5.41 20z\"/>\n",
              "  </svg>\n",
              "      </button>\n",
              "      \n",
              "  <style>\n",
              "    .colab-df-container {\n",
              "      display:flex;\n",
              "      flex-wrap:wrap;\n",
              "      gap: 12px;\n",
              "    }\n",
              "\n",
              "    .colab-df-convert {\n",
              "      background-color: #E8F0FE;\n",
              "      border: none;\n",
              "      border-radius: 50%;\n",
              "      cursor: pointer;\n",
              "      display: none;\n",
              "      fill: #1967D2;\n",
              "      height: 32px;\n",
              "      padding: 0 0 0 0;\n",
              "      width: 32px;\n",
              "    }\n",
              "\n",
              "    .colab-df-convert:hover {\n",
              "      background-color: #E2EBFA;\n",
              "      box-shadow: 0px 1px 2px rgba(60, 64, 67, 0.3), 0px 1px 3px 1px rgba(60, 64, 67, 0.15);\n",
              "      fill: #174EA6;\n",
              "    }\n",
              "\n",
              "    [theme=dark] .colab-df-convert {\n",
              "      background-color: #3B4455;\n",
              "      fill: #D2E3FC;\n",
              "    }\n",
              "\n",
              "    [theme=dark] .colab-df-convert:hover {\n",
              "      background-color: #434B5C;\n",
              "      box-shadow: 0px 1px 3px 1px rgba(0, 0, 0, 0.15);\n",
              "      filter: drop-shadow(0px 1px 2px rgba(0, 0, 0, 0.3));\n",
              "      fill: #FFFFFF;\n",
              "    }\n",
              "  </style>\n",
              "\n",
              "      <script>\n",
              "        const buttonEl =\n",
              "          document.querySelector('#df-14220b50-7d51-4661-ba74-9f5a71ee37b8 button.colab-df-convert');\n",
              "        buttonEl.style.display =\n",
              "          google.colab.kernel.accessAllowed ? 'block' : 'none';\n",
              "\n",
              "        async function convertToInteractive(key) {\n",
              "          const element = document.querySelector('#df-14220b50-7d51-4661-ba74-9f5a71ee37b8');\n",
              "          const dataTable =\n",
              "            await google.colab.kernel.invokeFunction('convertToInteractive',\n",
              "                                                     [key], {});\n",
              "          if (!dataTable) return;\n",
              "\n",
              "          const docLinkHtml = 'Like what you see? Visit the ' +\n",
              "            '<a target=\"_blank\" href=https://colab.research.google.com/notebooks/data_table.ipynb>data table notebook</a>'\n",
              "            + ' to learn more about interactive tables.';\n",
              "          element.innerHTML = '';\n",
              "          dataTable['output_type'] = 'display_data';\n",
              "          await google.colab.output.renderOutput(dataTable, element);\n",
              "          const docLink = document.createElement('div');\n",
              "          docLink.innerHTML = docLinkHtml;\n",
              "          element.appendChild(docLink);\n",
              "        }\n",
              "      </script>\n",
              "    </div>\n",
              "  </div>\n",
              "  "
            ]
          },
          "metadata": {},
          "execution_count": 292
        }
      ]
    },
    {
      "cell_type": "markdown",
      "source": [
        "###3.2 Target encoding "
      ],
      "metadata": {
        "id": "MFl_sd5Rhp_6"
      }
    },
    {
      "cell_type": "code",
      "source": [
        "from sklearn.preprocessing import LabelEncoder\n",
        "\n",
        "le = LabelEncoder()\n",
        "le.fit(df1['Target'])\n",
        "\n",
        "df1['target_encoded'] = le.transform(df1['Target'])\n",
        "df1.head()"
      ],
      "metadata": {
        "colab": {
          "base_uri": "https://localhost:8080/",
          "height": 206
        },
        "id": "y1iWDMrKhpZh",
        "outputId": "8ae902d6-ec49-448c-899a-b69ea35eeb2c"
      },
      "execution_count": null,
      "outputs": [
        {
          "output_type": "execute_result",
          "data": {
            "text/plain": [
              "  Target                                            message  message_len  \\\n",
              "0    ham  Go until jurong point, crazy.. Available only ...           20   \n",
              "1    ham                      Ok lar... Joking wif u oni...            6   \n",
              "2   spam  Free entry in 2 a wkly comp to win FA Cup fina...           28   \n",
              "3    ham  U dun say so early hor... U c already then say...           11   \n",
              "4    ham  Nah I don't think he goes to usf, he lives aro...           13   \n",
              "\n",
              "                                       message_clean  target_encoded  \n",
              "0  go jurong point crazy available bugis n great ...               0  \n",
              "1                              ok lar joking wif oni               0  \n",
              "2  free entry  wkly comp win fa cup final tkts  m...               1  \n",
              "3                      dun say early hor already say               0  \n",
              "4        nah dont think goes usf lives around though               0  "
            ],
            "text/html": [
              "\n",
              "  <div id=\"df-56105c70-dbba-42e4-a417-5fd82fe8668d\">\n",
              "    <div class=\"colab-df-container\">\n",
              "      <div>\n",
              "<style scoped>\n",
              "    .dataframe tbody tr th:only-of-type {\n",
              "        vertical-align: middle;\n",
              "    }\n",
              "\n",
              "    .dataframe tbody tr th {\n",
              "        vertical-align: top;\n",
              "    }\n",
              "\n",
              "    .dataframe thead th {\n",
              "        text-align: right;\n",
              "    }\n",
              "</style>\n",
              "<table border=\"1\" class=\"dataframe\">\n",
              "  <thead>\n",
              "    <tr style=\"text-align: right;\">\n",
              "      <th></th>\n",
              "      <th>Target</th>\n",
              "      <th>message</th>\n",
              "      <th>message_len</th>\n",
              "      <th>message_clean</th>\n",
              "      <th>target_encoded</th>\n",
              "    </tr>\n",
              "  </thead>\n",
              "  <tbody>\n",
              "    <tr>\n",
              "      <th>0</th>\n",
              "      <td>ham</td>\n",
              "      <td>Go until jurong point, crazy.. Available only ...</td>\n",
              "      <td>20</td>\n",
              "      <td>go jurong point crazy available bugis n great ...</td>\n",
              "      <td>0</td>\n",
              "    </tr>\n",
              "    <tr>\n",
              "      <th>1</th>\n",
              "      <td>ham</td>\n",
              "      <td>Ok lar... Joking wif u oni...</td>\n",
              "      <td>6</td>\n",
              "      <td>ok lar joking wif oni</td>\n",
              "      <td>0</td>\n",
              "    </tr>\n",
              "    <tr>\n",
              "      <th>2</th>\n",
              "      <td>spam</td>\n",
              "      <td>Free entry in 2 a wkly comp to win FA Cup fina...</td>\n",
              "      <td>28</td>\n",
              "      <td>free entry  wkly comp win fa cup final tkts  m...</td>\n",
              "      <td>1</td>\n",
              "    </tr>\n",
              "    <tr>\n",
              "      <th>3</th>\n",
              "      <td>ham</td>\n",
              "      <td>U dun say so early hor... U c already then say...</td>\n",
              "      <td>11</td>\n",
              "      <td>dun say early hor already say</td>\n",
              "      <td>0</td>\n",
              "    </tr>\n",
              "    <tr>\n",
              "      <th>4</th>\n",
              "      <td>ham</td>\n",
              "      <td>Nah I don't think he goes to usf, he lives aro...</td>\n",
              "      <td>13</td>\n",
              "      <td>nah dont think goes usf lives around though</td>\n",
              "      <td>0</td>\n",
              "    </tr>\n",
              "  </tbody>\n",
              "</table>\n",
              "</div>\n",
              "      <button class=\"colab-df-convert\" onclick=\"convertToInteractive('df-56105c70-dbba-42e4-a417-5fd82fe8668d')\"\n",
              "              title=\"Convert this dataframe to an interactive table.\"\n",
              "              style=\"display:none;\">\n",
              "        \n",
              "  <svg xmlns=\"http://www.w3.org/2000/svg\" height=\"24px\"viewBox=\"0 0 24 24\"\n",
              "       width=\"24px\">\n",
              "    <path d=\"M0 0h24v24H0V0z\" fill=\"none\"/>\n",
              "    <path d=\"M18.56 5.44l.94 2.06.94-2.06 2.06-.94-2.06-.94-.94-2.06-.94 2.06-2.06.94zm-11 1L8.5 8.5l.94-2.06 2.06-.94-2.06-.94L8.5 2.5l-.94 2.06-2.06.94zm10 10l.94 2.06.94-2.06 2.06-.94-2.06-.94-.94-2.06-.94 2.06-2.06.94z\"/><path d=\"M17.41 7.96l-1.37-1.37c-.4-.4-.92-.59-1.43-.59-.52 0-1.04.2-1.43.59L10.3 9.45l-7.72 7.72c-.78.78-.78 2.05 0 2.83L4 21.41c.39.39.9.59 1.41.59.51 0 1.02-.2 1.41-.59l7.78-7.78 2.81-2.81c.8-.78.8-2.07 0-2.86zM5.41 20L4 18.59l7.72-7.72 1.47 1.35L5.41 20z\"/>\n",
              "  </svg>\n",
              "      </button>\n",
              "      \n",
              "  <style>\n",
              "    .colab-df-container {\n",
              "      display:flex;\n",
              "      flex-wrap:wrap;\n",
              "      gap: 12px;\n",
              "    }\n",
              "\n",
              "    .colab-df-convert {\n",
              "      background-color: #E8F0FE;\n",
              "      border: none;\n",
              "      border-radius: 50%;\n",
              "      cursor: pointer;\n",
              "      display: none;\n",
              "      fill: #1967D2;\n",
              "      height: 32px;\n",
              "      padding: 0 0 0 0;\n",
              "      width: 32px;\n",
              "    }\n",
              "\n",
              "    .colab-df-convert:hover {\n",
              "      background-color: #E2EBFA;\n",
              "      box-shadow: 0px 1px 2px rgba(60, 64, 67, 0.3), 0px 1px 3px 1px rgba(60, 64, 67, 0.15);\n",
              "      fill: #174EA6;\n",
              "    }\n",
              "\n",
              "    [theme=dark] .colab-df-convert {\n",
              "      background-color: #3B4455;\n",
              "      fill: #D2E3FC;\n",
              "    }\n",
              "\n",
              "    [theme=dark] .colab-df-convert:hover {\n",
              "      background-color: #434B5C;\n",
              "      box-shadow: 0px 1px 3px 1px rgba(0, 0, 0, 0.15);\n",
              "      filter: drop-shadow(0px 1px 2px rgba(0, 0, 0, 0.3));\n",
              "      fill: #FFFFFF;\n",
              "    }\n",
              "  </style>\n",
              "\n",
              "      <script>\n",
              "        const buttonEl =\n",
              "          document.querySelector('#df-56105c70-dbba-42e4-a417-5fd82fe8668d button.colab-df-convert');\n",
              "        buttonEl.style.display =\n",
              "          google.colab.kernel.accessAllowed ? 'block' : 'none';\n",
              "\n",
              "        async function convertToInteractive(key) {\n",
              "          const element = document.querySelector('#df-56105c70-dbba-42e4-a417-5fd82fe8668d');\n",
              "          const dataTable =\n",
              "            await google.colab.kernel.invokeFunction('convertToInteractive',\n",
              "                                                     [key], {});\n",
              "          if (!dataTable) return;\n",
              "\n",
              "          const docLinkHtml = 'Like what you see? Visit the ' +\n",
              "            '<a target=\"_blank\" href=https://colab.research.google.com/notebooks/data_table.ipynb>data table notebook</a>'\n",
              "            + ' to learn more about interactive tables.';\n",
              "          element.innerHTML = '';\n",
              "          dataTable['output_type'] = 'display_data';\n",
              "          await google.colab.output.renderOutput(dataTable, element);\n",
              "          const docLink = document.createElement('div');\n",
              "          docLink.innerHTML = docLinkHtml;\n",
              "          element.appendChild(docLink);\n",
              "        }\n",
              "      </script>\n",
              "    </div>\n",
              "  </div>\n",
              "  "
            ]
          },
          "metadata": {},
          "execution_count": 293
        }
      ]
    },
    {
      "cell_type": "markdown",
      "source": [
        "#**4. Vectorization**\n",
        "\n",
        "Currently, we have the messages as lists of tokens (also known as lemmas) and now we need to convert each of those messages into a vector the SciKit Learn's algorithm models can work with.\n",
        "\n",
        "We'll do that in three steps using the bag-of-words model:\n",
        "\n",
        "Count how many times does a word occur in each message (Known as term frequency)\n",
        "Weigh the counts, so that frequent tokens get lower weight (inverse document frequency)\n",
        "Normalize the vectors to unit length, to abstract from the original text length (L2 norm)\n",
        "Let's begin the first step:\n",
        "\n",
        "Each vector will have as many dimensions as there are unique words in the SMS corpus. We will first use SciKit Learn's CountVectorizer. This model will convert a collection of text documents to a matrix of token counts.\n",
        "\n",
        "We can imagine this as a 2-Dimensional matrix. Where the 1-dimension is the entire vocabulary (1 row per word) and the other dimension are the actual documents, in this case a column per text message.\n",
        "\n",
        "![image.png](data:image/png;base64,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)"
      ],
      "metadata": {
        "id": "C8ReVPUbiGGc"
      }
    },
    {
      "cell_type": "code",
      "source": [
        "# how to define X and y (from the SMS data) for use with COUNTVECTORIZER\n",
        "x = df1['message_clean']\n",
        "y = df1['target_encoded']\n",
        "\n",
        "print(len(x), len(y))"
      ],
      "metadata": {
        "colab": {
          "base_uri": "https://localhost:8080/"
        },
        "id": "DS58_p0MiIBb",
        "outputId": "f2d0e4a2-2b5c-46cc-d7ff-41ce8f3a9010"
      },
      "execution_count": null,
      "outputs": [
        {
          "output_type": "stream",
          "name": "stdout",
          "text": [
            "5572 5572\n"
          ]
        }
      ]
    },
    {
      "cell_type": "code",
      "source": [
        "# Split into train and test sets\n",
        "from sklearn.model_selection import train_test_split\n",
        "\n",
        "x_train, x_test, y_train, y_test = train_test_split(x, y, random_state=42)\n",
        "print(len(x_train), len(y_train))\n",
        "print(len(x_test), len(y_test))"
      ],
      "metadata": {
        "colab": {
          "base_uri": "https://localhost:8080/"
        },
        "id": "Gdt44oxvkMUG",
        "outputId": "cc34d62a-381c-400b-90aa-35f30cd48359"
      },
      "execution_count": null,
      "outputs": [
        {
          "output_type": "stream",
          "name": "stdout",
          "text": [
            "4179 4179\n",
            "1393 1393\n"
          ]
        }
      ]
    },
    {
      "cell_type": "code",
      "source": [
        "from sklearn.feature_extraction.text import CountVectorizer\n",
        "\n",
        "# instantiate the vectorizer\n",
        "vect = CountVectorizer()\n",
        "vect.fit(x_train)"
      ],
      "metadata": {
        "colab": {
          "base_uri": "https://localhost:8080/"
        },
        "id": "cHI55OHlkQE7",
        "outputId": "d8ca5c8c-8305-45ae-e25e-c6df556e6d15"
      },
      "execution_count": null,
      "outputs": [
        {
          "output_type": "execute_result",
          "data": {
            "text/plain": [
              "CountVectorizer()"
            ]
          },
          "metadata": {},
          "execution_count": 296
        }
      ]
    },
    {
      "cell_type": "code",
      "source": [
        "# Use the trained to create a document-term matrix from train and test sets\n",
        "x_train_dtm = vect.transform(x_train)\n",
        "x_test_dtm = vect.transform(x_test)"
      ],
      "metadata": {
        "id": "VK2GAxy1kTpk"
      },
      "execution_count": null,
      "outputs": []
    },
    {
      "cell_type": "markdown",
      "source": [
        "###5.1 Tunning CountVectorizer\n",
        "\n",
        "CountVectorizer has a few parameters you should know.\n",
        "\n",
        "stop_words: Since CountVectorizer just counts the occurrences of each word in its vocabulary, extremely common words like ‘the’, ‘and’, etc. will become very important features while they add little meaning to the text. Your model can often be improved if you don’t take those words into account. Stop words are just a list of words you don’t want to use as features. You can set the parameter stop_words=’english’ to use a built-in list. Alternatively you can set stop_words equal to some custom list. This parameter defaults to None.\n",
        "\n",
        "ngram_range: An n-gram is just a string of n words in a row. E.g. the sentence ‘I am Groot’ contains the 2-grams ‘I am’ and ‘am Groot’. The sentence is itself a 3-gram. Set the parameter ngram_range=(a,b) where a is the minimum and b is the maximum size of ngrams you want to include in your features. The default ngram_range is (1,1). In a recent project where I modeled job postings online, I found that including 2-grams as features boosted my model’s predictive power significantly. This makes intuitive sense; many job titles such as ‘data scientist’, ‘data engineer’, and ‘data analyst’ are 2 words long.\n",
        "\n",
        "min_df, max_df: These are the minimum and maximum document frequencies words/n-grams must have to be used as features. If either of these parameters are set to integers, they will be used as bounds on the number of documents each feature must be in to be considered as a feature. If either is set to a float, that number will be interpreted as a frequency rather than a numerical limit. min_df defaults to 1 (int) and max_df defaults to 1.0 (float).\n",
        "\n",
        "max_features: This parameter is pretty self-explanatory. The CountVectorizer will choose the words/features that occur most frequently to be in its’ vocabulary and drop everything else.\n",
        "\n",
        "You would set these parameters when initializing your CountVectorizer object as shown below."
      ],
      "metadata": {
        "id": "H3HkjcrRkX6B"
      }
    },
    {
      "cell_type": "code",
      "source": [
        "vect_tunned = CountVectorizer(stop_words='english', ngram_range=(1,2), min_df=0.1, max_df=0.7, max_features=100)\n",
        "vect_tunned"
      ],
      "metadata": {
        "colab": {
          "base_uri": "https://localhost:8080/"
        },
        "id": "pySaEGvEkoYN",
        "outputId": "ef7c35a2-89fb-4764-d654-572c3434687e"
      },
      "execution_count": null,
      "outputs": [
        {
          "output_type": "execute_result",
          "data": {
            "text/plain": [
              "CountVectorizer(max_df=0.7, max_features=100, min_df=0.1, ngram_range=(1, 2),\n",
              "                stop_words='english')"
            ]
          },
          "metadata": {},
          "execution_count": 298
        }
      ]
    },
    {
      "cell_type": "markdown",
      "source": [
        "###5.2 TF-IDF\n",
        "\n",
        "In information retrieval, tf–idf, TF-IDF, or TFIDF, short for term frequency–inverse document frequency, is a numerical statistic that is intended to reflect how important a word is to a document in a collection or corpus It is often used as a weighting factor in searches of information retrieval, text mining, and user modeling. The tf–idf value increases proportionally to the number of times a word appears in the document and is offset by the number of documents in the corpus that contain the word, which helps to adjust for the fact that some words appear more frequently in general.\n",
        "\n",
        "tf–idf is one of the most popular term-weighting schemes today. A survey conducted in 2015 showed that 83% of text-based recommender systems in digital libraries use tf–idf.\n",
        "\n",
        "![image.png](data:image/png;base64,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)"
      ],
      "metadata": {
        "id": "LtKdT1yflTsj"
      }
    },
    {
      "cell_type": "code",
      "source": [
        "from sklearn.feature_extraction.text import TfidfTransformer\n",
        "\n",
        "tfidf_transformer = TfidfTransformer()\n",
        "\n",
        "tfidf_transformer.fit(x_train_dtm)\n",
        "x_train_tfidf = tfidf_transformer.transform(x_train_dtm)\n",
        "\n",
        "x_train_tfidf"
      ],
      "metadata": {
        "colab": {
          "base_uri": "https://localhost:8080/"
        },
        "id": "GKfhnze7llDL",
        "outputId": "e26df45e-4e88-440c-e682-8919e13e76ad"
      },
      "execution_count": null,
      "outputs": [
        {
          "output_type": "execute_result",
          "data": {
            "text/plain": [
              "<4179x6818 sparse matrix of type '<class 'numpy.float64'>'\n",
              "\twith 32615 stored elements in Compressed Sparse Row format>"
            ]
          },
          "metadata": {},
          "execution_count": 299
        }
      ]
    },
    {
      "cell_type": "markdown",
      "source": [
        "#**6. Modeling**"
      ],
      "metadata": {
        "id": "5nzd4y1dluDL"
      }
    },
    {
      "cell_type": "code",
      "source": [
        "import plotly.figure_factory as ff\n",
        "\n",
        "x_axes = ['Ham', 'Spam']\n",
        "y_axes =  ['Spam', 'Ham']\n",
        "\n",
        "def conf_matrix(z, x=x_axes, y=y_axes):\n",
        "    \n",
        "    z = np.flip(z, 0)\n",
        "\n",
        "    # change each element of z to type string for annotations\n",
        "    z_text = [[str(y) for y in x] for x in z]\n",
        "\n",
        "    # set up figure \n",
        "    fig = ff.create_annotated_heatmap(z, x=x, y=y, annotation_text=z_text, colorscale='Viridis')\n",
        "\n",
        "    # add title\n",
        "    fig.update_layout(title_text='<b>Confusion matrix</b>',\n",
        "                      xaxis = dict(title='Predicted value'),\n",
        "                      yaxis = dict(title='Real value')\n",
        "                     )\n",
        "\n",
        "    # add colorbar\n",
        "    fig['data'][0]['showscale'] = True\n",
        "    \n",
        "    return fig"
      ],
      "metadata": {
        "id": "W-hnx_s7lxJL"
      },
      "execution_count": null,
      "outputs": []
    },
    {
      "cell_type": "code",
      "source": [
        "# Create a Multinomial Naive Bayes model\n",
        "from sklearn.naive_bayes import MultinomialNB\n",
        "nb = MultinomialNB()\n",
        "\n",
        "# Train the model\n",
        "nb.fit(x_train_dtm, y_train)"
      ],
      "metadata": {
        "colab": {
          "base_uri": "https://localhost:8080/"
        },
        "id": "YqqFvCHtl7o7",
        "outputId": "293026fb-1829-495c-f067-5960025e7c28"
      },
      "execution_count": null,
      "outputs": [
        {
          "output_type": "execute_result",
          "data": {
            "text/plain": [
              "MultinomialNB()"
            ]
          },
          "metadata": {},
          "execution_count": 301
        }
      ]
    },
    {
      "cell_type": "markdown",
      "source": [
        "##**6.1 Naive Bayes**"
      ],
      "metadata": {
        "id": "bvPjT5C8mA-R"
      }
    },
    {
      "cell_type": "code",
      "source": [
        "from sklearn.feature_extraction.text import TfidfTransformer\n",
        "from sklearn.pipeline import Pipeline\n",
        "import sklearn.metrics as metrics\n",
        "\n",
        "pipe = Pipeline([('bow', CountVectorizer()), \n",
        "                 ('tfid', TfidfTransformer()),  \n",
        "                 ('model', MultinomialNB())])"
      ],
      "metadata": {
        "id": "G0EXON0MlxL5"
      },
      "execution_count": null,
      "outputs": []
    },
    {
      "cell_type": "code",
      "source": [
        "# Fit the pipeline with the data\n",
        "pipe.fit(x_train, y_train)\n",
        "\n",
        "y_pred_class = pipe.predict(x_test)\n",
        "\n",
        "print(metrics.accuracy_score(y_test, y_pred_class))\n",
        "\n",
        "conf_matrix(metrics.confusion_matrix(y_test, y_pred_class))"
      ],
      "metadata": {
        "colab": {
          "base_uri": "https://localhost:8080/",
          "height": 560
        },
        "id": "ZesM9j4kmUp_",
        "outputId": "bb407527-ea97-4020-9fe3-0dd4278e85ec"
      },
      "execution_count": null,
      "outputs": [
        {
          "output_type": "stream",
          "name": "stdout",
          "text": [
            "0.9583632447954056\n"
          ]
        },
        {
          "output_type": "display_data",
          "data": {
            "text/html": [
              "<html>\n",
              "<head><meta charset=\"utf-8\" /></head>\n",
              "<body>\n",
              "    <div>            <script src=\"https://cdnjs.cloudflare.com/ajax/libs/mathjax/2.7.5/MathJax.js?config=TeX-AMS-MML_SVG\"></script><script type=\"text/javascript\">if (window.MathJax) {MathJax.Hub.Config({SVG: {font: \"STIX-Web\"}});}</script>                <script type=\"text/javascript\">window.PlotlyConfig = {MathJaxConfig: 'local'};</script>\n",
              "        <script src=\"https://cdn.plot.ly/plotly-2.8.3.min.js\"></script>                <div id=\"4dadeb28-2953-4101-990d-9b2b03220eb4\" class=\"plotly-graph-div\" style=\"height:525px; width:100%;\"></div>            <script type=\"text/javascript\">                                    window.PLOTLYENV=window.PLOTLYENV || {};                                    if (document.getElementById(\"4dadeb28-2953-4101-990d-9b2b03220eb4\")) {                    Plotly.newPlot(                        \"4dadeb28-2953-4101-990d-9b2b03220eb4\",                        [{\"colorscale\":[[0.0,\"#440154\"],[0.1111111111111111,\"#482878\"],[0.2222222222222222,\"#3e4989\"],[0.3333333333333333,\"#31688e\"],[0.4444444444444444,\"#26828e\"],[0.5555555555555556,\"#1f9e89\"],[0.6666666666666666,\"#35b779\"],[0.7777777777777778,\"#6ece58\"],[0.8888888888888888,\"#b5de2b\"],[1.0,\"#fde725\"]],\"reversescale\":false,\"showscale\":true,\"x\":[\"Ham\",\"Spam\"],\"y\":[\"Spam\",\"Ham\"],\"z\":[[58,133],[1202,0]],\"type\":\"heatmap\"}],                        {\"annotations\":[{\"font\":{\"color\":\"#FFFFFF\"},\"showarrow\":false,\"text\":\"58\",\"x\":\"Ham\",\"xref\":\"x\",\"y\":\"Spam\",\"yref\":\"y\"},{\"font\":{\"color\":\"#FFFFFF\"},\"showarrow\":false,\"text\":\"133\",\"x\":\"Spam\",\"xref\":\"x\",\"y\":\"Spam\",\"yref\":\"y\"},{\"font\":{\"color\":\"#000000\"},\"showarrow\":false,\"text\":\"1202\",\"x\":\"Ham\",\"xref\":\"x\",\"y\":\"Ham\",\"yref\":\"y\"},{\"font\":{\"color\":\"#FFFFFF\"},\"showarrow\":false,\"text\":\"0\",\"x\":\"Spam\",\"xref\":\"x\",\"y\":\"Ham\",\"yref\":\"y\"}],\"xaxis\":{\"dtick\":1,\"gridcolor\":\"rgb(0, 0, 0)\",\"side\":\"top\",\"ticks\":\"\",\"title\":{\"text\":\"Predicted value\"}},\"yaxis\":{\"dtick\":1,\"ticks\":\"\",\"ticksuffix\":\"  \",\"title\":{\"text\":\"Real value\"}},\"template\":{\"data\":{\"bar\":[{\"error_x\":{\"color\":\"#2a3f5f\"},\"error_y\":{\"color\":\"#2a3f5f\"},\"marker\":{\"line\":{\"color\":\"#E5ECF6\",\"width\":0.5},\"pattern\":{\"fillmode\":\"overlay\",\"size\":10,\"solidity\":0.2}},\"type\":\"bar\"}],\"barpolar\":[{\"marker\":{\"line\":{\"color\":\"#E5ECF6\",\"width\":0.5},\"pattern\":{\"fillmode\":\"overlay\",\"size\":10,\"solidity\":0.2}},\"type\":\"barpolar\"}],\"carpet\":[{\"aaxis\":{\"endlinecolor\":\"#2a3f5f\",\"gridcolor\":\"white\",\"linecolor\":\"white\",\"minorgridcolor\":\"white\",\"startlinecolor\":\"#2a3f5f\"},\"baxis\":{\"endlinecolor\":\"#2a3f5f\",\"gridcolor\":\"white\",\"linecolor\":\"white\",\"minorgridcolor\":\"white\",\"startlinecolor\":\"#2a3f5f\"},\"type\":\"carpet\"}],\"choropleth\":[{\"colorbar\":{\"outlinewidth\":0,\"ticks\":\"\"},\"type\":\"choropleth\"}],\"contour\":[{\"colorbar\":{\"outlinewidth\":0,\"ticks\":\"\"},\"colorscale\":[[0.0,\"#0d0887\"],[0.1111111111111111,\"#46039f\"],[0.2222222222222222,\"#7201a8\"],[0.3333333333333333,\"#9c179e\"],[0.4444444444444444,\"#bd3786\"],[0.5555555555555556,\"#d8576b\"],[0.6666666666666666,\"#ed7953\"],[0.7777777777777778,\"#fb9f3a\"],[0.8888888888888888,\"#fdca26\"],[1.0,\"#f0f921\"]],\"type\":\"contour\"}],\"contourcarpet\":[{\"colorbar\":{\"outlinewidth\":0,\"ticks\":\"\"},\"type\":\"contourcarpet\"}],\"heatmap\":[{\"colorbar\":{\"outlinewidth\":0,\"ticks\":\"\"},\"colorscale\":[[0.0,\"#0d0887\"],[0.1111111111111111,\"#46039f\"],[0.2222222222222222,\"#7201a8\"],[0.3333333333333333,\"#9c179e\"],[0.4444444444444444,\"#bd3786\"],[0.5555555555555556,\"#d8576b\"],[0.6666666666666666,\"#ed7953\"],[0.7777777777777778,\"#fb9f3a\"],[0.8888888888888888,\"#fdca26\"],[1.0,\"#f0f921\"]],\"type\":\"heatmap\"}],\"heatmapgl\":[{\"colorbar\":{\"outlinewidth\":0,\"ticks\":\"\"},\"colorscale\":[[0.0,\"#0d0887\"],[0.1111111111111111,\"#46039f\"],[0.2222222222222222,\"#7201a8\"],[0.3333333333333333,\"#9c179e\"],[0.4444444444444444,\"#bd3786\"],[0.5555555555555556,\"#d8576b\"],[0.6666666666666666,\"#ed7953\"],[0.7777777777777778,\"#fb9f3a\"],[0.8888888888888888,\"#fdca26\"],[1.0,\"#f0f921\"]],\"type\":\"heatmapgl\"}],\"histogram\":[{\"marker\":{\"pattern\":{\"fillmode\":\"overlay\",\"size\":10,\"solidity\":0.2}},\"type\":\"histogram\"}],\"histogram2d\":[{\"colorbar\":{\"outlinewidth\":0,\"ticks\":\"\"},\"colorscale\":[[0.0,\"#0d0887\"],[0.1111111111111111,\"#46039f\"],[0.2222222222222222,\"#7201a8\"],[0.3333333333333333,\"#9c179e\"],[0.4444444444444444,\"#bd3786\"],[0.5555555555555556,\"#d8576b\"],[0.6666666666666666,\"#ed7953\"],[0.7777777777777778,\"#fb9f3a\"],[0.8888888888888888,\"#fdca26\"],[1.0,\"#f0f921\"]],\"type\":\"histogram2d\"}],\"histogram2dcontour\":[{\"colorbar\":{\"outlinewidth\":0,\"ticks\":\"\"},\"colorscale\":[[0.0,\"#0d0887\"],[0.1111111111111111,\"#46039f\"],[0.2222222222222222,\"#7201a8\"],[0.3333333333333333,\"#9c179e\"],[0.4444444444444444,\"#bd3786\"],[0.5555555555555556,\"#d8576b\"],[0.6666666666666666,\"#ed7953\"],[0.7777777777777778,\"#fb9f3a\"],[0.8888888888888888,\"#fdca26\"],[1.0,\"#f0f921\"]],\"type\":\"histogram2dcontour\"}],\"mesh3d\":[{\"colorbar\":{\"outlinewidth\":0,\"ticks\":\"\"},\"type\":\"mesh3d\"}],\"parcoords\":[{\"line\":{\"colorbar\":{\"outlinewidth\":0,\"ticks\":\"\"}},\"type\":\"parcoords\"}],\"pie\":[{\"automargin\":true,\"type\":\"pie\"}],\"scatter\":[{\"marker\":{\"colorbar\":{\"outlinewidth\":0,\"ticks\":\"\"}},\"type\":\"scatter\"}],\"scatter3d\":[{\"line\":{\"colorbar\":{\"outlinewidth\":0,\"ticks\":\"\"}},\"marker\":{\"colorbar\":{\"outlinewidth\":0,\"ticks\":\"\"}},\"type\":\"scatter3d\"}],\"scattercarpet\":[{\"marker\":{\"colorbar\":{\"outlinewidth\":0,\"ticks\":\"\"}},\"type\":\"scattercarpet\"}],\"scattergeo\":[{\"marker\":{\"colorbar\":{\"outlinewidth\":0,\"ticks\":\"\"}},\"type\":\"scattergeo\"}],\"scattergl\":[{\"marker\":{\"colorbar\":{\"outlinewidth\":0,\"ticks\":\"\"}},\"type\":\"scattergl\"}],\"scattermapbox\":[{\"marker\":{\"colorbar\":{\"outlinewidth\":0,\"ticks\":\"\"}},\"type\":\"scattermapbox\"}],\"scatterpolar\":[{\"marker\":{\"colorbar\":{\"outlinewidth\":0,\"ticks\":\"\"}},\"type\":\"scatterpolar\"}],\"scatterpolargl\":[{\"marker\":{\"colorbar\":{\"outlinewidth\":0,\"ticks\":\"\"}},\"type\":\"scatterpolargl\"}],\"scatterternary\":[{\"marker\":{\"colorbar\":{\"outlinewidth\":0,\"ticks\":\"\"}},\"type\":\"scatterternary\"}],\"surface\":[{\"colorbar\":{\"outlinewidth\":0,\"ticks\":\"\"},\"colorscale\":[[0.0,\"#0d0887\"],[0.1111111111111111,\"#46039f\"],[0.2222222222222222,\"#7201a8\"],[0.3333333333333333,\"#9c179e\"],[0.4444444444444444,\"#bd3786\"],[0.5555555555555556,\"#d8576b\"],[0.6666666666666666,\"#ed7953\"],[0.7777777777777778,\"#fb9f3a\"],[0.8888888888888888,\"#fdca26\"],[1.0,\"#f0f921\"]],\"type\":\"surface\"}],\"table\":[{\"cells\":{\"fill\":{\"color\":\"#EBF0F8\"},\"line\":{\"color\":\"white\"}},\"header\":{\"fill\":{\"color\":\"#C8D4E3\"},\"line\":{\"color\":\"white\"}},\"type\":\"table\"}]},\"layout\":{\"annotationdefaults\":{\"arrowcolor\":\"#2a3f5f\",\"arrowhead\":0,\"arrowwidth\":1},\"autotypenumbers\":\"strict\",\"coloraxis\":{\"colorbar\":{\"outlinewidth\":0,\"ticks\":\"\"}},\"colorscale\":{\"diverging\":[[0,\"#8e0152\"],[0.1,\"#c51b7d\"],[0.2,\"#de77ae\"],[0.3,\"#f1b6da\"],[0.4,\"#fde0ef\"],[0.5,\"#f7f7f7\"],[0.6,\"#e6f5d0\"],[0.7,\"#b8e186\"],[0.8,\"#7fbc41\"],[0.9,\"#4d9221\"],[1,\"#276419\"]],\"sequential\":[[0.0,\"#0d0887\"],[0.1111111111111111,\"#46039f\"],[0.2222222222222222,\"#7201a8\"],[0.3333333333333333,\"#9c179e\"],[0.4444444444444444,\"#bd3786\"],[0.5555555555555556,\"#d8576b\"],[0.6666666666666666,\"#ed7953\"],[0.7777777777777778,\"#fb9f3a\"],[0.8888888888888888,\"#fdca26\"],[1.0,\"#f0f921\"]],\"sequentialminus\":[[0.0,\"#0d0887\"],[0.1111111111111111,\"#46039f\"],[0.2222222222222222,\"#7201a8\"],[0.3333333333333333,\"#9c179e\"],[0.4444444444444444,\"#bd3786\"],[0.5555555555555556,\"#d8576b\"],[0.6666666666666666,\"#ed7953\"],[0.7777777777777778,\"#fb9f3a\"],[0.8888888888888888,\"#fdca26\"],[1.0,\"#f0f921\"]]},\"colorway\":[\"#636efa\",\"#EF553B\",\"#00cc96\",\"#ab63fa\",\"#FFA15A\",\"#19d3f3\",\"#FF6692\",\"#B6E880\",\"#FF97FF\",\"#FECB52\"],\"font\":{\"color\":\"#2a3f5f\"},\"geo\":{\"bgcolor\":\"white\",\"lakecolor\":\"white\",\"landcolor\":\"#E5ECF6\",\"showlakes\":true,\"showland\":true,\"subunitcolor\":\"white\"},\"hoverlabel\":{\"align\":\"left\"},\"hovermode\":\"closest\",\"mapbox\":{\"style\":\"light\"},\"paper_bgcolor\":\"white\",\"plot_bgcolor\":\"#E5ECF6\",\"polar\":{\"angularaxis\":{\"gridcolor\":\"white\",\"linecolor\":\"white\",\"ticks\":\"\"},\"bgcolor\":\"#E5ECF6\",\"radialaxis\":{\"gridcolor\":\"white\",\"linecolor\":\"white\",\"ticks\":\"\"}},\"scene\":{\"xaxis\":{\"backgroundcolor\":\"#E5ECF6\",\"gridcolor\":\"white\",\"gridwidth\":2,\"linecolor\":\"white\",\"showbackground\":true,\"ticks\":\"\",\"zerolinecolor\":\"white\"},\"yaxis\":{\"backgroundcolor\":\"#E5ECF6\",\"gridcolor\":\"white\",\"gridwidth\":2,\"linecolor\":\"white\",\"showbackground\":true,\"ticks\":\"\",\"zerolinecolor\":\"white\"},\"zaxis\":{\"backgroundcolor\":\"#E5ECF6\",\"gridcolor\":\"white\",\"gridwidth\":2,\"linecolor\":\"white\",\"showbackground\":true,\"ticks\":\"\",\"zerolinecolor\":\"white\"}},\"shapedefaults\":{\"line\":{\"color\":\"#2a3f5f\"}},\"ternary\":{\"aaxis\":{\"gridcolor\":\"white\",\"linecolor\":\"white\",\"ticks\":\"\"},\"baxis\":{\"gridcolor\":\"white\",\"linecolor\":\"white\",\"ticks\":\"\"},\"bgcolor\":\"#E5ECF6\",\"caxis\":{\"gridcolor\":\"white\",\"linecolor\":\"white\",\"ticks\":\"\"}},\"title\":{\"x\":0.05},\"xaxis\":{\"automargin\":true,\"gridcolor\":\"white\",\"linecolor\":\"white\",\"ticks\":\"\",\"title\":{\"standoff\":15},\"zerolinecolor\":\"white\",\"zerolinewidth\":2},\"yaxis\":{\"automargin\":true,\"gridcolor\":\"white\",\"linecolor\":\"white\",\"ticks\":\"\",\"title\":{\"standoff\":15},\"zerolinecolor\":\"white\",\"zerolinewidth\":2}}},\"title\":{\"text\":\"<b>Confusion matrix</b>\"}},                        {\"responsive\": true}                    ).then(function(){\n",
              "                            \n",
              "var gd = document.getElementById('4dadeb28-2953-4101-990d-9b2b03220eb4');\n",
              "var x = new MutationObserver(function (mutations, observer) {{\n",
              "        var display = window.getComputedStyle(gd).display;\n",
              "        if (!display || display === 'none') {{\n",
              "            console.log([gd, 'removed!']);\n",
              "            Plotly.purge(gd);\n",
              "            observer.disconnect();\n",
              "        }}\n",
              "}});\n",
              "\n",
              "// Listen for the removal of the full notebook cells\n",
              "var notebookContainer = gd.closest('#notebook-container');\n",
              "if (notebookContainer) {{\n",
              "    x.observe(notebookContainer, {childList: true});\n",
              "}}\n",
              "\n",
              "// Listen for the clearing of the current output cell\n",
              "var outputEl = gd.closest('.output');\n",
              "if (outputEl) {{\n",
              "    x.observe(outputEl, {childList: true});\n",
              "}}\n",
              "\n",
              "                        })                };                            </script>        </div>\n",
              "</body>\n",
              "</html>"
            ]
          },
          "metadata": {}
        }
      ]
    }
  ]
}