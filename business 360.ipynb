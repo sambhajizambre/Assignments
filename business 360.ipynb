{
  "nbformat": 4,
  "nbformat_minor": 0,
  "metadata": {
    "colab": {
      "provenance": [],
      "authorship_tag": "ABX9TyO77SZnyJ5Ujvbunz4tMuVU",
      "include_colab_link": true
    },
    "kernelspec": {
      "name": "python3",
      "display_name": "Python 3"
    },
    "language_info": {
      "name": "python"
    }
  },
  "cells": [
    {
      "cell_type": "markdown",
      "metadata": {
        "id": "view-in-github",
        "colab_type": "text"
      },
      "source": [
        "<a href=\"https://colab.research.google.com/github/sambhajizambre/Assignments/blob/main/business%20360.ipynb\" target=\"_parent\"><img src=\"https://colab.research.google.com/assets/colab-badge.svg\" alt=\"Open In Colab\"/></a>"
      ]
    },
    {
      "cell_type": "markdown",
      "source": [
        "**Business-Insights 36**0\n",
        "Live Dashboard- https://app.powerbi.com/view?r=eyJrIjoiNDIwMmQyY2YtZmYzOC00MWE3LTk0YTUtMjBhODYwYzUxZmE0IiwidCI6ImM2ZTU0OWIzLTVmNDUtNDAzMi1hYWU5LWQ0MjQ0ZGM1YjJjNCJ9\n",
        "\n",
        "**Project Overview**  \n",
        "AtliQ Hardware is growing rapidly in the recent years, and they have decided to implement the data analytics using PowerBi in their company for the first time to surpass their competitors in the market and to make data driven decisions. This project is hoped to give answers to the questions of stakeholder in terms all the aspects like finance, sales, marketing and supply chain.\n",
        "\n",
        "**Tools Used**  \n",
        "SQL  \n",
        "Power BI Desktop  \n",
        "Excel  \n",
        "DAX language  \n",
        "DAX studio (for optimizing the report)  \n",
        "**PowerBi Techniques Used**  \n",
        "What are all the questions should be asked before staring the project   \n",
        "Project Charter  \n",
        "Creating calculated columns  \n",
        "Using Power Query for Data cleaning  \n",
        "Creating measure using DAX language  \n",
        "Data modeling  \n",
        "Toggle visuals using bookmarks  \n",
        "Page navigation with buttons  \n",
        "Using Calculate, switch, divide function to prevent zero division errors and many other Dax formulas creating date table using m language  \n",
        "Dynamic titles based on the applied filters  \n",
        "Using KPI indicators  \n",
        "Conditional formatting the values in visuals using icons or background color  \n",
        "Data validation techniques  \n",
        "PowerBi services  \n",
        "Importance of Sharepoint  \n",
        "Publishing reports to PowerBi services  \n",
        "Setting up personal gateway to set up the auto refresh of data  \n",
        "PowerBi App creation  \n",
        "Collaboration, workspace, access permissions in PowerBi services  \n",
        "Domain Knowledge  \n",
        "Finance, Marketing, Sales  \n",
        "\n",
        "**Business Related Terms**  \n",
        "Gross price  \n",
        "Pre-invoice deductions  \n",
        "Post-Invoice deductions  \n",
        "Net Invoice sale  \n",
        "Gross Margin  \n",
        "Net sales  \n",
        "Net profit  \n",
        "COGC - cost of goods sold  \n",
        "YTD - Year to Date  \n",
        "YTG - Year to Go  \n",
        "Direct  \n",
        "Retailer  \n",
        "Distributors  \n",
        "Consumer"
      ],
      "metadata": {
        "id": "ey7e7W0iX0-J"
      }
    }
  ]
}